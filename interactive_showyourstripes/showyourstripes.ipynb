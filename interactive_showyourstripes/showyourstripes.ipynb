{
 "cells": [
  {
   "cell_type": "code",
   "execution_count": 45,
   "metadata": {},
   "outputs": [],
   "source": [
    "import pandas as pd\n",
    "import numpy as np\n",
    "from sklearn.linear_model import LinearRegression\n",
    "from datetime import datetime\n",
    "import plotly.graph_objects as go\n",
    "from plotly.subplots import make_subplots\n",
    "import plotly.io as pio"
   ]
  },
  {
   "cell_type": "code",
   "execution_count": 46,
   "metadata": {},
   "outputs": [],
   "source": [
    "c_to_f = lambda c :(9/5)*c + 32"
   ]
  },
  {
   "cell_type": "code",
   "execution_count": 47,
   "metadata": {},
   "outputs": [
    {
     "data": {
      "text/html": [
       "<div>\n",
       "<style scoped>\n",
       "    .dataframe tbody tr th:only-of-type {\n",
       "        vertical-align: middle;\n",
       "    }\n",
       "\n",
       "    .dataframe tbody tr th {\n",
       "        vertical-align: top;\n",
       "    }\n",
       "\n",
       "    .dataframe thead th {\n",
       "        text-align: right;\n",
       "    }\n",
       "</style>\n",
       "<table border=\"1\" class=\"dataframe\">\n",
       "  <thead>\n",
       "    <tr style=\"text-align: right;\">\n",
       "      <th></th>\n",
       "      <th>year</th>\n",
       "      <th>month</th>\n",
       "      <th>day</th>\n",
       "      <th>3</th>\n",
       "      <th>4</th>\n",
       "      <th>sst</th>\n",
       "      <th>6</th>\n",
       "      <th>7</th>\n",
       "      <th>8</th>\n",
       "      <th>date</th>\n",
       "    </tr>\n",
       "  </thead>\n",
       "  <tbody>\n",
       "    <tr>\n",
       "      <th>114</th>\n",
       "      <td>1917</td>\n",
       "      <td>1</td>\n",
       "      <td>1</td>\n",
       "      <td>NaN</td>\n",
       "      <td>NaN</td>\n",
       "      <td>NaN</td>\n",
       "      <td>0</td>\n",
       "      <td>NaN</td>\n",
       "      <td>NaN</td>\n",
       "      <td>1917-01-01</td>\n",
       "    </tr>\n",
       "    <tr>\n",
       "      <th>115</th>\n",
       "      <td>1917</td>\n",
       "      <td>1</td>\n",
       "      <td>2</td>\n",
       "      <td>NaN</td>\n",
       "      <td>NaN</td>\n",
       "      <td>11.5</td>\n",
       "      <td>0</td>\n",
       "      <td>NaN</td>\n",
       "      <td>NaN</td>\n",
       "      <td>1917-01-02</td>\n",
       "    </tr>\n",
       "    <tr>\n",
       "      <th>116</th>\n",
       "      <td>1917</td>\n",
       "      <td>1</td>\n",
       "      <td>3</td>\n",
       "      <td>NaN</td>\n",
       "      <td>NaN</td>\n",
       "      <td>11.9</td>\n",
       "      <td>0</td>\n",
       "      <td>NaN</td>\n",
       "      <td>NaN</td>\n",
       "      <td>1917-01-03</td>\n",
       "    </tr>\n",
       "    <tr>\n",
       "      <th>117</th>\n",
       "      <td>1917</td>\n",
       "      <td>1</td>\n",
       "      <td>4</td>\n",
       "      <td>NaN</td>\n",
       "      <td>NaN</td>\n",
       "      <td>11.5</td>\n",
       "      <td>0</td>\n",
       "      <td>NaN</td>\n",
       "      <td>NaN</td>\n",
       "      <td>1917-01-04</td>\n",
       "    </tr>\n",
       "    <tr>\n",
       "      <th>118</th>\n",
       "      <td>1917</td>\n",
       "      <td>1</td>\n",
       "      <td>5</td>\n",
       "      <td>NaN</td>\n",
       "      <td>NaN</td>\n",
       "      <td>11.7</td>\n",
       "      <td>0</td>\n",
       "      <td>NaN</td>\n",
       "      <td>NaN</td>\n",
       "      <td>1917-01-05</td>\n",
       "    </tr>\n",
       "    <tr>\n",
       "      <th>...</th>\n",
       "      <td>...</td>\n",
       "      <td>...</td>\n",
       "      <td>...</td>\n",
       "      <td>...</td>\n",
       "      <td>...</td>\n",
       "      <td>...</td>\n",
       "      <td>...</td>\n",
       "      <td>...</td>\n",
       "      <td>...</td>\n",
       "      <td>...</td>\n",
       "    </tr>\n",
       "    <tr>\n",
       "      <th>38825</th>\n",
       "      <td>2022</td>\n",
       "      <td>12</td>\n",
       "      <td>27</td>\n",
       "      <td>1440.0</td>\n",
       "      <td>0.0</td>\n",
       "      <td>14.7</td>\n",
       "      <td>0</td>\n",
       "      <td>14.6</td>\n",
       "      <td>0.0</td>\n",
       "      <td>2022-12-27</td>\n",
       "    </tr>\n",
       "    <tr>\n",
       "      <th>38826</th>\n",
       "      <td>2022</td>\n",
       "      <td>12</td>\n",
       "      <td>28</td>\n",
       "      <td>1320.0</td>\n",
       "      <td>0.0</td>\n",
       "      <td>15.1</td>\n",
       "      <td>0</td>\n",
       "      <td>14.9</td>\n",
       "      <td>0.0</td>\n",
       "      <td>2022-12-28</td>\n",
       "    </tr>\n",
       "    <tr>\n",
       "      <th>38827</th>\n",
       "      <td>2022</td>\n",
       "      <td>12</td>\n",
       "      <td>29</td>\n",
       "      <td>1430.0</td>\n",
       "      <td>0.0</td>\n",
       "      <td>14.9</td>\n",
       "      <td>0</td>\n",
       "      <td>14.9</td>\n",
       "      <td>0.0</td>\n",
       "      <td>2022-12-29</td>\n",
       "    </tr>\n",
       "    <tr>\n",
       "      <th>38828</th>\n",
       "      <td>2022</td>\n",
       "      <td>12</td>\n",
       "      <td>30</td>\n",
       "      <td>1719.0</td>\n",
       "      <td>0.0</td>\n",
       "      <td>15.3</td>\n",
       "      <td>0</td>\n",
       "      <td>15.1</td>\n",
       "      <td>0.0</td>\n",
       "      <td>2022-12-30</td>\n",
       "    </tr>\n",
       "    <tr>\n",
       "      <th>38829</th>\n",
       "      <td>2022</td>\n",
       "      <td>12</td>\n",
       "      <td>31</td>\n",
       "      <td>1143.0</td>\n",
       "      <td>0.0</td>\n",
       "      <td>15.1</td>\n",
       "      <td>0</td>\n",
       "      <td>15.1</td>\n",
       "      <td>0.0</td>\n",
       "      <td>2022-12-31</td>\n",
       "    </tr>\n",
       "  </tbody>\n",
       "</table>\n",
       "<p>38716 rows × 10 columns</p>\n",
       "</div>"
      ],
      "text/plain": [
       "       year  month  day       3    4   sst  6     7    8       date\n",
       "114    1917      1    1     NaN  NaN   NaN  0   NaN  NaN 1917-01-01\n",
       "115    1917      1    2     NaN  NaN  11.5  0   NaN  NaN 1917-01-02\n",
       "116    1917      1    3     NaN  NaN  11.9  0   NaN  NaN 1917-01-03\n",
       "117    1917      1    4     NaN  NaN  11.5  0   NaN  NaN 1917-01-04\n",
       "118    1917      1    5     NaN  NaN  11.7  0   NaN  NaN 1917-01-05\n",
       "...     ...    ...  ...     ...  ...   ... ..   ...  ...        ...\n",
       "38825  2022     12   27  1440.0  0.0  14.7  0  14.6  0.0 2022-12-27\n",
       "38826  2022     12   28  1320.0  0.0  15.1  0  14.9  0.0 2022-12-28\n",
       "38827  2022     12   29  1430.0  0.0  14.9  0  14.9  0.0 2022-12-29\n",
       "38828  2022     12   30  1719.0  0.0  15.3  0  15.1  0.0 2022-12-30\n",
       "38829  2022     12   31  1143.0  0.0  15.1  0  15.1  0.0 2022-12-31\n",
       "\n",
       "[38716 rows x 10 columns]"
      ]
     },
     "execution_count": 47,
     "metadata": {},
     "output_type": "execute_result"
    }
   ],
   "source": [
    "#read in .xls to df\n",
    "df=pd.read_excel(\"../n_obs/SIO_TEMP_20230501.xls\",skiprows=47, header=None) #change excel filename\n",
    "df = df.rename(columns={0: 'year',\n",
    "                        1: 'month',\n",
    "                        2: 'day',\n",
    "                        5: 'sst'})\n",
    "df = df[(df['year'] > 1916) & (df['year'] < 2023)] #exclude partial years 1916 & 2023\n",
    "df['date'] = pd.to_datetime(df[['year','month','day']])\n",
    "df"
   ]
  },
  {
   "cell_type": "code",
   "execution_count": 48,
   "metadata": {},
   "outputs": [
    {
     "data": {
      "text/plain": [
       "['<b>1917</b><br><span style=\"color: #67000d;\">Warmest: 23.1°C / 73.6°F on Jul 30</span><br>Average: 16.7°C / 62.1°F <br><span style=\"color: #08306b;\">Coldest: 11.3°C / 52.3°F on Jan 16</span><br>',\n",
       " '<b>1918</b><br><span style=\"color: #67000d;\">Warmest: 22.9°C / 73.2°F on Aug 2</span><br>Average: 17.4°C / 63.3°F <br><span style=\"color: #08306b;\">Coldest: 12.5°C / 54.5°F on Feb 11</span><br>',\n",
       " '<b>1919</b><br><span style=\"color: #67000d;\">Warmest: 22.8°C / 73.0°F on Jul 18</span><br>Average: 16.8°C / 62.3°F <br><span style=\"color: #08306b;\">Coldest: 11.7°C / 53.1°F on Mar 15</span><br>',\n",
       " '<b>1920</b><br><span style=\"color: #67000d;\">Warmest: 22.6°C / 72.7°F on Aug 10</span><br>Average: 16.6°C / 61.8°F <br><span style=\"color: #08306b;\">Coldest: 12.0°C / 53.6°F on Feb 3</span><br>',\n",
       " '<b>1921</b><br><span style=\"color: #67000d;\">Warmest: 23.3°C / 73.9°F on Jul 24</span><br>Average: 16.5°C / 61.8°F <br><span style=\"color: #08306b;\">Coldest: 12.5°C / 54.5°F on Feb 15</span><br>',\n",
       " '<b>1922</b><br><span style=\"color: #67000d;\">Warmest: 22.8°C / 73.0°F on Aug 28</span><br>Average: 16.5°C / 61.8°F <br><span style=\"color: #08306b;\">Coldest: 11.8°C / 53.2°F on Apr 18</span><br>',\n",
       " '<b>1923</b><br><span style=\"color: #67000d;\">Warmest: 22.5°C / 72.5°F on Aug 27</span><br>Average: 17.3°C / 63.2°F <br><span style=\"color: #08306b;\">Coldest: 12.7°C / 54.9°F on Dec 12</span><br>',\n",
       " '<b>1924</b><br><span style=\"color: #67000d;\">Warmest: 22.3°C / 72.1°F on Aug 13</span><br>Average: 16.4°C / 61.6°F <br><span style=\"color: #08306b;\">Coldest: 12.5°C / 54.5°F on Dec 24</span><br>',\n",
       " '<b>1925</b><br><span style=\"color: #67000d;\">Warmest: 22.9°C / 73.2°F on Jul 22</span><br>Average: 17.0°C / 62.7°F <br><span style=\"color: #08306b;\">Coldest: 12.3°C / 54.1°F on Jan 10</span><br>',\n",
       " '<b>1926</b><br><span style=\"color: #67000d;\">Warmest: 22.9°C / 73.2°F on Jul 4</span><br>Average: 18.1°C / 64.5°F <br><span style=\"color: #08306b;\">Coldest: 13.9°C / 57.0°F on Sep 12</span><br>',\n",
       " '<b>1927</b><br><span style=\"color: #67000d;\">Warmest: 21.8°C / 71.2°F on Jul 25</span><br>Average: 16.9°C / 62.4°F <br><span style=\"color: #08306b;\">Coldest: 11.7°C / 53.1°F on Apr 28</span><br>',\n",
       " '<b>1928</b><br><span style=\"color: #67000d;\">Warmest: 22.2°C / 72.0°F on Aug 14</span><br>Average: 16.7°C / 62.1°F <br><span style=\"color: #08306b;\">Coldest: 12.6°C / 54.7°F on Mar 30</span><br>',\n",
       " '<b>1929</b><br><span style=\"color: #67000d;\">Warmest: 23.4°C / 74.1°F on Aug 18</span><br>Average: 17.2°C / 63.0°F <br><span style=\"color: #08306b;\">Coldest: 12.5°C / 54.5°F on Feb 18</span><br>',\n",
       " '<b>1930</b><br><span style=\"color: #67000d;\">Warmest: 23.7°C / 74.7°F on Aug 24</span><br>Average: 17.5°C / 63.4°F <br><span style=\"color: #08306b;\">Coldest: 13.4°C / 56.1°F on Mar 15</span><br>',\n",
       " '<b>1931</b><br><span style=\"color: #67000d;\">Warmest: 25.8°C / 78.4°F on Jul 30</span><br>Average: 18.5°C / 65.3°F <br><span style=\"color: #08306b;\">Coldest: 12.5°C / 54.5°F on Dec 14</span><br>',\n",
       " '<b>1932</b><br><span style=\"color: #67000d;\">Warmest: 21.0°C / 69.8°F on Jul 17</span><br>Average: 16.3°C / 61.4°F <br><span style=\"color: #08306b;\">Coldest: 12.1°C / 53.8°F on May 3</span><br>',\n",
       " '<b>1933</b><br><span style=\"color: #67000d;\">Warmest: 21.3°C / 70.3°F on Aug 2</span><br>Average: 15.7°C / 60.2°F <br><span style=\"color: #08306b;\">Coldest: 11.9°C / 53.4°F on Mar 27</span><br>',\n",
       " '<b>1934</b><br><span style=\"color: #67000d;\">Warmest: 22.0°C / 71.6°F on Aug 12</span><br>Average: 17.6°C / 63.6°F <br><span style=\"color: #08306b;\">Coldest: 12.1°C / 53.8°F on Jan 9</span><br>',\n",
       " '<b>1935</b><br><span style=\"color: #67000d;\">Warmest: 23.2°C / 73.8°F on Aug 12</span><br>Average: 16.7°C / 62.1°F <br><span style=\"color: #08306b;\">Coldest: 12.0°C / 53.6°F on Mar 10</span><br>',\n",
       " '<b>1936</b><br><span style=\"color: #67000d;\">Warmest: 23.9°C / 75.0°F on Jul 21</span><br>Average: 17.6°C / 63.7°F <br><span style=\"color: #08306b;\">Coldest: 11.7°C / 53.1°F on Apr 30</span><br>',\n",
       " '<b>1937</b><br><span style=\"color: #67000d;\">Warmest: 22.1°C / 71.8°F on Sep 1</span><br>Average: 17.1°C / 62.7°F <br><span style=\"color: #08306b;\">Coldest: 12.0°C / 53.6°F on Jan 22</span><br>',\n",
       " '<b>1938</b><br><span style=\"color: #67000d;\">Warmest: 22.2°C / 72.0°F on Aug 6</span><br>Average: 16.7°C / 62.0°F <br><span style=\"color: #08306b;\">Coldest: 12.2°C / 54.0°F on Mar 26</span><br>',\n",
       " '<b>1939</b><br><span style=\"color: #67000d;\">Warmest: 22.5°C / 72.5°F on Aug 4</span><br>Average: 17.2°C / 63.0°F <br><span style=\"color: #08306b;\">Coldest: 10.8°C / 51.4°F on Feb 18</span><br>',\n",
       " '<b>1940</b><br><span style=\"color: #67000d;\">Warmest: 22.3°C / 72.1°F on Aug 10</span><br>Average: 17.4°C / 63.3°F <br><span style=\"color: #08306b;\">Coldest: 14.0°C / 57.2°F on Mar 15</span><br>',\n",
       " '<b>1941</b><br><span style=\"color: #67000d;\">Warmest: 21.6°C / 70.9°F on Aug 8</span><br>Average: 17.7°C / 63.8°F <br><span style=\"color: #08306b;\">Coldest: 13.9°C / 57.0°F on Apr 29</span><br>',\n",
       " '<b>1942</b><br><span style=\"color: #67000d;\">Warmest: 22.2°C / 72.0°F on Aug 21</span><br>Average: 17.0°C / 62.7°F <br><span style=\"color: #08306b;\">Coldest: 13.5°C / 56.3°F on Feb 12</span><br>',\n",
       " '<b>1943</b><br><span style=\"color: #67000d;\">Warmest: 22.9°C / 73.2°F on Aug 4</span><br>Average: 17.0°C / 62.6°F <br><span style=\"color: #08306b;\">Coldest: 13.4°C / 56.1°F on Jan 9</span><br>',\n",
       " '<b>1944</b><br><span style=\"color: #67000d;\">Warmest: 21.3°C / 70.3°F on Aug 18</span><br>Average: 16.5°C / 61.7°F <br><span style=\"color: #08306b;\">Coldest: 13.1°C / 55.6°F on Feb 27</span><br>',\n",
       " '<b>1945</b><br><span style=\"color: #67000d;\">Warmest: 22.9°C / 73.2°F on Aug 6</span><br>Average: 16.6°C / 61.9°F <br><span style=\"color: #08306b;\">Coldest: 11.4°C / 52.5°F on Mar 25</span><br>',\n",
       " '<b>1946</b><br><span style=\"color: #67000d;\">Warmest: 23.5°C / 74.3°F on Aug 14</span><br>Average: 16.9°C / 62.3°F <br><span style=\"color: #08306b;\">Coldest: 11.2°C / 52.2°F on Jan 14</span><br>',\n",
       " '<b>1947</b><br><span style=\"color: #67000d;\">Warmest: 23.6°C / 74.5°F on Aug 9</span><br>Average: 16.9°C / 62.4°F <br><span style=\"color: #08306b;\">Coldest: 12.3°C / 54.1°F on Dec 31</span><br>',\n",
       " '<b>1948</b><br><span style=\"color: #67000d;\">Warmest: 21.0°C / 69.8°F on Aug 16</span><br>Average: 16.1°C / 61.0°F <br><span style=\"color: #08306b;\">Coldest: 12.5°C / 54.5°F on Feb 13</span><br>',\n",
       " '<b>1949</b><br><span style=\"color: #67000d;\">Warmest: 22.5°C / 72.5°F on Sep 9</span><br>Average: 16.5°C / 61.8°F <br><span style=\"color: #08306b;\">Coldest: 11.3°C / 52.3°F on Jan 11</span><br>',\n",
       " '<b>1950</b><br><span style=\"color: #67000d;\">Warmest: 22.1°C / 71.8°F on Jul 26</span><br>Average: 16.4°C / 61.6°F <br><span style=\"color: #08306b;\">Coldest: 11.5°C / 52.7°F on Jan 28</span><br>',\n",
       " '<b>1951</b><br><span style=\"color: #67000d;\">Warmest: 22.2°C / 72.0°F on Jul 29</span><br>Average: 16.6°C / 62.0°F <br><span style=\"color: #08306b;\">Coldest: 12.1°C / 53.8°F on Feb 11</span><br>',\n",
       " '<b>1952</b><br><span style=\"color: #67000d;\">Warmest: 23.3°C / 73.9°F on Aug 30</span><br>Average: 16.3°C / 61.4°F <br><span style=\"color: #08306b;\">Coldest: 12.4°C / 54.3°F on Mar 3</span><br>',\n",
       " '<b>1953</b><br><span style=\"color: #67000d;\">Warmest: 23.1°C / 73.6°F on Jul 18</span><br>Average: 16.3°C / 61.3°F <br><span style=\"color: #08306b;\">Coldest: 11.2°C / 52.2°F on Feb 24</span><br>',\n",
       " '<b>1954</b><br><span style=\"color: #67000d;\">Warmest: 23.7°C / 74.7°F on Jul 18</span><br>Average: 16.9°C / 62.5°F <br><span style=\"color: #08306b;\">Coldest: 12.2°C / 54.0°F on Mar 16</span><br>',\n",
       " '<b>1955</b><br><span style=\"color: #67000d;\">Warmest: 23.7°C / 74.7°F on Aug 11</span><br>Average: 16.5°C / 61.8°F <br><span style=\"color: #08306b;\">Coldest: 11.9°C / 53.4°F on Feb 9</span><br>',\n",
       " '<b>1956</b><br><span style=\"color: #67000d;\">Warmest: 22.1°C / 71.8°F on Aug 14</span><br>Average: 16.4°C / 61.5°F <br><span style=\"color: #08306b;\">Coldest: 11.8°C / 53.2°F on Jan 4</span><br>',\n",
       " '<b>1957</b><br><span style=\"color: #67000d;\">Warmest: 23.9°C / 75.0°F on Aug 22</span><br>Average: 17.4°C / 63.3°F <br><span style=\"color: #08306b;\">Coldest: 13.5°C / 56.3°F on Mar 24</span><br>',\n",
       " '<b>1958</b><br><span style=\"color: #67000d;\">Warmest: 24.0°C / 75.2°F on Aug 13</span><br>Average: 17.9°C / 64.1°F <br><span style=\"color: #08306b;\">Coldest: 13.2°C / 55.8°F on May 31</span><br>',\n",
       " '<b>1959</b><br><span style=\"color: #67000d;\">Warmest: 23.8°C / 74.8°F on Aug 4</span><br>Average: 18.4°C / 65.1°F <br><span style=\"color: #08306b;\">Coldest: 14.5°C / 58.1°F on Feb 9</span><br>',\n",
       " '<b>1960</b><br><span style=\"color: #67000d;\">Warmest: 23.9°C / 75.0°F on Jul 24</span><br>Average: 16.6°C / 61.9°F <br><span style=\"color: #08306b;\">Coldest: 11.9°C / 53.4°F on Feb 25</span><br>',\n",
       " '<b>1961</b><br><span style=\"color: #67000d;\">Warmest: 22.7°C / 72.9°F on Jul 20</span><br>Average: 16.5°C / 61.8°F <br><span style=\"color: #08306b;\">Coldest: 12.8°C / 55.0°F on Nov 7</span><br>',\n",
       " '<b>1962</b><br><span style=\"color: #67000d;\">Warmest: 22.1°C / 71.8°F on Aug 17</span><br>Average: 16.3°C / 61.3°F <br><span style=\"color: #08306b;\">Coldest: 11.9°C / 53.4°F on Feb 28</span><br>',\n",
       " '<b>1963</b><br><span style=\"color: #67000d;\">Warmest: 22.2°C / 72.0°F on Aug 22</span><br>Average: 17.0°C / 62.6°F <br><span style=\"color: #08306b;\">Coldest: 12.9°C / 55.2°F on May 1</span><br>',\n",
       " '<b>1964</b><br><span style=\"color: #67000d;\">Warmest: 22.7°C / 72.9°F on Aug 19</span><br>Average: 16.4°C / 61.6°F <br><span style=\"color: #08306b;\">Coldest: 12.5°C / 54.5°F on May 29</span><br>',\n",
       " '<b>1965</b><br><span style=\"color: #67000d;\">Warmest: 23.1°C / 73.6°F on Aug 15</span><br>Average: 16.5°C / 61.8°F <br><span style=\"color: #08306b;\">Coldest: 12.3°C / 54.1°F on Jan 8</span><br>',\n",
       " '<b>1966</b><br><span style=\"color: #67000d;\">Warmest: 23.1°C / 73.6°F on Aug 9</span><br>Average: 17.0°C / 62.7°F <br><span style=\"color: #08306b;\">Coldest: 12.8°C / 55.0°F on Dec 27</span><br>',\n",
       " '<b>1967</b><br><span style=\"color: #67000d;\">Warmest: 23.5°C / 74.3°F on Aug 19</span><br>Average: 16.9°C / 62.5°F <br><span style=\"color: #08306b;\">Coldest: 11.6°C / 52.9°F on Dec 14</span><br>',\n",
       " '<b>1968</b><br><span style=\"color: #67000d;\">Warmest: 22.9°C / 73.2°F on Jul 26</span><br>Average: 16.9°C / 62.5°F <br><span style=\"color: #08306b;\">Coldest: 13.0°C / 55.4°F on Dec 28</span><br>',\n",
       " '<b>1969</b><br><span style=\"color: #67000d;\">Warmest: 22.7°C / 72.9°F on Aug 10</span><br>Average: 16.7°C / 62.0°F <br><span style=\"color: #08306b;\">Coldest: 10.6°C / 51.1°F on Dec 29</span><br>',\n",
       " '<b>1970</b><br><span style=\"color: #67000d;\">Warmest: 24.0°C / 75.2°F on Aug 14</span><br>Average: 16.7°C / 62.0°F <br><span style=\"color: #08306b;\">Coldest: 11.4°C / 52.5°F on Jan 2</span><br>',\n",
       " '<b>1971</b><br><span style=\"color: #67000d;\">Warmest: 24.6°C / 76.3°F on Aug 14</span><br>Average: 16.2°C / 61.2°F <br><span style=\"color: #08306b;\">Coldest: 10.1°C / 50.2°F on Mar 2</span><br>',\n",
       " '<b>1972</b><br><span style=\"color: #67000d;\">Warmest: 22.4°C / 72.3°F on Aug 7</span><br>Average: 16.9°C / 62.4°F <br><span style=\"color: #08306b;\">Coldest: 11.9°C / 53.4°F on Jan 31</span><br>',\n",
       " '<b>1973</b><br><span style=\"color: #67000d;\">Warmest: 21.1°C / 70.0°F on Aug 22</span><br>Average: 16.5°C / 61.6°F <br><span style=\"color: #08306b;\">Coldest: 12.7°C / 54.9°F on Apr 15</span><br>',\n",
       " '<b>1974</b><br><span style=\"color: #67000d;\">Warmest: 23.9°C / 75.0°F on Jul 21</span><br>Average: 16.5°C / 61.7°F <br><span style=\"color: #08306b;\">Coldest: 12.1°C / 53.8°F on Feb 7</span><br>',\n",
       " '<b>1975</b><br><span style=\"color: #67000d;\">Warmest: 22.2°C / 72.0°F on Jul 31</span><br>Average: 15.5°C / 60.0°F <br><span style=\"color: #08306b;\">Coldest: 10.8°C / 51.4°F on May 13</span><br>',\n",
       " '<b>1976</b><br><span style=\"color: #67000d;\">Warmest: 22.1°C / 71.8°F on Jun 30</span><br>Average: 17.3°C / 63.1°F <br><span style=\"color: #08306b;\">Coldest: 12.8°C / 55.0°F on Apr 17</span><br>',\n",
       " '<b>1977</b><br><span style=\"color: #67000d;\">Warmest: 23.0°C / 73.4°F on Aug 4</span><br>Average: 17.3°C / 63.1°F <br><span style=\"color: #08306b;\">Coldest: 12.5°C / 54.5°F on Mar 11</span><br>',\n",
       " '<b>1978</b><br><span style=\"color: #67000d;\">Warmest: 22.5°C / 72.5°F on Aug 11</span><br>Average: 17.4°C / 63.4°F <br><span style=\"color: #08306b;\">Coldest: 12.2°C / 54.0°F on Dec 8</span><br>',\n",
       " '<b>1979</b><br><span style=\"color: #67000d;\">Warmest: 23.2°C / 73.8°F on Sep 24</span><br>Average: 16.9°C / 62.3°F <br><span style=\"color: #08306b;\">Coldest: 12.0°C / 53.6°F on Jan 30</span><br>',\n",
       " '<b>1980</b><br><span style=\"color: #67000d;\">Warmest: 23.2°C / 73.8°F on Aug 13</span><br>Average: 16.6°C / 61.9°F <br><span style=\"color: #08306b;\">Coldest: 11.0°C / 51.8°F on Apr 8</span><br>',\n",
       " '<b>1981</b><br><span style=\"color: #67000d;\">Warmest: 23.5°C / 74.3°F on Jun 23</span><br>Average: 17.6°C / 63.7°F <br><span style=\"color: #08306b;\">Coldest: 13.4°C / 56.1°F on Dec 24</span><br>',\n",
       " '<b>1982</b><br><span style=\"color: #67000d;\">Warmest: 23.1°C / 73.6°F on Aug 7</span><br>Average: 17.2°C / 62.9°F <br><span style=\"color: #08306b;\">Coldest: 13.2°C / 55.8°F on Jan 8</span><br>',\n",
       " '<b>1983</b><br><span style=\"color: #67000d;\">Warmest: 23.5°C / 74.3°F on Sep 14</span><br>Average: 18.0°C / 64.4°F <br><span style=\"color: #08306b;\">Coldest: 14.2°C / 57.6°F on Apr 13</span><br>',\n",
       " '<b>1984</b><br><span style=\"color: #67000d;\">Warmest: 25.0°C / 77.0°F on Sep 19</span><br>Average: 18.3°C / 64.9°F <br><span style=\"color: #08306b;\">Coldest: 12.6°C / 54.7°F on Dec 15</span><br>',\n",
       " '<b>1985</b><br><span style=\"color: #67000d;\">Warmest: 23.9°C / 75.0°F on Aug 30</span><br>Average: 17.2°C / 63.0°F <br><span style=\"color: #08306b;\">Coldest: 12.9°C / 55.2°F on Feb 3</span><br>',\n",
       " '<b>1986</b><br><span style=\"color: #67000d;\">Warmest: 22.5°C / 72.5°F on Jul 3</span><br>Average: 17.7°C / 63.9°F <br><span style=\"color: #08306b;\">Coldest: 14.1°C / 57.4°F on Feb 11</span><br>',\n",
       " '<b>1987</b><br><span style=\"color: #67000d;\">Warmest: 22.4°C / 72.3°F on Aug 7</span><br>Average: 17.6°C / 63.6°F <br><span style=\"color: #08306b;\">Coldest: 12.7°C / 54.9°F on Dec 15</span><br>',\n",
       " '<b>1988</b><br><span style=\"color: #67000d;\">Warmest: 23.4°C / 74.1°F on Jul 21</span><br>Average: 17.0°C / 62.6°F <br><span style=\"color: #08306b;\">Coldest: 12.0°C / 53.6°F on Jan 23</span><br>',\n",
       " '<b>1989</b><br><span style=\"color: #67000d;\">Warmest: 22.8°C / 73.0°F on Aug 6</span><br>Average: 17.2°C / 63.0°F <br><span style=\"color: #08306b;\">Coldest: 12.0°C / 53.6°F on Jan 15</span><br>',\n",
       " '<b>1990</b><br><span style=\"color: #67000d;\">Warmest: 25.1°C / 77.2°F on Jul 18</span><br>Average: 17.9°C / 64.2°F <br><span style=\"color: #08306b;\">Coldest: 12.8°C / 55.0°F on Feb 15</span><br>',\n",
       " '<b>1991</b><br><span style=\"color: #67000d;\">Warmest: 24.2°C / 75.6°F on Jul 1</span><br>Average: 17.0°C / 62.6°F <br><span style=\"color: #08306b;\">Coldest: 12.2°C / 54.0°F on May 23</span><br>',\n",
       " '<b>1992</b><br><span style=\"color: #67000d;\">Warmest: 25.0°C / 77.0°F on Aug 17</span><br>Average: 18.3°C / 64.9°F <br><span style=\"color: #08306b;\">Coldest: 14.6°C / 58.3°F on Jan 3</span><br>',\n",
       " '<b>1993</b><br><span style=\"color: #67000d;\">Warmest: 23.4°C / 74.1°F on Sep 9</span><br>Average: 18.4°C / 65.1°F <br><span style=\"color: #08306b;\">Coldest: 14.5°C / 58.1°F on Jan 12</span><br>',\n",
       " '<b>1994</b><br><span style=\"color: #67000d;\">Warmest: 24.0°C / 75.2°F on Aug 28</span><br>Average: 18.1°C / 64.6°F <br><span style=\"color: #08306b;\">Coldest: 14.1°C / 57.4°F on Dec 12</span><br>',\n",
       " '<b>1995</b><br><span style=\"color: #67000d;\">Warmest: 22.7°C / 72.9°F on Sep 8</span><br>Average: 17.8°C / 64.0°F <br><span style=\"color: #08306b;\">Coldest: 13.8°C / 56.8°F on Apr 20</span><br>',\n",
       " '<b>1996</b><br><span style=\"color: #67000d;\">Warmest: 24.1°C / 75.4°F on Sep 6</span><br>Average: 17.9°C / 64.2°F <br><span style=\"color: #08306b;\">Coldest: 13.7°C / 56.7°F on Jan 26</span><br>',\n",
       " '<b>1997</b><br><span style=\"color: #67000d;\">Warmest: 24.3°C / 75.7°F on Sep 6</span><br>Average: 19.3°C / 66.8°F <br><span style=\"color: #08306b;\">Coldest: 14.1°C / 57.4°F on Feb 27</span><br>',\n",
       " '<b>1998</b><br><span style=\"color: #67000d;\">Warmest: 23.3°C / 73.9°F on Aug 27</span><br>Average: 18.1°C / 64.5°F <br><span style=\"color: #08306b;\">Coldest: 13.4°C / 56.1°F on Dec 12</span><br>',\n",
       " '<b>1999</b><br><span style=\"color: #67000d;\">Warmest: 23.6°C / 74.5°F on Jul 14</span><br>Average: 16.5°C / 61.7°F <br><span style=\"color: #08306b;\">Coldest: 12.2°C / 54.0°F on Apr 11</span><br>',\n",
       " '<b>2000</b><br><span style=\"color: #67000d;\">Warmest: 23.9°C / 75.0°F on Aug 24</span><br>Average: 17.7°C / 63.8°F <br><span style=\"color: #08306b;\">Coldest: 13.9°C / 57.0°F on Mar 9</span><br>',\n",
       " '<b>2001</b><br><span style=\"color: #67000d;\">Warmest: 24.0°C / 75.2°F on Sep 5</span><br>Average: 17.4°C / 63.4°F <br><span style=\"color: #08306b;\">Coldest: 13.3°C / 55.9°F on Feb 24</span><br>',\n",
       " '<b>2002</b><br><span style=\"color: #67000d;\">Warmest: 23.0°C / 73.4°F on Jul 2</span><br>Average: 17.4°C / 63.3°F <br><span style=\"color: #08306b;\">Coldest: 12.5°C / 54.5°F on Mar 25</span><br>',\n",
       " '<b>2003</b><br><span style=\"color: #67000d;\">Warmest: 22.8°C / 73.0°F on Jul 31</span><br>Average: 17.7°C / 63.9°F <br><span style=\"color: #08306b;\">Coldest: 13.9°C / 57.0°F on May 18</span><br>',\n",
       " '<b>2004</b><br><span style=\"color: #67000d;\">Warmest: 24.8°C / 76.6°F on Sep 11</span><br>Average: 18.4°C / 65.0°F <br><span style=\"color: #08306b;\">Coldest: 13.7°C / 56.7°F on Feb 20</span><br>',\n",
       " '<b>2005</b><br><span style=\"color: #67000d;\">Warmest: 24.1°C / 75.4°F on Jul 26</span><br>Average: 18.3°C / 64.9°F <br><span style=\"color: #08306b;\">Coldest: 14.6°C / 58.3°F on Dec 17</span><br>',\n",
       " '<b>2006</b><br><span style=\"color: #67000d;\">Warmest: 25.4°C / 77.7°F on Jul 28</span><br>Average: 18.1°C / 64.6°F <br><span style=\"color: #08306b;\">Coldest: 12.8°C / 55.0°F on Mar 19</span><br>',\n",
       " '<b>2007</b><br><span style=\"color: #67000d;\">Warmest: 24.6°C / 76.3°F on Aug 21</span><br>Average: 17.6°C / 63.8°F <br><span style=\"color: #08306b;\">Coldest: 13.2°C / 55.8°F on Dec 27</span><br>',\n",
       " '<b>2008</b><br><span style=\"color: #67000d;\">Warmest: 24.4°C / 75.9°F on Aug 9</span><br>Average: 17.7°C / 63.9°F <br><span style=\"color: #08306b;\">Coldest: 13.2°C / 55.8°F on Feb 4</span><br>',\n",
       " '<b>2009</b><br><span style=\"color: #67000d;\">Warmest: 25.3°C / 77.5°F on Sep 4</span><br>Average: 18.2°C / 64.7°F <br><span style=\"color: #08306b;\">Coldest: 13.3°C / 55.9°F on Jan 5</span><br>',\n",
       " '<b>2010</b><br><span style=\"color: #67000d;\">Warmest: 21.3°C / 70.3°F on Aug 7</span><br>Average: 17.2°C / 63.0°F <br><span style=\"color: #08306b;\">Coldest: 13.5°C / 56.3°F on Dec 10</span><br>',\n",
       " '<b>2011</b><br><span style=\"color: #67000d;\">Warmest: 22.6°C / 72.7°F on Aug 29</span><br>Average: 17.0°C / 62.6°F <br><span style=\"color: #08306b;\">Coldest: 13.5°C / 56.3°F on Mar 20</span><br>',\n",
       " '<b>2012</b><br><span style=\"color: #67000d;\">Warmest: 23.6°C / 74.5°F on Aug 14</span><br>Average: 17.7°C / 63.8°F <br><span style=\"color: #08306b;\">Coldest: 12.6°C / 54.7°F on Mar 17</span><br>',\n",
       " '<b>2013</b><br><span style=\"color: #67000d;\">Warmest: 23.0°C / 73.4°F on Jul 16</span><br>Average: 17.6°C / 63.7°F <br><span style=\"color: #08306b;\">Coldest: 12.5°C / 54.5°F on Jan 16</span><br>',\n",
       " '<b>2014</b><br><span style=\"color: #67000d;\">Warmest: 24.3°C / 75.7°F on Jul 11</span><br>Average: 19.5°C / 67.0°F <br><span style=\"color: #08306b;\">Coldest: 15.0°C / 59.0°F on Apr 5</span><br>',\n",
       " '<b>2015</b><br><span style=\"color: #67000d;\">Warmest: 25.3°C / 77.5°F on Sep 9</span><br>Average: 19.6°C / 67.3°F <br><span style=\"color: #08306b;\">Coldest: 14.6°C / 58.3°F on Apr 18</span><br>',\n",
       " '<b>2016</b><br><span style=\"color: #67000d;\">Warmest: 25.3°C / 77.5°F on Aug 2</span><br>Average: 18.7°C / 65.6°F <br><span style=\"color: #08306b;\">Coldest: 14.7°C / 58.5°F on Dec 29</span><br>',\n",
       " '<b>2017</b><br><span style=\"color: #67000d;\">Warmest: 24.8°C / 76.6°F on Aug 4</span><br>Average: 18.6°C / 65.5°F <br><span style=\"color: #08306b;\">Coldest: 14.4°C / 57.9°F on Feb 28</span><br>',\n",
       " '<b>2018</b><br><span style=\"color: #67000d;\">Warmest: 26.4°C / 79.5°F on Aug 9</span><br>Average: 19.1°C / 66.3°F <br><span style=\"color: #08306b;\">Coldest: 13.9°C / 57.0°F on Mar 26</span><br>',\n",
       " '<b>2019</b><br><span style=\"color: #67000d;\">Warmest: 25.7°C / 78.3°F on Sep 5</span><br>Average: 18.7°C / 65.6°F <br><span style=\"color: #08306b;\">Coldest: 13.7°C / 56.7°F on Feb 21</span><br>',\n",
       " '<b>2020</b><br><span style=\"color: #67000d;\">Warmest: 26.4°C / 79.5°F on Aug 23</span><br>Average: 18.4°C / 65.2°F <br><span style=\"color: #08306b;\">Coldest: 13.6°C / 56.5°F on Apr 3</span><br>',\n",
       " '<b>2021</b><br><span style=\"color: #67000d;\">Warmest: 24.9°C / 76.8°F on Jul 18</span><br>Average: 17.8°C / 64.1°F <br><span style=\"color: #08306b;\">Coldest: 13.1°C / 55.6°F on Mar 22</span><br>',\n",
       " '<b>2022</b><br><span style=\"color: #67000d;\">Warmest: 24.8°C / 76.6°F on Aug 27</span><br>Average: 18.3°C / 64.9°F <br><span style=\"color: #08306b;\">Coldest: 13.5°C / 56.3°F on Apr 27</span><br>']"
      ]
     },
     "execution_count": 48,
     "metadata": {},
     "output_type": "execute_result"
    }
   ],
   "source": [
    "#make annual climatology and long-term mean\n",
    "climatology = df.groupby(['year']).agg(['min','mean','max']).reset_index()\n",
    "# long_term_mean = df.sst.mean()\n",
    "# X = climatology.year.values.reshape(-1,1)\n",
    "# Y = climatology[('sst','mean')].values.reshape(-1,1)\n",
    "# lm = LinearRegression()\n",
    "# lm.fit(X,Y)  # perform linear regression\n",
    "# century_trend = (lm.coef_[0] * 100)[0]\n",
    "\n",
    "text = []\n",
    "#make hover text for chart\n",
    "for i in range(len(climatology)):\n",
    "    year = climatology.year[i]\n",
    "    year_lo = climatology[('sst','min')][i]\n",
    "    year_lo_f = c_to_f(year_lo)\n",
    "    year_lo_day = datetime.strftime(df[(df.year == year) & (df.sst == year_lo)].date.iloc[0], '%b %-d')\n",
    "    year_mean = climatology[('sst','mean')][i]\n",
    "    year_mean_f = c_to_f(year_mean)\n",
    "    year_hi = climatology[('sst','max')][i]\n",
    "    year_hi_f = c_to_f(year_hi)\n",
    "    year_hi_day = datetime.strftime(df[(df.year == year) & (df.sst == year_hi)].date.iloc[0], '%b %-d')\n",
    "    #TODO bold year and/or bigger font\n",
    "    #TODO make record high and low red and blue respectively\n",
    "    text.append(f'<b>{year}</b><br>\\\n",
    "<span style=\"color: #67000d;\">Warmest: {year_hi:.1f}°C / {year_hi_f:.1f}°F on {year_hi_day}</span><br>\\\n",
    "Average: {year_mean:.1f}°C / {year_mean_f:.1f}°F <br>\\\n",
    "<span style=\"color: #08306b;\">Coldest: {year_lo:.1f}°C / {year_lo_f:.1f}°F on {year_lo_day}</span><br>')\n",
    "text"
   ]
  },
  {
   "cell_type": "markdown",
   "metadata": {},
   "source": []
  },
  {
   "cell_type": "markdown",
   "metadata": {},
   "source": [
    "Using explicit colors as specified by Ed Hawkings"
   ]
  },
  {
   "cell_type": "code",
   "execution_count": 49,
   "metadata": {},
   "outputs": [
    {
     "data": {
      "text/plain": [
       "'#a50f15'"
      ]
     },
     "execution_count": 49,
     "metadata": {},
     "output_type": "execute_result"
    }
   ],
   "source": [
    "colors = ['#67000d', '#a50f15', '#cb181d', '#ef3b2c', '#fb6a4a', '#fc9272', '#fcbba1', '#fee0d2',\n",
    "          '#deebf7', '#c6dbef', '#9ecae1', '#6baed6', '#4292c6', '#2171b5', '#08519c', '#08306b'][::-1]\n",
    "#I copied these red to blue but colors needs to be blue to red\n",
    "\n",
    "def get_color(sst):\n",
    "    bin_step = (climatology[('sst','mean')].max() - climatology[('sst','mean')].min()) / len(colors)\n",
    "    color_bins = np.arange(climatology[('sst','mean')].min(),climatology[('sst','mean')].max() + 0.001, bin_step) #stupid fix\n",
    "    bin = np.min(np.argsort(np.abs(color_bins-sst))[0])\n",
    "    if bin >= len(colors): return colors[len(colors) - 1] #TODO doublecheck logic\n",
    "    else: return colors[bin]\n",
    "get_color(19)"
   ]
  },
  {
   "cell_type": "code",
   "execution_count": 50,
   "metadata": {},
   "outputs": [],
   "source": [
    "fig = make_subplots(specs=[[{\"secondary_y\": True}]])\n",
    "for i, sst in enumerate(climatology[('sst','mean')]):\n",
    "    i += 1917\n",
    "    fig.add_shape( #make the stripes\n",
    "        type=\"rect\",\n",
    "        x0=i,\n",
    "        y0=0,\n",
    "        x1=i+1,\n",
    "        y1=30,\n",
    "        layer=\"below\",\n",
    "        line=dict(color=\"rgba(0,0,0,0)\"),\n",
    "        fillcolor=get_color(sst),\n",
    "        secondary_y=False)\n",
    "  \n",
    "fig.add_trace(go.Scatter( #plot the annual mean\n",
    "    x=df.groupby('year')['year'].first() + 0.5,\n",
    "    y=climatology[('sst','mean')],\n",
    "    name='Yearly average',\n",
    "    mode='lines',\n",
    "    line=dict(\n",
    "        width=5,\n",
    "        color='white'),\n",
    "    text = text,\n",
    "    hoverinfo='text',\n",
    "    showlegend=False),\n",
    "    secondary_y=False)\n",
    "\n",
    "fig.add_trace(go.Scatter( #add an F axis\n",
    "    x=df.groupby('year')['year'].first(),\n",
    "    y=climatology[('sst','mean')].apply(c_to_f),\n",
    "    name='Yearly average',\n",
    "    mode='lines',\n",
    "    line=dict(\n",
    "        width=0,\n",
    "        color='black'),\n",
    "    hoverinfo='none',\n",
    "    showlegend=False),\n",
    "    secondary_y=True)\n",
    "\n",
    "fig.update_layout(title_text='Interannual Sea Surface Temperature Trends at Scripps Pier',\n",
    "    hovermode='x unified',\n",
    "    plot_bgcolor='white')\n",
    "fig.update_xaxes(dict(title='Year', range=[climatology.year.min(), climatology.year.max()], showgrid=False))\n",
    "fig.update_yaxes(dict(title='Sea Surface Temperature (°C)', range=[climatology[('sst','mean')].min() - 0.5, climatology[('sst','mean')].max() + 0.5], showgrid=False, side='left'), secondary_y=False)\n",
    "fig.update_yaxes(dict(title='Sea Surface Temperature (°F)', range=[c_to_f(climatology[('sst','mean')].min() - 0.5), c_to_f(climatology[('sst','mean')].max() + 0.5)], showgrid=False, side='right'), secondary_y=True)\n",
    "pio.write_html(fig, 'interactive_showyourstripes_SIO.html') #TODO fix aspect ratio"
   ]
  },
  {
   "cell_type": "code",
   "execution_count": 51,
   "metadata": {},
   "outputs": [
    {
     "data": {
      "application/vnd.plotly.v1+json": {
       "config": {
        "plotlyServerURL": "https://plot.ly"
       },
       "data": [
        {
         "hoverinfo": "text",
         "line": {
          "color": "white",
          "width": 5
         },
         "mode": "lines",
         "name": "Yearly average",
         "showlegend": false,
         "text": [
          "<b>1917</b><br><span style=\"color: #67000d;\">Warmest: 23.1°C / 73.6°F on Jul 30</span><br>Average: 16.7°C / 62.1°F <br><span style=\"color: #08306b;\">Coldest: 11.3°C / 52.3°F on Jan 16</span><br>",
          "<b>1918</b><br><span style=\"color: #67000d;\">Warmest: 22.9°C / 73.2°F on Aug 2</span><br>Average: 17.4°C / 63.3°F <br><span style=\"color: #08306b;\">Coldest: 12.5°C / 54.5°F on Feb 11</span><br>",
          "<b>1919</b><br><span style=\"color: #67000d;\">Warmest: 22.8°C / 73.0°F on Jul 18</span><br>Average: 16.8°C / 62.3°F <br><span style=\"color: #08306b;\">Coldest: 11.7°C / 53.1°F on Mar 15</span><br>",
          "<b>1920</b><br><span style=\"color: #67000d;\">Warmest: 22.6°C / 72.7°F on Aug 10</span><br>Average: 16.6°C / 61.8°F <br><span style=\"color: #08306b;\">Coldest: 12.0°C / 53.6°F on Feb 3</span><br>",
          "<b>1921</b><br><span style=\"color: #67000d;\">Warmest: 23.3°C / 73.9°F on Jul 24</span><br>Average: 16.5°C / 61.8°F <br><span style=\"color: #08306b;\">Coldest: 12.5°C / 54.5°F on Feb 15</span><br>",
          "<b>1922</b><br><span style=\"color: #67000d;\">Warmest: 22.8°C / 73.0°F on Aug 28</span><br>Average: 16.5°C / 61.8°F <br><span style=\"color: #08306b;\">Coldest: 11.8°C / 53.2°F on Apr 18</span><br>",
          "<b>1923</b><br><span style=\"color: #67000d;\">Warmest: 22.5°C / 72.5°F on Aug 27</span><br>Average: 17.3°C / 63.2°F <br><span style=\"color: #08306b;\">Coldest: 12.7°C / 54.9°F on Dec 12</span><br>",
          "<b>1924</b><br><span style=\"color: #67000d;\">Warmest: 22.3°C / 72.1°F on Aug 13</span><br>Average: 16.4°C / 61.6°F <br><span style=\"color: #08306b;\">Coldest: 12.5°C / 54.5°F on Dec 24</span><br>",
          "<b>1925</b><br><span style=\"color: #67000d;\">Warmest: 22.9°C / 73.2°F on Jul 22</span><br>Average: 17.0°C / 62.7°F <br><span style=\"color: #08306b;\">Coldest: 12.3°C / 54.1°F on Jan 10</span><br>",
          "<b>1926</b><br><span style=\"color: #67000d;\">Warmest: 22.9°C / 73.2°F on Jul 4</span><br>Average: 18.1°C / 64.5°F <br><span style=\"color: #08306b;\">Coldest: 13.9°C / 57.0°F on Sep 12</span><br>",
          "<b>1927</b><br><span style=\"color: #67000d;\">Warmest: 21.8°C / 71.2°F on Jul 25</span><br>Average: 16.9°C / 62.4°F <br><span style=\"color: #08306b;\">Coldest: 11.7°C / 53.1°F on Apr 28</span><br>",
          "<b>1928</b><br><span style=\"color: #67000d;\">Warmest: 22.2°C / 72.0°F on Aug 14</span><br>Average: 16.7°C / 62.1°F <br><span style=\"color: #08306b;\">Coldest: 12.6°C / 54.7°F on Mar 30</span><br>",
          "<b>1929</b><br><span style=\"color: #67000d;\">Warmest: 23.4°C / 74.1°F on Aug 18</span><br>Average: 17.2°C / 63.0°F <br><span style=\"color: #08306b;\">Coldest: 12.5°C / 54.5°F on Feb 18</span><br>",
          "<b>1930</b><br><span style=\"color: #67000d;\">Warmest: 23.7°C / 74.7°F on Aug 24</span><br>Average: 17.5°C / 63.4°F <br><span style=\"color: #08306b;\">Coldest: 13.4°C / 56.1°F on Mar 15</span><br>",
          "<b>1931</b><br><span style=\"color: #67000d;\">Warmest: 25.8°C / 78.4°F on Jul 30</span><br>Average: 18.5°C / 65.3°F <br><span style=\"color: #08306b;\">Coldest: 12.5°C / 54.5°F on Dec 14</span><br>",
          "<b>1932</b><br><span style=\"color: #67000d;\">Warmest: 21.0°C / 69.8°F on Jul 17</span><br>Average: 16.3°C / 61.4°F <br><span style=\"color: #08306b;\">Coldest: 12.1°C / 53.8°F on May 3</span><br>",
          "<b>1933</b><br><span style=\"color: #67000d;\">Warmest: 21.3°C / 70.3°F on Aug 2</span><br>Average: 15.7°C / 60.2°F <br><span style=\"color: #08306b;\">Coldest: 11.9°C / 53.4°F on Mar 27</span><br>",
          "<b>1934</b><br><span style=\"color: #67000d;\">Warmest: 22.0°C / 71.6°F on Aug 12</span><br>Average: 17.6°C / 63.6°F <br><span style=\"color: #08306b;\">Coldest: 12.1°C / 53.8°F on Jan 9</span><br>",
          "<b>1935</b><br><span style=\"color: #67000d;\">Warmest: 23.2°C / 73.8°F on Aug 12</span><br>Average: 16.7°C / 62.1°F <br><span style=\"color: #08306b;\">Coldest: 12.0°C / 53.6°F on Mar 10</span><br>",
          "<b>1936</b><br><span style=\"color: #67000d;\">Warmest: 23.9°C / 75.0°F on Jul 21</span><br>Average: 17.6°C / 63.7°F <br><span style=\"color: #08306b;\">Coldest: 11.7°C / 53.1°F on Apr 30</span><br>",
          "<b>1937</b><br><span style=\"color: #67000d;\">Warmest: 22.1°C / 71.8°F on Sep 1</span><br>Average: 17.1°C / 62.7°F <br><span style=\"color: #08306b;\">Coldest: 12.0°C / 53.6°F on Jan 22</span><br>",
          "<b>1938</b><br><span style=\"color: #67000d;\">Warmest: 22.2°C / 72.0°F on Aug 6</span><br>Average: 16.7°C / 62.0°F <br><span style=\"color: #08306b;\">Coldest: 12.2°C / 54.0°F on Mar 26</span><br>",
          "<b>1939</b><br><span style=\"color: #67000d;\">Warmest: 22.5°C / 72.5°F on Aug 4</span><br>Average: 17.2°C / 63.0°F <br><span style=\"color: #08306b;\">Coldest: 10.8°C / 51.4°F on Feb 18</span><br>",
          "<b>1940</b><br><span style=\"color: #67000d;\">Warmest: 22.3°C / 72.1°F on Aug 10</span><br>Average: 17.4°C / 63.3°F <br><span style=\"color: #08306b;\">Coldest: 14.0°C / 57.2°F on Mar 15</span><br>",
          "<b>1941</b><br><span style=\"color: #67000d;\">Warmest: 21.6°C / 70.9°F on Aug 8</span><br>Average: 17.7°C / 63.8°F <br><span style=\"color: #08306b;\">Coldest: 13.9°C / 57.0°F on Apr 29</span><br>",
          "<b>1942</b><br><span style=\"color: #67000d;\">Warmest: 22.2°C / 72.0°F on Aug 21</span><br>Average: 17.0°C / 62.7°F <br><span style=\"color: #08306b;\">Coldest: 13.5°C / 56.3°F on Feb 12</span><br>",
          "<b>1943</b><br><span style=\"color: #67000d;\">Warmest: 22.9°C / 73.2°F on Aug 4</span><br>Average: 17.0°C / 62.6°F <br><span style=\"color: #08306b;\">Coldest: 13.4°C / 56.1°F on Jan 9</span><br>",
          "<b>1944</b><br><span style=\"color: #67000d;\">Warmest: 21.3°C / 70.3°F on Aug 18</span><br>Average: 16.5°C / 61.7°F <br><span style=\"color: #08306b;\">Coldest: 13.1°C / 55.6°F on Feb 27</span><br>",
          "<b>1945</b><br><span style=\"color: #67000d;\">Warmest: 22.9°C / 73.2°F on Aug 6</span><br>Average: 16.6°C / 61.9°F <br><span style=\"color: #08306b;\">Coldest: 11.4°C / 52.5°F on Mar 25</span><br>",
          "<b>1946</b><br><span style=\"color: #67000d;\">Warmest: 23.5°C / 74.3°F on Aug 14</span><br>Average: 16.9°C / 62.3°F <br><span style=\"color: #08306b;\">Coldest: 11.2°C / 52.2°F on Jan 14</span><br>",
          "<b>1947</b><br><span style=\"color: #67000d;\">Warmest: 23.6°C / 74.5°F on Aug 9</span><br>Average: 16.9°C / 62.4°F <br><span style=\"color: #08306b;\">Coldest: 12.3°C / 54.1°F on Dec 31</span><br>",
          "<b>1948</b><br><span style=\"color: #67000d;\">Warmest: 21.0°C / 69.8°F on Aug 16</span><br>Average: 16.1°C / 61.0°F <br><span style=\"color: #08306b;\">Coldest: 12.5°C / 54.5°F on Feb 13</span><br>",
          "<b>1949</b><br><span style=\"color: #67000d;\">Warmest: 22.5°C / 72.5°F on Sep 9</span><br>Average: 16.5°C / 61.8°F <br><span style=\"color: #08306b;\">Coldest: 11.3°C / 52.3°F on Jan 11</span><br>",
          "<b>1950</b><br><span style=\"color: #67000d;\">Warmest: 22.1°C / 71.8°F on Jul 26</span><br>Average: 16.4°C / 61.6°F <br><span style=\"color: #08306b;\">Coldest: 11.5°C / 52.7°F on Jan 28</span><br>",
          "<b>1951</b><br><span style=\"color: #67000d;\">Warmest: 22.2°C / 72.0°F on Jul 29</span><br>Average: 16.6°C / 62.0°F <br><span style=\"color: #08306b;\">Coldest: 12.1°C / 53.8°F on Feb 11</span><br>",
          "<b>1952</b><br><span style=\"color: #67000d;\">Warmest: 23.3°C / 73.9°F on Aug 30</span><br>Average: 16.3°C / 61.4°F <br><span style=\"color: #08306b;\">Coldest: 12.4°C / 54.3°F on Mar 3</span><br>",
          "<b>1953</b><br><span style=\"color: #67000d;\">Warmest: 23.1°C / 73.6°F on Jul 18</span><br>Average: 16.3°C / 61.3°F <br><span style=\"color: #08306b;\">Coldest: 11.2°C / 52.2°F on Feb 24</span><br>",
          "<b>1954</b><br><span style=\"color: #67000d;\">Warmest: 23.7°C / 74.7°F on Jul 18</span><br>Average: 16.9°C / 62.5°F <br><span style=\"color: #08306b;\">Coldest: 12.2°C / 54.0°F on Mar 16</span><br>",
          "<b>1955</b><br><span style=\"color: #67000d;\">Warmest: 23.7°C / 74.7°F on Aug 11</span><br>Average: 16.5°C / 61.8°F <br><span style=\"color: #08306b;\">Coldest: 11.9°C / 53.4°F on Feb 9</span><br>",
          "<b>1956</b><br><span style=\"color: #67000d;\">Warmest: 22.1°C / 71.8°F on Aug 14</span><br>Average: 16.4°C / 61.5°F <br><span style=\"color: #08306b;\">Coldest: 11.8°C / 53.2°F on Jan 4</span><br>",
          "<b>1957</b><br><span style=\"color: #67000d;\">Warmest: 23.9°C / 75.0°F on Aug 22</span><br>Average: 17.4°C / 63.3°F <br><span style=\"color: #08306b;\">Coldest: 13.5°C / 56.3°F on Mar 24</span><br>",
          "<b>1958</b><br><span style=\"color: #67000d;\">Warmest: 24.0°C / 75.2°F on Aug 13</span><br>Average: 17.9°C / 64.1°F <br><span style=\"color: #08306b;\">Coldest: 13.2°C / 55.8°F on May 31</span><br>",
          "<b>1959</b><br><span style=\"color: #67000d;\">Warmest: 23.8°C / 74.8°F on Aug 4</span><br>Average: 18.4°C / 65.1°F <br><span style=\"color: #08306b;\">Coldest: 14.5°C / 58.1°F on Feb 9</span><br>",
          "<b>1960</b><br><span style=\"color: #67000d;\">Warmest: 23.9°C / 75.0°F on Jul 24</span><br>Average: 16.6°C / 61.9°F <br><span style=\"color: #08306b;\">Coldest: 11.9°C / 53.4°F on Feb 25</span><br>",
          "<b>1961</b><br><span style=\"color: #67000d;\">Warmest: 22.7°C / 72.9°F on Jul 20</span><br>Average: 16.5°C / 61.8°F <br><span style=\"color: #08306b;\">Coldest: 12.8°C / 55.0°F on Nov 7</span><br>",
          "<b>1962</b><br><span style=\"color: #67000d;\">Warmest: 22.1°C / 71.8°F on Aug 17</span><br>Average: 16.3°C / 61.3°F <br><span style=\"color: #08306b;\">Coldest: 11.9°C / 53.4°F on Feb 28</span><br>",
          "<b>1963</b><br><span style=\"color: #67000d;\">Warmest: 22.2°C / 72.0°F on Aug 22</span><br>Average: 17.0°C / 62.6°F <br><span style=\"color: #08306b;\">Coldest: 12.9°C / 55.2°F on May 1</span><br>",
          "<b>1964</b><br><span style=\"color: #67000d;\">Warmest: 22.7°C / 72.9°F on Aug 19</span><br>Average: 16.4°C / 61.6°F <br><span style=\"color: #08306b;\">Coldest: 12.5°C / 54.5°F on May 29</span><br>",
          "<b>1965</b><br><span style=\"color: #67000d;\">Warmest: 23.1°C / 73.6°F on Aug 15</span><br>Average: 16.5°C / 61.8°F <br><span style=\"color: #08306b;\">Coldest: 12.3°C / 54.1°F on Jan 8</span><br>",
          "<b>1966</b><br><span style=\"color: #67000d;\">Warmest: 23.1°C / 73.6°F on Aug 9</span><br>Average: 17.0°C / 62.7°F <br><span style=\"color: #08306b;\">Coldest: 12.8°C / 55.0°F on Dec 27</span><br>",
          "<b>1967</b><br><span style=\"color: #67000d;\">Warmest: 23.5°C / 74.3°F on Aug 19</span><br>Average: 16.9°C / 62.5°F <br><span style=\"color: #08306b;\">Coldest: 11.6°C / 52.9°F on Dec 14</span><br>",
          "<b>1968</b><br><span style=\"color: #67000d;\">Warmest: 22.9°C / 73.2°F on Jul 26</span><br>Average: 16.9°C / 62.5°F <br><span style=\"color: #08306b;\">Coldest: 13.0°C / 55.4°F on Dec 28</span><br>",
          "<b>1969</b><br><span style=\"color: #67000d;\">Warmest: 22.7°C / 72.9°F on Aug 10</span><br>Average: 16.7°C / 62.0°F <br><span style=\"color: #08306b;\">Coldest: 10.6°C / 51.1°F on Dec 29</span><br>",
          "<b>1970</b><br><span style=\"color: #67000d;\">Warmest: 24.0°C / 75.2°F on Aug 14</span><br>Average: 16.7°C / 62.0°F <br><span style=\"color: #08306b;\">Coldest: 11.4°C / 52.5°F on Jan 2</span><br>",
          "<b>1971</b><br><span style=\"color: #67000d;\">Warmest: 24.6°C / 76.3°F on Aug 14</span><br>Average: 16.2°C / 61.2°F <br><span style=\"color: #08306b;\">Coldest: 10.1°C / 50.2°F on Mar 2</span><br>",
          "<b>1972</b><br><span style=\"color: #67000d;\">Warmest: 22.4°C / 72.3°F on Aug 7</span><br>Average: 16.9°C / 62.4°F <br><span style=\"color: #08306b;\">Coldest: 11.9°C / 53.4°F on Jan 31</span><br>",
          "<b>1973</b><br><span style=\"color: #67000d;\">Warmest: 21.1°C / 70.0°F on Aug 22</span><br>Average: 16.5°C / 61.6°F <br><span style=\"color: #08306b;\">Coldest: 12.7°C / 54.9°F on Apr 15</span><br>",
          "<b>1974</b><br><span style=\"color: #67000d;\">Warmest: 23.9°C / 75.0°F on Jul 21</span><br>Average: 16.5°C / 61.7°F <br><span style=\"color: #08306b;\">Coldest: 12.1°C / 53.8°F on Feb 7</span><br>",
          "<b>1975</b><br><span style=\"color: #67000d;\">Warmest: 22.2°C / 72.0°F on Jul 31</span><br>Average: 15.5°C / 60.0°F <br><span style=\"color: #08306b;\">Coldest: 10.8°C / 51.4°F on May 13</span><br>",
          "<b>1976</b><br><span style=\"color: #67000d;\">Warmest: 22.1°C / 71.8°F on Jun 30</span><br>Average: 17.3°C / 63.1°F <br><span style=\"color: #08306b;\">Coldest: 12.8°C / 55.0°F on Apr 17</span><br>",
          "<b>1977</b><br><span style=\"color: #67000d;\">Warmest: 23.0°C / 73.4°F on Aug 4</span><br>Average: 17.3°C / 63.1°F <br><span style=\"color: #08306b;\">Coldest: 12.5°C / 54.5°F on Mar 11</span><br>",
          "<b>1978</b><br><span style=\"color: #67000d;\">Warmest: 22.5°C / 72.5°F on Aug 11</span><br>Average: 17.4°C / 63.4°F <br><span style=\"color: #08306b;\">Coldest: 12.2°C / 54.0°F on Dec 8</span><br>",
          "<b>1979</b><br><span style=\"color: #67000d;\">Warmest: 23.2°C / 73.8°F on Sep 24</span><br>Average: 16.9°C / 62.3°F <br><span style=\"color: #08306b;\">Coldest: 12.0°C / 53.6°F on Jan 30</span><br>",
          "<b>1980</b><br><span style=\"color: #67000d;\">Warmest: 23.2°C / 73.8°F on Aug 13</span><br>Average: 16.6°C / 61.9°F <br><span style=\"color: #08306b;\">Coldest: 11.0°C / 51.8°F on Apr 8</span><br>",
          "<b>1981</b><br><span style=\"color: #67000d;\">Warmest: 23.5°C / 74.3°F on Jun 23</span><br>Average: 17.6°C / 63.7°F <br><span style=\"color: #08306b;\">Coldest: 13.4°C / 56.1°F on Dec 24</span><br>",
          "<b>1982</b><br><span style=\"color: #67000d;\">Warmest: 23.1°C / 73.6°F on Aug 7</span><br>Average: 17.2°C / 62.9°F <br><span style=\"color: #08306b;\">Coldest: 13.2°C / 55.8°F on Jan 8</span><br>",
          "<b>1983</b><br><span style=\"color: #67000d;\">Warmest: 23.5°C / 74.3°F on Sep 14</span><br>Average: 18.0°C / 64.4°F <br><span style=\"color: #08306b;\">Coldest: 14.2°C / 57.6°F on Apr 13</span><br>",
          "<b>1984</b><br><span style=\"color: #67000d;\">Warmest: 25.0°C / 77.0°F on Sep 19</span><br>Average: 18.3°C / 64.9°F <br><span style=\"color: #08306b;\">Coldest: 12.6°C / 54.7°F on Dec 15</span><br>",
          "<b>1985</b><br><span style=\"color: #67000d;\">Warmest: 23.9°C / 75.0°F on Aug 30</span><br>Average: 17.2°C / 63.0°F <br><span style=\"color: #08306b;\">Coldest: 12.9°C / 55.2°F on Feb 3</span><br>",
          "<b>1986</b><br><span style=\"color: #67000d;\">Warmest: 22.5°C / 72.5°F on Jul 3</span><br>Average: 17.7°C / 63.9°F <br><span style=\"color: #08306b;\">Coldest: 14.1°C / 57.4°F on Feb 11</span><br>",
          "<b>1987</b><br><span style=\"color: #67000d;\">Warmest: 22.4°C / 72.3°F on Aug 7</span><br>Average: 17.6°C / 63.6°F <br><span style=\"color: #08306b;\">Coldest: 12.7°C / 54.9°F on Dec 15</span><br>",
          "<b>1988</b><br><span style=\"color: #67000d;\">Warmest: 23.4°C / 74.1°F on Jul 21</span><br>Average: 17.0°C / 62.6°F <br><span style=\"color: #08306b;\">Coldest: 12.0°C / 53.6°F on Jan 23</span><br>",
          "<b>1989</b><br><span style=\"color: #67000d;\">Warmest: 22.8°C / 73.0°F on Aug 6</span><br>Average: 17.2°C / 63.0°F <br><span style=\"color: #08306b;\">Coldest: 12.0°C / 53.6°F on Jan 15</span><br>",
          "<b>1990</b><br><span style=\"color: #67000d;\">Warmest: 25.1°C / 77.2°F on Jul 18</span><br>Average: 17.9°C / 64.2°F <br><span style=\"color: #08306b;\">Coldest: 12.8°C / 55.0°F on Feb 15</span><br>",
          "<b>1991</b><br><span style=\"color: #67000d;\">Warmest: 24.2°C / 75.6°F on Jul 1</span><br>Average: 17.0°C / 62.6°F <br><span style=\"color: #08306b;\">Coldest: 12.2°C / 54.0°F on May 23</span><br>",
          "<b>1992</b><br><span style=\"color: #67000d;\">Warmest: 25.0°C / 77.0°F on Aug 17</span><br>Average: 18.3°C / 64.9°F <br><span style=\"color: #08306b;\">Coldest: 14.6°C / 58.3°F on Jan 3</span><br>",
          "<b>1993</b><br><span style=\"color: #67000d;\">Warmest: 23.4°C / 74.1°F on Sep 9</span><br>Average: 18.4°C / 65.1°F <br><span style=\"color: #08306b;\">Coldest: 14.5°C / 58.1°F on Jan 12</span><br>",
          "<b>1994</b><br><span style=\"color: #67000d;\">Warmest: 24.0°C / 75.2°F on Aug 28</span><br>Average: 18.1°C / 64.6°F <br><span style=\"color: #08306b;\">Coldest: 14.1°C / 57.4°F on Dec 12</span><br>",
          "<b>1995</b><br><span style=\"color: #67000d;\">Warmest: 22.7°C / 72.9°F on Sep 8</span><br>Average: 17.8°C / 64.0°F <br><span style=\"color: #08306b;\">Coldest: 13.8°C / 56.8°F on Apr 20</span><br>",
          "<b>1996</b><br><span style=\"color: #67000d;\">Warmest: 24.1°C / 75.4°F on Sep 6</span><br>Average: 17.9°C / 64.2°F <br><span style=\"color: #08306b;\">Coldest: 13.7°C / 56.7°F on Jan 26</span><br>",
          "<b>1997</b><br><span style=\"color: #67000d;\">Warmest: 24.3°C / 75.7°F on Sep 6</span><br>Average: 19.3°C / 66.8°F <br><span style=\"color: #08306b;\">Coldest: 14.1°C / 57.4°F on Feb 27</span><br>",
          "<b>1998</b><br><span style=\"color: #67000d;\">Warmest: 23.3°C / 73.9°F on Aug 27</span><br>Average: 18.1°C / 64.5°F <br><span style=\"color: #08306b;\">Coldest: 13.4°C / 56.1°F on Dec 12</span><br>",
          "<b>1999</b><br><span style=\"color: #67000d;\">Warmest: 23.6°C / 74.5°F on Jul 14</span><br>Average: 16.5°C / 61.7°F <br><span style=\"color: #08306b;\">Coldest: 12.2°C / 54.0°F on Apr 11</span><br>",
          "<b>2000</b><br><span style=\"color: #67000d;\">Warmest: 23.9°C / 75.0°F on Aug 24</span><br>Average: 17.7°C / 63.8°F <br><span style=\"color: #08306b;\">Coldest: 13.9°C / 57.0°F on Mar 9</span><br>",
          "<b>2001</b><br><span style=\"color: #67000d;\">Warmest: 24.0°C / 75.2°F on Sep 5</span><br>Average: 17.4°C / 63.4°F <br><span style=\"color: #08306b;\">Coldest: 13.3°C / 55.9°F on Feb 24</span><br>",
          "<b>2002</b><br><span style=\"color: #67000d;\">Warmest: 23.0°C / 73.4°F on Jul 2</span><br>Average: 17.4°C / 63.3°F <br><span style=\"color: #08306b;\">Coldest: 12.5°C / 54.5°F on Mar 25</span><br>",
          "<b>2003</b><br><span style=\"color: #67000d;\">Warmest: 22.8°C / 73.0°F on Jul 31</span><br>Average: 17.7°C / 63.9°F <br><span style=\"color: #08306b;\">Coldest: 13.9°C / 57.0°F on May 18</span><br>",
          "<b>2004</b><br><span style=\"color: #67000d;\">Warmest: 24.8°C / 76.6°F on Sep 11</span><br>Average: 18.4°C / 65.0°F <br><span style=\"color: #08306b;\">Coldest: 13.7°C / 56.7°F on Feb 20</span><br>",
          "<b>2005</b><br><span style=\"color: #67000d;\">Warmest: 24.1°C / 75.4°F on Jul 26</span><br>Average: 18.3°C / 64.9°F <br><span style=\"color: #08306b;\">Coldest: 14.6°C / 58.3°F on Dec 17</span><br>",
          "<b>2006</b><br><span style=\"color: #67000d;\">Warmest: 25.4°C / 77.7°F on Jul 28</span><br>Average: 18.1°C / 64.6°F <br><span style=\"color: #08306b;\">Coldest: 12.8°C / 55.0°F on Mar 19</span><br>",
          "<b>2007</b><br><span style=\"color: #67000d;\">Warmest: 24.6°C / 76.3°F on Aug 21</span><br>Average: 17.6°C / 63.8°F <br><span style=\"color: #08306b;\">Coldest: 13.2°C / 55.8°F on Dec 27</span><br>",
          "<b>2008</b><br><span style=\"color: #67000d;\">Warmest: 24.4°C / 75.9°F on Aug 9</span><br>Average: 17.7°C / 63.9°F <br><span style=\"color: #08306b;\">Coldest: 13.2°C / 55.8°F on Feb 4</span><br>",
          "<b>2009</b><br><span style=\"color: #67000d;\">Warmest: 25.3°C / 77.5°F on Sep 4</span><br>Average: 18.2°C / 64.7°F <br><span style=\"color: #08306b;\">Coldest: 13.3°C / 55.9°F on Jan 5</span><br>",
          "<b>2010</b><br><span style=\"color: #67000d;\">Warmest: 21.3°C / 70.3°F on Aug 7</span><br>Average: 17.2°C / 63.0°F <br><span style=\"color: #08306b;\">Coldest: 13.5°C / 56.3°F on Dec 10</span><br>",
          "<b>2011</b><br><span style=\"color: #67000d;\">Warmest: 22.6°C / 72.7°F on Aug 29</span><br>Average: 17.0°C / 62.6°F <br><span style=\"color: #08306b;\">Coldest: 13.5°C / 56.3°F on Mar 20</span><br>",
          "<b>2012</b><br><span style=\"color: #67000d;\">Warmest: 23.6°C / 74.5°F on Aug 14</span><br>Average: 17.7°C / 63.8°F <br><span style=\"color: #08306b;\">Coldest: 12.6°C / 54.7°F on Mar 17</span><br>",
          "<b>2013</b><br><span style=\"color: #67000d;\">Warmest: 23.0°C / 73.4°F on Jul 16</span><br>Average: 17.6°C / 63.7°F <br><span style=\"color: #08306b;\">Coldest: 12.5°C / 54.5°F on Jan 16</span><br>",
          "<b>2014</b><br><span style=\"color: #67000d;\">Warmest: 24.3°C / 75.7°F on Jul 11</span><br>Average: 19.5°C / 67.0°F <br><span style=\"color: #08306b;\">Coldest: 15.0°C / 59.0°F on Apr 5</span><br>",
          "<b>2015</b><br><span style=\"color: #67000d;\">Warmest: 25.3°C / 77.5°F on Sep 9</span><br>Average: 19.6°C / 67.3°F <br><span style=\"color: #08306b;\">Coldest: 14.6°C / 58.3°F on Apr 18</span><br>",
          "<b>2016</b><br><span style=\"color: #67000d;\">Warmest: 25.3°C / 77.5°F on Aug 2</span><br>Average: 18.7°C / 65.6°F <br><span style=\"color: #08306b;\">Coldest: 14.7°C / 58.5°F on Dec 29</span><br>",
          "<b>2017</b><br><span style=\"color: #67000d;\">Warmest: 24.8°C / 76.6°F on Aug 4</span><br>Average: 18.6°C / 65.5°F <br><span style=\"color: #08306b;\">Coldest: 14.4°C / 57.9°F on Feb 28</span><br>",
          "<b>2018</b><br><span style=\"color: #67000d;\">Warmest: 26.4°C / 79.5°F on Aug 9</span><br>Average: 19.1°C / 66.3°F <br><span style=\"color: #08306b;\">Coldest: 13.9°C / 57.0°F on Mar 26</span><br>",
          "<b>2019</b><br><span style=\"color: #67000d;\">Warmest: 25.7°C / 78.3°F on Sep 5</span><br>Average: 18.7°C / 65.6°F <br><span style=\"color: #08306b;\">Coldest: 13.7°C / 56.7°F on Feb 21</span><br>",
          "<b>2020</b><br><span style=\"color: #67000d;\">Warmest: 26.4°C / 79.5°F on Aug 23</span><br>Average: 18.4°C / 65.2°F <br><span style=\"color: #08306b;\">Coldest: 13.6°C / 56.5°F on Apr 3</span><br>",
          "<b>2021</b><br><span style=\"color: #67000d;\">Warmest: 24.9°C / 76.8°F on Jul 18</span><br>Average: 17.8°C / 64.1°F <br><span style=\"color: #08306b;\">Coldest: 13.1°C / 55.6°F on Mar 22</span><br>",
          "<b>2022</b><br><span style=\"color: #67000d;\">Warmest: 24.8°C / 76.6°F on Aug 27</span><br>Average: 18.3°C / 64.9°F <br><span style=\"color: #08306b;\">Coldest: 13.5°C / 56.3°F on Apr 27</span><br>"
         ],
         "type": "scatter",
         "x": [
          1917.5,
          1918.5,
          1919.5,
          1920.5,
          1921.5,
          1922.5,
          1923.5,
          1924.5,
          1925.5,
          1926.5,
          1927.5,
          1928.5,
          1929.5,
          1930.5,
          1931.5,
          1932.5,
          1933.5,
          1934.5,
          1935.5,
          1936.5,
          1937.5,
          1938.5,
          1939.5,
          1940.5,
          1941.5,
          1942.5,
          1943.5,
          1944.5,
          1945.5,
          1946.5,
          1947.5,
          1948.5,
          1949.5,
          1950.5,
          1951.5,
          1952.5,
          1953.5,
          1954.5,
          1955.5,
          1956.5,
          1957.5,
          1958.5,
          1959.5,
          1960.5,
          1961.5,
          1962.5,
          1963.5,
          1964.5,
          1965.5,
          1966.5,
          1967.5,
          1968.5,
          1969.5,
          1970.5,
          1971.5,
          1972.5,
          1973.5,
          1974.5,
          1975.5,
          1976.5,
          1977.5,
          1978.5,
          1979.5,
          1980.5,
          1981.5,
          1982.5,
          1983.5,
          1984.5,
          1985.5,
          1986.5,
          1987.5,
          1988.5,
          1989.5,
          1990.5,
          1991.5,
          1992.5,
          1993.5,
          1994.5,
          1995.5,
          1996.5,
          1997.5,
          1998.5,
          1999.5,
          2000.5,
          2001.5,
          2002.5,
          2003.5,
          2004.5,
          2005.5,
          2006.5,
          2007.5,
          2008.5,
          2009.5,
          2010.5,
          2011.5,
          2012.5,
          2013.5,
          2014.5,
          2015.5,
          2016.5,
          2017.5,
          2018.5,
          2019.5,
          2020.5,
          2021.5,
          2022.5
         ],
         "xaxis": "x",
         "y": [
          16.74271523178808,
          17.385113268608414,
          16.81003236245955,
          16.57617728531856,
          16.53622291021672,
          16.532899022801303,
          17.327722772277227,
          16.436807817589578,
          17.03232876712329,
          18.08109589041096,
          16.88027397260274,
          16.745081967213114,
          17.20739726027397,
          17.471703296703296,
          18.514246575342465,
          16.322191780821917,
          15.674520547945205,
          17.552066115702477,
          16.725205479452054,
          17.625956284153006,
          17.05945205479452,
          16.692602739726027,
          17.21123287671233,
          17.36639344262295,
          17.673424657534248,
          17.029041095890413,
          17.016438356164382,
          16.49672131147541,
          16.63041095890411,
          16.85753424657534,
          16.9013698630137,
          16.084426229508196,
          16.54849315068493,
          16.41780821917808,
          16.646927374301676,
          16.323480662983428,
          16.280716253443526,
          16.925280898876405,
          16.535911602209946,
          16.389344262295083,
          17.374380165289256,
          17.859116022099446,
          18.403856749311295,
          16.629234972677597,
          16.544109589041096,
          16.258356164383564,
          16.977260273972604,
          16.44071038251366,
          16.54328767123288,
          17.028767123287672,
          16.94904109589041,
          16.95,
          16.66931506849315,
          16.66043956043956,
          16.205753424657534,
          16.89344262295082,
          16.466849315068494,
          16.488736263736264,
          15.546027397260275,
          17.269398907103827,
          17.265479452054795,
          17.449035812672175,
          16.859944751381217,
          16.629805013927577,
          17.62884615384615,
          17.155801104972376,
          17.98434065934066,
          18.305205479452052,
          17.236263736263737,
          17.72967032967033,
          17.574175824175825,
          17.02409972299169,
          17.20219178082192,
          17.90497237569061,
          16.979063360881543,
          18.273684210526316,
          18.37621951219512,
          18.09329268292683,
          17.76530612244898,
          17.914191419141915,
          19.327906976744185,
          18.06070287539936,
          16.523229461756372,
          17.65845272206304,
          17.419220055710305,
          17.391388888888887,
          17.713690476190475,
          18.353994490358126,
          18.29385474860335,
          18.137254901960784,
          17.644117647058824,
          17.742151162790698,
          18.167341040462425,
          17.217045454545453,
          17.01497175141243,
          17.665819209039547,
          17.59152542372881,
          19.45483870967742,
          19.58529411764706,
          18.668050314465408,
          18.590764119601328,
          19.08258064516129,
          18.68179487179487,
          18.447528409090907,
          17.84997191011236,
          18.289863013698632
         ],
         "yaxis": "y"
        },
        {
         "hoverinfo": "none",
         "line": {
          "color": "black",
          "width": 0
         },
         "mode": "lines",
         "name": "Yearly average",
         "showlegend": false,
         "type": "scatter",
         "x": [
          1917,
          1918,
          1919,
          1920,
          1921,
          1922,
          1923,
          1924,
          1925,
          1926,
          1927,
          1928,
          1929,
          1930,
          1931,
          1932,
          1933,
          1934,
          1935,
          1936,
          1937,
          1938,
          1939,
          1940,
          1941,
          1942,
          1943,
          1944,
          1945,
          1946,
          1947,
          1948,
          1949,
          1950,
          1951,
          1952,
          1953,
          1954,
          1955,
          1956,
          1957,
          1958,
          1959,
          1960,
          1961,
          1962,
          1963,
          1964,
          1965,
          1966,
          1967,
          1968,
          1969,
          1970,
          1971,
          1972,
          1973,
          1974,
          1975,
          1976,
          1977,
          1978,
          1979,
          1980,
          1981,
          1982,
          1983,
          1984,
          1985,
          1986,
          1987,
          1988,
          1989,
          1990,
          1991,
          1992,
          1993,
          1994,
          1995,
          1996,
          1997,
          1998,
          1999,
          2000,
          2001,
          2002,
          2003,
          2004,
          2005,
          2006,
          2007,
          2008,
          2009,
          2010,
          2011,
          2012,
          2013,
          2014,
          2015,
          2016,
          2017,
          2018,
          2019,
          2020,
          2021,
          2022
         ],
         "xaxis": "x",
         "y": [
          62.136887417218546,
          63.293203883495146,
          62.25805825242719,
          61.83711911357341,
          61.76520123839009,
          61.75921824104235,
          63.189900990099005,
          61.586254071661244,
          62.65819178082192,
          64.54597260273974,
          62.38449315068493,
          62.14114754098361,
          62.97331506849315,
          63.449065934065935,
          65.32564383561643,
          61.37994520547945,
          60.21413698630137,
          63.59371900826446,
          62.1053698630137,
          63.726721311475416,
          62.707013698630135,
          62.046684931506846,
          62.980219178082194,
          63.25950819672131,
          63.81216438356165,
          62.65227397260274,
          62.62958904109589,
          61.694098360655744,
          61.9347397260274,
          62.34356164383561,
          62.42246575342466,
          60.951967213114756,
          61.787287671232875,
          61.552054794520544,
          61.96446927374302,
          61.38226519337017,
          61.30528925619835,
          62.46550561797753,
          61.764640883977904,
          61.50081967213115,
          63.27388429752067,
          64.14640883977901,
          65.12694214876034,
          61.93262295081968,
          61.779397260273974,
          61.26504109589041,
          62.55906849315069,
          61.59327868852459,
          61.777917808219186,
          62.65178082191781,
          62.50827397260274,
          62.51,
          62.00476712328768,
          61.98879120879121,
          61.17035616438356,
          62.40819672131147,
          61.64032876712329,
          61.67972527472527,
          59.98284931506849,
          63.08491803278689,
          63.07786301369863,
          63.40826446280992,
          62.347900552486195,
          61.93364902506964,
          63.731923076923074,
          62.88044198895028,
          64.3718131868132,
          64.94936986301369,
          63.02527472527473,
          63.91340659340659,
          63.63351648351649,
          62.64337950138504,
          62.96394520547946,
          64.2289502762431,
          62.562314049586774,
          64.89263157894737,
          65.07719512195122,
          64.56792682926829,
          63.977551020408164,
          64.24554455445545,
          66.79023255813954,
          64.50926517571885,
          61.74181303116147,
          63.785214899713466,
          63.35459610027855,
          63.3045,
          63.88464285714286,
          65.03719008264463,
          64.92893854748604,
          64.64705882352942,
          63.75941176470589,
          63.93587209302326,
          64.70121387283237,
          62.99068181818181,
          62.62694915254237,
          63.79847457627119,
          63.66474576271186,
          67.01870967741937,
          67.2535294117647,
          65.60249056603774,
          65.4633754152824,
          66.34864516129032,
          65.62723076923078,
          65.20555113636362,
          64.12994943820225,
          64.92175342465754
         ],
         "yaxis": "y2"
        }
       ],
       "layout": {
        "hovermode": "x unified",
        "plot_bgcolor": "white",
        "shapes": [
         {
          "fillcolor": "#9ecae1",
          "layer": "below",
          "line": {
           "color": "rgba(0,0,0,0)"
          },
          "type": "rect",
          "x0": 1917,
          "x1": 1918,
          "y0": 0,
          "y1": 30
         },
         {
          "fillcolor": "#deebf7",
          "layer": "below",
          "line": {
           "color": "rgba(0,0,0,0)"
          },
          "type": "rect",
          "x0": 1918,
          "x1": 1919,
          "y0": 0,
          "y1": 30
         },
         {
          "fillcolor": "#9ecae1",
          "layer": "below",
          "line": {
           "color": "rgba(0,0,0,0)"
          },
          "type": "rect",
          "x0": 1919,
          "x1": 1920,
          "y0": 0,
          "y1": 30
         },
         {
          "fillcolor": "#6baed6",
          "layer": "below",
          "line": {
           "color": "rgba(0,0,0,0)"
          },
          "type": "rect",
          "x0": 1920,
          "x1": 1921,
          "y0": 0,
          "y1": 30
         },
         {
          "fillcolor": "#6baed6",
          "layer": "below",
          "line": {
           "color": "rgba(0,0,0,0)"
          },
          "type": "rect",
          "x0": 1921,
          "x1": 1922,
          "y0": 0,
          "y1": 30
         },
         {
          "fillcolor": "#6baed6",
          "layer": "below",
          "line": {
           "color": "rgba(0,0,0,0)"
          },
          "type": "rect",
          "x0": 1922,
          "x1": 1923,
          "y0": 0,
          "y1": 30
         },
         {
          "fillcolor": "#deebf7",
          "layer": "below",
          "line": {
           "color": "rgba(0,0,0,0)"
          },
          "type": "rect",
          "x0": 1923,
          "x1": 1924,
          "y0": 0,
          "y1": 30
         },
         {
          "fillcolor": "#6baed6",
          "layer": "below",
          "line": {
           "color": "rgba(0,0,0,0)"
          },
          "type": "rect",
          "x0": 1924,
          "x1": 1925,
          "y0": 0,
          "y1": 30
         },
         {
          "fillcolor": "#c6dbef",
          "layer": "below",
          "line": {
           "color": "rgba(0,0,0,0)"
          },
          "type": "rect",
          "x0": 1925,
          "x1": 1926,
          "y0": 0,
          "y1": 30
         },
         {
          "fillcolor": "#fc9272",
          "layer": "below",
          "line": {
           "color": "rgba(0,0,0,0)"
          },
          "type": "rect",
          "x0": 1926,
          "x1": 1927,
          "y0": 0,
          "y1": 30
         },
         {
          "fillcolor": "#9ecae1",
          "layer": "below",
          "line": {
           "color": "rgba(0,0,0,0)"
          },
          "type": "rect",
          "x0": 1927,
          "x1": 1928,
          "y0": 0,
          "y1": 30
         },
         {
          "fillcolor": "#9ecae1",
          "layer": "below",
          "line": {
           "color": "rgba(0,0,0,0)"
          },
          "type": "rect",
          "x0": 1928,
          "x1": 1929,
          "y0": 0,
          "y1": 30
         },
         {
          "fillcolor": "#deebf7",
          "layer": "below",
          "line": {
           "color": "rgba(0,0,0,0)"
          },
          "type": "rect",
          "x0": 1929,
          "x1": 1930,
          "y0": 0,
          "y1": 30
         },
         {
          "fillcolor": "#fee0d2",
          "layer": "below",
          "line": {
           "color": "rgba(0,0,0,0)"
          },
          "type": "rect",
          "x0": 1930,
          "x1": 1931,
          "y0": 0,
          "y1": 30
         },
         {
          "fillcolor": "#ef3b2c",
          "layer": "below",
          "line": {
           "color": "rgba(0,0,0,0)"
          },
          "type": "rect",
          "x0": 1931,
          "x1": 1932,
          "y0": 0,
          "y1": 30
         },
         {
          "fillcolor": "#4292c6",
          "layer": "below",
          "line": {
           "color": "rgba(0,0,0,0)"
          },
          "type": "rect",
          "x0": 1932,
          "x1": 1933,
          "y0": 0,
          "y1": 30
         },
         {
          "fillcolor": "#08519c",
          "layer": "below",
          "line": {
           "color": "rgba(0,0,0,0)"
          },
          "type": "rect",
          "x0": 1933,
          "x1": 1934,
          "y0": 0,
          "y1": 30
         },
         {
          "fillcolor": "#fee0d2",
          "layer": "below",
          "line": {
           "color": "rgba(0,0,0,0)"
          },
          "type": "rect",
          "x0": 1934,
          "x1": 1935,
          "y0": 0,
          "y1": 30
         },
         {
          "fillcolor": "#9ecae1",
          "layer": "below",
          "line": {
           "color": "rgba(0,0,0,0)"
          },
          "type": "rect",
          "x0": 1935,
          "x1": 1936,
          "y0": 0,
          "y1": 30
         },
         {
          "fillcolor": "#fee0d2",
          "layer": "below",
          "line": {
           "color": "rgba(0,0,0,0)"
          },
          "type": "rect",
          "x0": 1936,
          "x1": 1937,
          "y0": 0,
          "y1": 30
         },
         {
          "fillcolor": "#c6dbef",
          "layer": "below",
          "line": {
           "color": "rgba(0,0,0,0)"
          },
          "type": "rect",
          "x0": 1937,
          "x1": 1938,
          "y0": 0,
          "y1": 30
         },
         {
          "fillcolor": "#9ecae1",
          "layer": "below",
          "line": {
           "color": "rgba(0,0,0,0)"
          },
          "type": "rect",
          "x0": 1938,
          "x1": 1939,
          "y0": 0,
          "y1": 30
         },
         {
          "fillcolor": "#deebf7",
          "layer": "below",
          "line": {
           "color": "rgba(0,0,0,0)"
          },
          "type": "rect",
          "x0": 1939,
          "x1": 1940,
          "y0": 0,
          "y1": 30
         },
         {
          "fillcolor": "#deebf7",
          "layer": "below",
          "line": {
           "color": "rgba(0,0,0,0)"
          },
          "type": "rect",
          "x0": 1940,
          "x1": 1941,
          "y0": 0,
          "y1": 30
         },
         {
          "fillcolor": "#fee0d2",
          "layer": "below",
          "line": {
           "color": "rgba(0,0,0,0)"
          },
          "type": "rect",
          "x0": 1941,
          "x1": 1942,
          "y0": 0,
          "y1": 30
         },
         {
          "fillcolor": "#c6dbef",
          "layer": "below",
          "line": {
           "color": "rgba(0,0,0,0)"
          },
          "type": "rect",
          "x0": 1942,
          "x1": 1943,
          "y0": 0,
          "y1": 30
         },
         {
          "fillcolor": "#c6dbef",
          "layer": "below",
          "line": {
           "color": "rgba(0,0,0,0)"
          },
          "type": "rect",
          "x0": 1943,
          "x1": 1944,
          "y0": 0,
          "y1": 30
         },
         {
          "fillcolor": "#6baed6",
          "layer": "below",
          "line": {
           "color": "rgba(0,0,0,0)"
          },
          "type": "rect",
          "x0": 1944,
          "x1": 1945,
          "y0": 0,
          "y1": 30
         },
         {
          "fillcolor": "#6baed6",
          "layer": "below",
          "line": {
           "color": "rgba(0,0,0,0)"
          },
          "type": "rect",
          "x0": 1945,
          "x1": 1946,
          "y0": 0,
          "y1": 30
         },
         {
          "fillcolor": "#9ecae1",
          "layer": "below",
          "line": {
           "color": "rgba(0,0,0,0)"
          },
          "type": "rect",
          "x0": 1946,
          "x1": 1947,
          "y0": 0,
          "y1": 30
         },
         {
          "fillcolor": "#9ecae1",
          "layer": "below",
          "line": {
           "color": "rgba(0,0,0,0)"
          },
          "type": "rect",
          "x0": 1947,
          "x1": 1948,
          "y0": 0,
          "y1": 30
         },
         {
          "fillcolor": "#2171b5",
          "layer": "below",
          "line": {
           "color": "rgba(0,0,0,0)"
          },
          "type": "rect",
          "x0": 1948,
          "x1": 1949,
          "y0": 0,
          "y1": 30
         },
         {
          "fillcolor": "#6baed6",
          "layer": "below",
          "line": {
           "color": "rgba(0,0,0,0)"
          },
          "type": "rect",
          "x0": 1949,
          "x1": 1950,
          "y0": 0,
          "y1": 30
         },
         {
          "fillcolor": "#4292c6",
          "layer": "below",
          "line": {
           "color": "rgba(0,0,0,0)"
          },
          "type": "rect",
          "x0": 1950,
          "x1": 1951,
          "y0": 0,
          "y1": 30
         },
         {
          "fillcolor": "#6baed6",
          "layer": "below",
          "line": {
           "color": "rgba(0,0,0,0)"
          },
          "type": "rect",
          "x0": 1951,
          "x1": 1952,
          "y0": 0,
          "y1": 30
         },
         {
          "fillcolor": "#4292c6",
          "layer": "below",
          "line": {
           "color": "rgba(0,0,0,0)"
          },
          "type": "rect",
          "x0": 1952,
          "x1": 1953,
          "y0": 0,
          "y1": 30
         },
         {
          "fillcolor": "#4292c6",
          "layer": "below",
          "line": {
           "color": "rgba(0,0,0,0)"
          },
          "type": "rect",
          "x0": 1953,
          "x1": 1954,
          "y0": 0,
          "y1": 30
         },
         {
          "fillcolor": "#9ecae1",
          "layer": "below",
          "line": {
           "color": "rgba(0,0,0,0)"
          },
          "type": "rect",
          "x0": 1954,
          "x1": 1955,
          "y0": 0,
          "y1": 30
         },
         {
          "fillcolor": "#6baed6",
          "layer": "below",
          "line": {
           "color": "rgba(0,0,0,0)"
          },
          "type": "rect",
          "x0": 1955,
          "x1": 1956,
          "y0": 0,
          "y1": 30
         },
         {
          "fillcolor": "#4292c6",
          "layer": "below",
          "line": {
           "color": "rgba(0,0,0,0)"
          },
          "type": "rect",
          "x0": 1956,
          "x1": 1957,
          "y0": 0,
          "y1": 30
         },
         {
          "fillcolor": "#deebf7",
          "layer": "below",
          "line": {
           "color": "rgba(0,0,0,0)"
          },
          "type": "rect",
          "x0": 1957,
          "x1": 1958,
          "y0": 0,
          "y1": 30
         },
         {
          "fillcolor": "#fcbba1",
          "layer": "below",
          "line": {
           "color": "rgba(0,0,0,0)"
          },
          "type": "rect",
          "x0": 1958,
          "x1": 1959,
          "y0": 0,
          "y1": 30
         },
         {
          "fillcolor": "#fb6a4a",
          "layer": "below",
          "line": {
           "color": "rgba(0,0,0,0)"
          },
          "type": "rect",
          "x0": 1959,
          "x1": 1960,
          "y0": 0,
          "y1": 30
         },
         {
          "fillcolor": "#6baed6",
          "layer": "below",
          "line": {
           "color": "rgba(0,0,0,0)"
          },
          "type": "rect",
          "x0": 1960,
          "x1": 1961,
          "y0": 0,
          "y1": 30
         },
         {
          "fillcolor": "#6baed6",
          "layer": "below",
          "line": {
           "color": "rgba(0,0,0,0)"
          },
          "type": "rect",
          "x0": 1961,
          "x1": 1962,
          "y0": 0,
          "y1": 30
         },
         {
          "fillcolor": "#4292c6",
          "layer": "below",
          "line": {
           "color": "rgba(0,0,0,0)"
          },
          "type": "rect",
          "x0": 1962,
          "x1": 1963,
          "y0": 0,
          "y1": 30
         },
         {
          "fillcolor": "#c6dbef",
          "layer": "below",
          "line": {
           "color": "rgba(0,0,0,0)"
          },
          "type": "rect",
          "x0": 1963,
          "x1": 1964,
          "y0": 0,
          "y1": 30
         },
         {
          "fillcolor": "#6baed6",
          "layer": "below",
          "line": {
           "color": "rgba(0,0,0,0)"
          },
          "type": "rect",
          "x0": 1964,
          "x1": 1965,
          "y0": 0,
          "y1": 30
         },
         {
          "fillcolor": "#6baed6",
          "layer": "below",
          "line": {
           "color": "rgba(0,0,0,0)"
          },
          "type": "rect",
          "x0": 1965,
          "x1": 1966,
          "y0": 0,
          "y1": 30
         },
         {
          "fillcolor": "#c6dbef",
          "layer": "below",
          "line": {
           "color": "rgba(0,0,0,0)"
          },
          "type": "rect",
          "x0": 1966,
          "x1": 1967,
          "y0": 0,
          "y1": 30
         },
         {
          "fillcolor": "#c6dbef",
          "layer": "below",
          "line": {
           "color": "rgba(0,0,0,0)"
          },
          "type": "rect",
          "x0": 1967,
          "x1": 1968,
          "y0": 0,
          "y1": 30
         },
         {
          "fillcolor": "#c6dbef",
          "layer": "below",
          "line": {
           "color": "rgba(0,0,0,0)"
          },
          "type": "rect",
          "x0": 1968,
          "x1": 1969,
          "y0": 0,
          "y1": 30
         },
         {
          "fillcolor": "#6baed6",
          "layer": "below",
          "line": {
           "color": "rgba(0,0,0,0)"
          },
          "type": "rect",
          "x0": 1969,
          "x1": 1970,
          "y0": 0,
          "y1": 30
         },
         {
          "fillcolor": "#6baed6",
          "layer": "below",
          "line": {
           "color": "rgba(0,0,0,0)"
          },
          "type": "rect",
          "x0": 1970,
          "x1": 1971,
          "y0": 0,
          "y1": 30
         },
         {
          "fillcolor": "#4292c6",
          "layer": "below",
          "line": {
           "color": "rgba(0,0,0,0)"
          },
          "type": "rect",
          "x0": 1971,
          "x1": 1972,
          "y0": 0,
          "y1": 30
         },
         {
          "fillcolor": "#9ecae1",
          "layer": "below",
          "line": {
           "color": "rgba(0,0,0,0)"
          },
          "type": "rect",
          "x0": 1972,
          "x1": 1973,
          "y0": 0,
          "y1": 30
         },
         {
          "fillcolor": "#6baed6",
          "layer": "below",
          "line": {
           "color": "rgba(0,0,0,0)"
          },
          "type": "rect",
          "x0": 1973,
          "x1": 1974,
          "y0": 0,
          "y1": 30
         },
         {
          "fillcolor": "#6baed6",
          "layer": "below",
          "line": {
           "color": "rgba(0,0,0,0)"
          },
          "type": "rect",
          "x0": 1974,
          "x1": 1975,
          "y0": 0,
          "y1": 30
         },
         {
          "fillcolor": "#08306b",
          "layer": "below",
          "line": {
           "color": "rgba(0,0,0,0)"
          },
          "type": "rect",
          "x0": 1975,
          "x1": 1976,
          "y0": 0,
          "y1": 30
         },
         {
          "fillcolor": "#deebf7",
          "layer": "below",
          "line": {
           "color": "rgba(0,0,0,0)"
          },
          "type": "rect",
          "x0": 1976,
          "x1": 1977,
          "y0": 0,
          "y1": 30
         },
         {
          "fillcolor": "#deebf7",
          "layer": "below",
          "line": {
           "color": "rgba(0,0,0,0)"
          },
          "type": "rect",
          "x0": 1977,
          "x1": 1978,
          "y0": 0,
          "y1": 30
         },
         {
          "fillcolor": "#fee0d2",
          "layer": "below",
          "line": {
           "color": "rgba(0,0,0,0)"
          },
          "type": "rect",
          "x0": 1978,
          "x1": 1979,
          "y0": 0,
          "y1": 30
         },
         {
          "fillcolor": "#9ecae1",
          "layer": "below",
          "line": {
           "color": "rgba(0,0,0,0)"
          },
          "type": "rect",
          "x0": 1979,
          "x1": 1980,
          "y0": 0,
          "y1": 30
         },
         {
          "fillcolor": "#6baed6",
          "layer": "below",
          "line": {
           "color": "rgba(0,0,0,0)"
          },
          "type": "rect",
          "x0": 1980,
          "x1": 1981,
          "y0": 0,
          "y1": 30
         },
         {
          "fillcolor": "#fee0d2",
          "layer": "below",
          "line": {
           "color": "rgba(0,0,0,0)"
          },
          "type": "rect",
          "x0": 1981,
          "x1": 1982,
          "y0": 0,
          "y1": 30
         },
         {
          "fillcolor": "#c6dbef",
          "layer": "below",
          "line": {
           "color": "rgba(0,0,0,0)"
          },
          "type": "rect",
          "x0": 1982,
          "x1": 1983,
          "y0": 0,
          "y1": 30
         },
         {
          "fillcolor": "#fc9272",
          "layer": "below",
          "line": {
           "color": "rgba(0,0,0,0)"
          },
          "type": "rect",
          "x0": 1983,
          "x1": 1984,
          "y0": 0,
          "y1": 30
         },
         {
          "fillcolor": "#fb6a4a",
          "layer": "below",
          "line": {
           "color": "rgba(0,0,0,0)"
          },
          "type": "rect",
          "x0": 1984,
          "x1": 1985,
          "y0": 0,
          "y1": 30
         },
         {
          "fillcolor": "#deebf7",
          "layer": "below",
          "line": {
           "color": "rgba(0,0,0,0)"
          },
          "type": "rect",
          "x0": 1985,
          "x1": 1986,
          "y0": 0,
          "y1": 30
         },
         {
          "fillcolor": "#fcbba1",
          "layer": "below",
          "line": {
           "color": "rgba(0,0,0,0)"
          },
          "type": "rect",
          "x0": 1986,
          "x1": 1987,
          "y0": 0,
          "y1": 30
         },
         {
          "fillcolor": "#fee0d2",
          "layer": "below",
          "line": {
           "color": "rgba(0,0,0,0)"
          },
          "type": "rect",
          "x0": 1987,
          "x1": 1988,
          "y0": 0,
          "y1": 30
         },
         {
          "fillcolor": "#c6dbef",
          "layer": "below",
          "line": {
           "color": "rgba(0,0,0,0)"
          },
          "type": "rect",
          "x0": 1988,
          "x1": 1989,
          "y0": 0,
          "y1": 30
         },
         {
          "fillcolor": "#deebf7",
          "layer": "below",
          "line": {
           "color": "rgba(0,0,0,0)"
          },
          "type": "rect",
          "x0": 1989,
          "x1": 1990,
          "y0": 0,
          "y1": 30
         },
         {
          "fillcolor": "#fcbba1",
          "layer": "below",
          "line": {
           "color": "rgba(0,0,0,0)"
          },
          "type": "rect",
          "x0": 1990,
          "x1": 1991,
          "y0": 0,
          "y1": 30
         },
         {
          "fillcolor": "#c6dbef",
          "layer": "below",
          "line": {
           "color": "rgba(0,0,0,0)"
          },
          "type": "rect",
          "x0": 1991,
          "x1": 1992,
          "y0": 0,
          "y1": 30
         },
         {
          "fillcolor": "#fb6a4a",
          "layer": "below",
          "line": {
           "color": "rgba(0,0,0,0)"
          },
          "type": "rect",
          "x0": 1992,
          "x1": 1993,
          "y0": 0,
          "y1": 30
         },
         {
          "fillcolor": "#fb6a4a",
          "layer": "below",
          "line": {
           "color": "rgba(0,0,0,0)"
          },
          "type": "rect",
          "x0": 1993,
          "x1": 1994,
          "y0": 0,
          "y1": 30
         },
         {
          "fillcolor": "#fc9272",
          "layer": "below",
          "line": {
           "color": "rgba(0,0,0,0)"
          },
          "type": "rect",
          "x0": 1994,
          "x1": 1995,
          "y0": 0,
          "y1": 30
         },
         {
          "fillcolor": "#fcbba1",
          "layer": "below",
          "line": {
           "color": "rgba(0,0,0,0)"
          },
          "type": "rect",
          "x0": 1995,
          "x1": 1996,
          "y0": 0,
          "y1": 30
         },
         {
          "fillcolor": "#fcbba1",
          "layer": "below",
          "line": {
           "color": "rgba(0,0,0,0)"
          },
          "type": "rect",
          "x0": 1996,
          "x1": 1997,
          "y0": 0,
          "y1": 30
         },
         {
          "fillcolor": "#67000d",
          "layer": "below",
          "line": {
           "color": "rgba(0,0,0,0)"
          },
          "type": "rect",
          "x0": 1997,
          "x1": 1998,
          "y0": 0,
          "y1": 30
         },
         {
          "fillcolor": "#fc9272",
          "layer": "below",
          "line": {
           "color": "rgba(0,0,0,0)"
          },
          "type": "rect",
          "x0": 1998,
          "x1": 1999,
          "y0": 0,
          "y1": 30
         },
         {
          "fillcolor": "#6baed6",
          "layer": "below",
          "line": {
           "color": "rgba(0,0,0,0)"
          },
          "type": "rect",
          "x0": 1999,
          "x1": 2000,
          "y0": 0,
          "y1": 30
         },
         {
          "fillcolor": "#fee0d2",
          "layer": "below",
          "line": {
           "color": "rgba(0,0,0,0)"
          },
          "type": "rect",
          "x0": 2000,
          "x1": 2001,
          "y0": 0,
          "y1": 30
         },
         {
          "fillcolor": "#deebf7",
          "layer": "below",
          "line": {
           "color": "rgba(0,0,0,0)"
          },
          "type": "rect",
          "x0": 2001,
          "x1": 2002,
          "y0": 0,
          "y1": 30
         },
         {
          "fillcolor": "#deebf7",
          "layer": "below",
          "line": {
           "color": "rgba(0,0,0,0)"
          },
          "type": "rect",
          "x0": 2002,
          "x1": 2003,
          "y0": 0,
          "y1": 30
         },
         {
          "fillcolor": "#fcbba1",
          "layer": "below",
          "line": {
           "color": "rgba(0,0,0,0)"
          },
          "type": "rect",
          "x0": 2003,
          "x1": 2004,
          "y0": 0,
          "y1": 30
         },
         {
          "fillcolor": "#fb6a4a",
          "layer": "below",
          "line": {
           "color": "rgba(0,0,0,0)"
          },
          "type": "rect",
          "x0": 2004,
          "x1": 2005,
          "y0": 0,
          "y1": 30
         },
         {
          "fillcolor": "#fb6a4a",
          "layer": "below",
          "line": {
           "color": "rgba(0,0,0,0)"
          },
          "type": "rect",
          "x0": 2005,
          "x1": 2006,
          "y0": 0,
          "y1": 30
         },
         {
          "fillcolor": "#fc9272",
          "layer": "below",
          "line": {
           "color": "rgba(0,0,0,0)"
          },
          "type": "rect",
          "x0": 2006,
          "x1": 2007,
          "y0": 0,
          "y1": 30
         },
         {
          "fillcolor": "#fee0d2",
          "layer": "below",
          "line": {
           "color": "rgba(0,0,0,0)"
          },
          "type": "rect",
          "x0": 2007,
          "x1": 2008,
          "y0": 0,
          "y1": 30
         },
         {
          "fillcolor": "#fcbba1",
          "layer": "below",
          "line": {
           "color": "rgba(0,0,0,0)"
          },
          "type": "rect",
          "x0": 2008,
          "x1": 2009,
          "y0": 0,
          "y1": 30
         },
         {
          "fillcolor": "#fc9272",
          "layer": "below",
          "line": {
           "color": "rgba(0,0,0,0)"
          },
          "type": "rect",
          "x0": 2009,
          "x1": 2010,
          "y0": 0,
          "y1": 30
         },
         {
          "fillcolor": "#deebf7",
          "layer": "below",
          "line": {
           "color": "rgba(0,0,0,0)"
          },
          "type": "rect",
          "x0": 2010,
          "x1": 2011,
          "y0": 0,
          "y1": 30
         },
         {
          "fillcolor": "#c6dbef",
          "layer": "below",
          "line": {
           "color": "rgba(0,0,0,0)"
          },
          "type": "rect",
          "x0": 2011,
          "x1": 2012,
          "y0": 0,
          "y1": 30
         },
         {
          "fillcolor": "#fee0d2",
          "layer": "below",
          "line": {
           "color": "rgba(0,0,0,0)"
          },
          "type": "rect",
          "x0": 2012,
          "x1": 2013,
          "y0": 0,
          "y1": 30
         },
         {
          "fillcolor": "#fee0d2",
          "layer": "below",
          "line": {
           "color": "rgba(0,0,0,0)"
          },
          "type": "rect",
          "x0": 2013,
          "x1": 2014,
          "y0": 0,
          "y1": 30
         },
         {
          "fillcolor": "#67000d",
          "layer": "below",
          "line": {
           "color": "rgba(0,0,0,0)"
          },
          "type": "rect",
          "x0": 2014,
          "x1": 2015,
          "y0": 0,
          "y1": 30
         },
         {
          "fillcolor": "#67000d",
          "layer": "below",
          "line": {
           "color": "rgba(0,0,0,0)"
          },
          "type": "rect",
          "x0": 2015,
          "x1": 2016,
          "y0": 0,
          "y1": 30
         },
         {
          "fillcolor": "#ef3b2c",
          "layer": "below",
          "line": {
           "color": "rgba(0,0,0,0)"
          },
          "type": "rect",
          "x0": 2016,
          "x1": 2017,
          "y0": 0,
          "y1": 30
         },
         {
          "fillcolor": "#ef3b2c",
          "layer": "below",
          "line": {
           "color": "rgba(0,0,0,0)"
          },
          "type": "rect",
          "x0": 2017,
          "x1": 2018,
          "y0": 0,
          "y1": 30
         },
         {
          "fillcolor": "#a50f15",
          "layer": "below",
          "line": {
           "color": "rgba(0,0,0,0)"
          },
          "type": "rect",
          "x0": 2018,
          "x1": 2019,
          "y0": 0,
          "y1": 30
         },
         {
          "fillcolor": "#ef3b2c",
          "layer": "below",
          "line": {
           "color": "rgba(0,0,0,0)"
          },
          "type": "rect",
          "x0": 2019,
          "x1": 2020,
          "y0": 0,
          "y1": 30
         },
         {
          "fillcolor": "#fb6a4a",
          "layer": "below",
          "line": {
           "color": "rgba(0,0,0,0)"
          },
          "type": "rect",
          "x0": 2020,
          "x1": 2021,
          "y0": 0,
          "y1": 30
         },
         {
          "fillcolor": "#fcbba1",
          "layer": "below",
          "line": {
           "color": "rgba(0,0,0,0)"
          },
          "type": "rect",
          "x0": 2021,
          "x1": 2022,
          "y0": 0,
          "y1": 30
         },
         {
          "fillcolor": "#fb6a4a",
          "layer": "below",
          "line": {
           "color": "rgba(0,0,0,0)"
          },
          "type": "rect",
          "x0": 2022,
          "x1": 2023,
          "y0": 0,
          "y1": 30
         }
        ],
        "template": {
         "data": {
          "bar": [
           {
            "error_x": {
             "color": "#2a3f5f"
            },
            "error_y": {
             "color": "#2a3f5f"
            },
            "marker": {
             "line": {
              "color": "#E5ECF6",
              "width": 0.5
             },
             "pattern": {
              "fillmode": "overlay",
              "size": 10,
              "solidity": 0.2
             }
            },
            "type": "bar"
           }
          ],
          "barpolar": [
           {
            "marker": {
             "line": {
              "color": "#E5ECF6",
              "width": 0.5
             },
             "pattern": {
              "fillmode": "overlay",
              "size": 10,
              "solidity": 0.2
             }
            },
            "type": "barpolar"
           }
          ],
          "carpet": [
           {
            "aaxis": {
             "endlinecolor": "#2a3f5f",
             "gridcolor": "white",
             "linecolor": "white",
             "minorgridcolor": "white",
             "startlinecolor": "#2a3f5f"
            },
            "baxis": {
             "endlinecolor": "#2a3f5f",
             "gridcolor": "white",
             "linecolor": "white",
             "minorgridcolor": "white",
             "startlinecolor": "#2a3f5f"
            },
            "type": "carpet"
           }
          ],
          "choropleth": [
           {
            "colorbar": {
             "outlinewidth": 0,
             "ticks": ""
            },
            "type": "choropleth"
           }
          ],
          "contour": [
           {
            "colorbar": {
             "outlinewidth": 0,
             "ticks": ""
            },
            "colorscale": [
             [
              0,
              "#0d0887"
             ],
             [
              0.1111111111111111,
              "#46039f"
             ],
             [
              0.2222222222222222,
              "#7201a8"
             ],
             [
              0.3333333333333333,
              "#9c179e"
             ],
             [
              0.4444444444444444,
              "#bd3786"
             ],
             [
              0.5555555555555556,
              "#d8576b"
             ],
             [
              0.6666666666666666,
              "#ed7953"
             ],
             [
              0.7777777777777778,
              "#fb9f3a"
             ],
             [
              0.8888888888888888,
              "#fdca26"
             ],
             [
              1,
              "#f0f921"
             ]
            ],
            "type": "contour"
           }
          ],
          "contourcarpet": [
           {
            "colorbar": {
             "outlinewidth": 0,
             "ticks": ""
            },
            "type": "contourcarpet"
           }
          ],
          "heatmap": [
           {
            "colorbar": {
             "outlinewidth": 0,
             "ticks": ""
            },
            "colorscale": [
             [
              0,
              "#0d0887"
             ],
             [
              0.1111111111111111,
              "#46039f"
             ],
             [
              0.2222222222222222,
              "#7201a8"
             ],
             [
              0.3333333333333333,
              "#9c179e"
             ],
             [
              0.4444444444444444,
              "#bd3786"
             ],
             [
              0.5555555555555556,
              "#d8576b"
             ],
             [
              0.6666666666666666,
              "#ed7953"
             ],
             [
              0.7777777777777778,
              "#fb9f3a"
             ],
             [
              0.8888888888888888,
              "#fdca26"
             ],
             [
              1,
              "#f0f921"
             ]
            ],
            "type": "heatmap"
           }
          ],
          "heatmapgl": [
           {
            "colorbar": {
             "outlinewidth": 0,
             "ticks": ""
            },
            "colorscale": [
             [
              0,
              "#0d0887"
             ],
             [
              0.1111111111111111,
              "#46039f"
             ],
             [
              0.2222222222222222,
              "#7201a8"
             ],
             [
              0.3333333333333333,
              "#9c179e"
             ],
             [
              0.4444444444444444,
              "#bd3786"
             ],
             [
              0.5555555555555556,
              "#d8576b"
             ],
             [
              0.6666666666666666,
              "#ed7953"
             ],
             [
              0.7777777777777778,
              "#fb9f3a"
             ],
             [
              0.8888888888888888,
              "#fdca26"
             ],
             [
              1,
              "#f0f921"
             ]
            ],
            "type": "heatmapgl"
           }
          ],
          "histogram": [
           {
            "marker": {
             "pattern": {
              "fillmode": "overlay",
              "size": 10,
              "solidity": 0.2
             }
            },
            "type": "histogram"
           }
          ],
          "histogram2d": [
           {
            "colorbar": {
             "outlinewidth": 0,
             "ticks": ""
            },
            "colorscale": [
             [
              0,
              "#0d0887"
             ],
             [
              0.1111111111111111,
              "#46039f"
             ],
             [
              0.2222222222222222,
              "#7201a8"
             ],
             [
              0.3333333333333333,
              "#9c179e"
             ],
             [
              0.4444444444444444,
              "#bd3786"
             ],
             [
              0.5555555555555556,
              "#d8576b"
             ],
             [
              0.6666666666666666,
              "#ed7953"
             ],
             [
              0.7777777777777778,
              "#fb9f3a"
             ],
             [
              0.8888888888888888,
              "#fdca26"
             ],
             [
              1,
              "#f0f921"
             ]
            ],
            "type": "histogram2d"
           }
          ],
          "histogram2dcontour": [
           {
            "colorbar": {
             "outlinewidth": 0,
             "ticks": ""
            },
            "colorscale": [
             [
              0,
              "#0d0887"
             ],
             [
              0.1111111111111111,
              "#46039f"
             ],
             [
              0.2222222222222222,
              "#7201a8"
             ],
             [
              0.3333333333333333,
              "#9c179e"
             ],
             [
              0.4444444444444444,
              "#bd3786"
             ],
             [
              0.5555555555555556,
              "#d8576b"
             ],
             [
              0.6666666666666666,
              "#ed7953"
             ],
             [
              0.7777777777777778,
              "#fb9f3a"
             ],
             [
              0.8888888888888888,
              "#fdca26"
             ],
             [
              1,
              "#f0f921"
             ]
            ],
            "type": "histogram2dcontour"
           }
          ],
          "mesh3d": [
           {
            "colorbar": {
             "outlinewidth": 0,
             "ticks": ""
            },
            "type": "mesh3d"
           }
          ],
          "parcoords": [
           {
            "line": {
             "colorbar": {
              "outlinewidth": 0,
              "ticks": ""
             }
            },
            "type": "parcoords"
           }
          ],
          "pie": [
           {
            "automargin": true,
            "type": "pie"
           }
          ],
          "scatter": [
           {
            "fillpattern": {
             "fillmode": "overlay",
             "size": 10,
             "solidity": 0.2
            },
            "type": "scatter"
           }
          ],
          "scatter3d": [
           {
            "line": {
             "colorbar": {
              "outlinewidth": 0,
              "ticks": ""
             }
            },
            "marker": {
             "colorbar": {
              "outlinewidth": 0,
              "ticks": ""
             }
            },
            "type": "scatter3d"
           }
          ],
          "scattercarpet": [
           {
            "marker": {
             "colorbar": {
              "outlinewidth": 0,
              "ticks": ""
             }
            },
            "type": "scattercarpet"
           }
          ],
          "scattergeo": [
           {
            "marker": {
             "colorbar": {
              "outlinewidth": 0,
              "ticks": ""
             }
            },
            "type": "scattergeo"
           }
          ],
          "scattergl": [
           {
            "marker": {
             "colorbar": {
              "outlinewidth": 0,
              "ticks": ""
             }
            },
            "type": "scattergl"
           }
          ],
          "scattermapbox": [
           {
            "marker": {
             "colorbar": {
              "outlinewidth": 0,
              "ticks": ""
             }
            },
            "type": "scattermapbox"
           }
          ],
          "scatterpolar": [
           {
            "marker": {
             "colorbar": {
              "outlinewidth": 0,
              "ticks": ""
             }
            },
            "type": "scatterpolar"
           }
          ],
          "scatterpolargl": [
           {
            "marker": {
             "colorbar": {
              "outlinewidth": 0,
              "ticks": ""
             }
            },
            "type": "scatterpolargl"
           }
          ],
          "scatterternary": [
           {
            "marker": {
             "colorbar": {
              "outlinewidth": 0,
              "ticks": ""
             }
            },
            "type": "scatterternary"
           }
          ],
          "surface": [
           {
            "colorbar": {
             "outlinewidth": 0,
             "ticks": ""
            },
            "colorscale": [
             [
              0,
              "#0d0887"
             ],
             [
              0.1111111111111111,
              "#46039f"
             ],
             [
              0.2222222222222222,
              "#7201a8"
             ],
             [
              0.3333333333333333,
              "#9c179e"
             ],
             [
              0.4444444444444444,
              "#bd3786"
             ],
             [
              0.5555555555555556,
              "#d8576b"
             ],
             [
              0.6666666666666666,
              "#ed7953"
             ],
             [
              0.7777777777777778,
              "#fb9f3a"
             ],
             [
              0.8888888888888888,
              "#fdca26"
             ],
             [
              1,
              "#f0f921"
             ]
            ],
            "type": "surface"
           }
          ],
          "table": [
           {
            "cells": {
             "fill": {
              "color": "#EBF0F8"
             },
             "line": {
              "color": "white"
             }
            },
            "header": {
             "fill": {
              "color": "#C8D4E3"
             },
             "line": {
              "color": "white"
             }
            },
            "type": "table"
           }
          ]
         },
         "layout": {
          "annotationdefaults": {
           "arrowcolor": "#2a3f5f",
           "arrowhead": 0,
           "arrowwidth": 1
          },
          "autotypenumbers": "strict",
          "coloraxis": {
           "colorbar": {
            "outlinewidth": 0,
            "ticks": ""
           }
          },
          "colorscale": {
           "diverging": [
            [
             0,
             "#8e0152"
            ],
            [
             0.1,
             "#c51b7d"
            ],
            [
             0.2,
             "#de77ae"
            ],
            [
             0.3,
             "#f1b6da"
            ],
            [
             0.4,
             "#fde0ef"
            ],
            [
             0.5,
             "#f7f7f7"
            ],
            [
             0.6,
             "#e6f5d0"
            ],
            [
             0.7,
             "#b8e186"
            ],
            [
             0.8,
             "#7fbc41"
            ],
            [
             0.9,
             "#4d9221"
            ],
            [
             1,
             "#276419"
            ]
           ],
           "sequential": [
            [
             0,
             "#0d0887"
            ],
            [
             0.1111111111111111,
             "#46039f"
            ],
            [
             0.2222222222222222,
             "#7201a8"
            ],
            [
             0.3333333333333333,
             "#9c179e"
            ],
            [
             0.4444444444444444,
             "#bd3786"
            ],
            [
             0.5555555555555556,
             "#d8576b"
            ],
            [
             0.6666666666666666,
             "#ed7953"
            ],
            [
             0.7777777777777778,
             "#fb9f3a"
            ],
            [
             0.8888888888888888,
             "#fdca26"
            ],
            [
             1,
             "#f0f921"
            ]
           ],
           "sequentialminus": [
            [
             0,
             "#0d0887"
            ],
            [
             0.1111111111111111,
             "#46039f"
            ],
            [
             0.2222222222222222,
             "#7201a8"
            ],
            [
             0.3333333333333333,
             "#9c179e"
            ],
            [
             0.4444444444444444,
             "#bd3786"
            ],
            [
             0.5555555555555556,
             "#d8576b"
            ],
            [
             0.6666666666666666,
             "#ed7953"
            ],
            [
             0.7777777777777778,
             "#fb9f3a"
            ],
            [
             0.8888888888888888,
             "#fdca26"
            ],
            [
             1,
             "#f0f921"
            ]
           ]
          },
          "colorway": [
           "#636efa",
           "#EF553B",
           "#00cc96",
           "#ab63fa",
           "#FFA15A",
           "#19d3f3",
           "#FF6692",
           "#B6E880",
           "#FF97FF",
           "#FECB52"
          ],
          "font": {
           "color": "#2a3f5f"
          },
          "geo": {
           "bgcolor": "white",
           "lakecolor": "white",
           "landcolor": "#E5ECF6",
           "showlakes": true,
           "showland": true,
           "subunitcolor": "white"
          },
          "hoverlabel": {
           "align": "left"
          },
          "hovermode": "closest",
          "mapbox": {
           "style": "light"
          },
          "paper_bgcolor": "white",
          "plot_bgcolor": "#E5ECF6",
          "polar": {
           "angularaxis": {
            "gridcolor": "white",
            "linecolor": "white",
            "ticks": ""
           },
           "bgcolor": "#E5ECF6",
           "radialaxis": {
            "gridcolor": "white",
            "linecolor": "white",
            "ticks": ""
           }
          },
          "scene": {
           "xaxis": {
            "backgroundcolor": "#E5ECF6",
            "gridcolor": "white",
            "gridwidth": 2,
            "linecolor": "white",
            "showbackground": true,
            "ticks": "",
            "zerolinecolor": "white"
           },
           "yaxis": {
            "backgroundcolor": "#E5ECF6",
            "gridcolor": "white",
            "gridwidth": 2,
            "linecolor": "white",
            "showbackground": true,
            "ticks": "",
            "zerolinecolor": "white"
           },
           "zaxis": {
            "backgroundcolor": "#E5ECF6",
            "gridcolor": "white",
            "gridwidth": 2,
            "linecolor": "white",
            "showbackground": true,
            "ticks": "",
            "zerolinecolor": "white"
           }
          },
          "shapedefaults": {
           "line": {
            "color": "#2a3f5f"
           }
          },
          "ternary": {
           "aaxis": {
            "gridcolor": "white",
            "linecolor": "white",
            "ticks": ""
           },
           "baxis": {
            "gridcolor": "white",
            "linecolor": "white",
            "ticks": ""
           },
           "bgcolor": "#E5ECF6",
           "caxis": {
            "gridcolor": "white",
            "linecolor": "white",
            "ticks": ""
           }
          },
          "title": {
           "x": 0.05
          },
          "xaxis": {
           "automargin": true,
           "gridcolor": "white",
           "linecolor": "white",
           "ticks": "",
           "title": {
            "standoff": 15
           },
           "zerolinecolor": "white",
           "zerolinewidth": 2
          },
          "yaxis": {
           "automargin": true,
           "gridcolor": "white",
           "linecolor": "white",
           "ticks": "",
           "title": {
            "standoff": 15
           },
           "zerolinecolor": "white",
           "zerolinewidth": 2
          }
         }
        },
        "title": {
         "text": "Interannual Sea Surface Temperature Trends at Scripps Pier"
        },
        "xaxis": {
         "anchor": "y",
         "domain": [
          0,
          0.94
         ],
         "range": [
          1917,
          2022
         ],
         "showgrid": false,
         "title": {
          "text": "Year"
         }
        },
        "yaxis": {
         "anchor": "x",
         "domain": [
          0,
          1
         ],
         "range": [
          15.046027397260275,
          20.08529411764706
         ],
         "showgrid": false,
         "side": "left",
         "title": {
          "text": "Sea Surface Temperature (°C)"
         }
        },
        "yaxis2": {
         "anchor": "x",
         "overlaying": "y",
         "range": [
          59.0828493150685,
          68.15352941176471
         ],
         "showgrid": false,
         "side": "right",
         "title": {
          "text": "Sea Surface Temperature (°F)"
         }
        }
       }
      }
     },
     "metadata": {},
     "output_type": "display_data"
    }
   ],
   "source": [
    "fig"
   ]
  },
  {
   "cell_type": "code",
   "execution_count": null,
   "metadata": {},
   "outputs": [],
   "source": []
  }
 ],
 "metadata": {
  "kernelspec": {
   "display_name": "sccoos",
   "language": "python",
   "name": "python3"
  },
  "language_info": {
   "codemirror_mode": {
    "name": "ipython",
    "version": 3
   },
   "file_extension": ".py",
   "mimetype": "text/x-python",
   "name": "python",
   "nbconvert_exporter": "python",
   "pygments_lexer": "ipython3",
   "version": "3.11.5"
  }
 },
 "nbformat": 4,
 "nbformat_minor": 2
}
