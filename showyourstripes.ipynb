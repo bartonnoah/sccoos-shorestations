{
 "cells": [
  {
   "cell_type": "code",
   "execution_count": 138,
   "metadata": {},
   "outputs": [],
   "source": [
    "import pandas as pd\n",
    "import numpy as np\n",
    "from sklearn.linear_model import LinearRegression\n",
    "from datetime import date\n",
    "import plotly.graph_objects as go"
   ]
  },
  {
   "cell_type": "code",
   "execution_count": 139,
   "metadata": {},
   "outputs": [],
   "source": [
    "c_to_f = lambda c :(9/5)*c + 32"
   ]
  },
  {
   "cell_type": "code",
   "execution_count": 140,
   "metadata": {},
   "outputs": [
    {
     "data": {
      "text/html": [
       "<div>\n",
       "<style scoped>\n",
       "    .dataframe tbody tr th:only-of-type {\n",
       "        vertical-align: middle;\n",
       "    }\n",
       "\n",
       "    .dataframe tbody tr th {\n",
       "        vertical-align: top;\n",
       "    }\n",
       "\n",
       "    .dataframe thead th {\n",
       "        text-align: right;\n",
       "    }\n",
       "</style>\n",
       "<table border=\"1\" class=\"dataframe\">\n",
       "  <thead>\n",
       "    <tr style=\"text-align: right;\">\n",
       "      <th></th>\n",
       "      <th>year</th>\n",
       "      <th>month</th>\n",
       "      <th>day</th>\n",
       "      <th>3</th>\n",
       "      <th>4</th>\n",
       "      <th>sst</th>\n",
       "      <th>6</th>\n",
       "      <th>7</th>\n",
       "      <th>8</th>\n",
       "      <th>date</th>\n",
       "    </tr>\n",
       "  </thead>\n",
       "  <tbody>\n",
       "    <tr>\n",
       "      <th>114</th>\n",
       "      <td>1917</td>\n",
       "      <td>1</td>\n",
       "      <td>1</td>\n",
       "      <td>NaN</td>\n",
       "      <td>NaN</td>\n",
       "      <td>NaN</td>\n",
       "      <td>0</td>\n",
       "      <td>NaN</td>\n",
       "      <td>NaN</td>\n",
       "      <td>1917-01-01</td>\n",
       "    </tr>\n",
       "    <tr>\n",
       "      <th>115</th>\n",
       "      <td>1917</td>\n",
       "      <td>1</td>\n",
       "      <td>2</td>\n",
       "      <td>NaN</td>\n",
       "      <td>NaN</td>\n",
       "      <td>11.5</td>\n",
       "      <td>0</td>\n",
       "      <td>NaN</td>\n",
       "      <td>NaN</td>\n",
       "      <td>1917-01-02</td>\n",
       "    </tr>\n",
       "    <tr>\n",
       "      <th>116</th>\n",
       "      <td>1917</td>\n",
       "      <td>1</td>\n",
       "      <td>3</td>\n",
       "      <td>NaN</td>\n",
       "      <td>NaN</td>\n",
       "      <td>11.9</td>\n",
       "      <td>0</td>\n",
       "      <td>NaN</td>\n",
       "      <td>NaN</td>\n",
       "      <td>1917-01-03</td>\n",
       "    </tr>\n",
       "    <tr>\n",
       "      <th>117</th>\n",
       "      <td>1917</td>\n",
       "      <td>1</td>\n",
       "      <td>4</td>\n",
       "      <td>NaN</td>\n",
       "      <td>NaN</td>\n",
       "      <td>11.5</td>\n",
       "      <td>0</td>\n",
       "      <td>NaN</td>\n",
       "      <td>NaN</td>\n",
       "      <td>1917-01-04</td>\n",
       "    </tr>\n",
       "    <tr>\n",
       "      <th>118</th>\n",
       "      <td>1917</td>\n",
       "      <td>1</td>\n",
       "      <td>5</td>\n",
       "      <td>NaN</td>\n",
       "      <td>NaN</td>\n",
       "      <td>11.7</td>\n",
       "      <td>0</td>\n",
       "      <td>NaN</td>\n",
       "      <td>NaN</td>\n",
       "      <td>1917-01-05</td>\n",
       "    </tr>\n",
       "    <tr>\n",
       "      <th>...</th>\n",
       "      <td>...</td>\n",
       "      <td>...</td>\n",
       "      <td>...</td>\n",
       "      <td>...</td>\n",
       "      <td>...</td>\n",
       "      <td>...</td>\n",
       "      <td>...</td>\n",
       "      <td>...</td>\n",
       "      <td>...</td>\n",
       "      <td>...</td>\n",
       "    </tr>\n",
       "    <tr>\n",
       "      <th>38825</th>\n",
       "      <td>2022</td>\n",
       "      <td>12</td>\n",
       "      <td>27</td>\n",
       "      <td>1440.0</td>\n",
       "      <td>0.0</td>\n",
       "      <td>14.7</td>\n",
       "      <td>0</td>\n",
       "      <td>14.6</td>\n",
       "      <td>0.0</td>\n",
       "      <td>2022-12-27</td>\n",
       "    </tr>\n",
       "    <tr>\n",
       "      <th>38826</th>\n",
       "      <td>2022</td>\n",
       "      <td>12</td>\n",
       "      <td>28</td>\n",
       "      <td>1320.0</td>\n",
       "      <td>0.0</td>\n",
       "      <td>15.1</td>\n",
       "      <td>0</td>\n",
       "      <td>14.9</td>\n",
       "      <td>0.0</td>\n",
       "      <td>2022-12-28</td>\n",
       "    </tr>\n",
       "    <tr>\n",
       "      <th>38827</th>\n",
       "      <td>2022</td>\n",
       "      <td>12</td>\n",
       "      <td>29</td>\n",
       "      <td>1430.0</td>\n",
       "      <td>0.0</td>\n",
       "      <td>14.9</td>\n",
       "      <td>0</td>\n",
       "      <td>14.9</td>\n",
       "      <td>0.0</td>\n",
       "      <td>2022-12-29</td>\n",
       "    </tr>\n",
       "    <tr>\n",
       "      <th>38828</th>\n",
       "      <td>2022</td>\n",
       "      <td>12</td>\n",
       "      <td>30</td>\n",
       "      <td>1719.0</td>\n",
       "      <td>0.0</td>\n",
       "      <td>15.3</td>\n",
       "      <td>0</td>\n",
       "      <td>15.1</td>\n",
       "      <td>0.0</td>\n",
       "      <td>2022-12-30</td>\n",
       "    </tr>\n",
       "    <tr>\n",
       "      <th>38829</th>\n",
       "      <td>2022</td>\n",
       "      <td>12</td>\n",
       "      <td>31</td>\n",
       "      <td>1143.0</td>\n",
       "      <td>0.0</td>\n",
       "      <td>15.1</td>\n",
       "      <td>0</td>\n",
       "      <td>15.1</td>\n",
       "      <td>0.0</td>\n",
       "      <td>2022-12-31</td>\n",
       "    </tr>\n",
       "  </tbody>\n",
       "</table>\n",
       "<p>38716 rows × 10 columns</p>\n",
       "</div>"
      ],
      "text/plain": [
       "       year  month  day       3    4   sst  6     7    8       date\n",
       "114    1917      1    1     NaN  NaN   NaN  0   NaN  NaN 1917-01-01\n",
       "115    1917      1    2     NaN  NaN  11.5  0   NaN  NaN 1917-01-02\n",
       "116    1917      1    3     NaN  NaN  11.9  0   NaN  NaN 1917-01-03\n",
       "117    1917      1    4     NaN  NaN  11.5  0   NaN  NaN 1917-01-04\n",
       "118    1917      1    5     NaN  NaN  11.7  0   NaN  NaN 1917-01-05\n",
       "...     ...    ...  ...     ...  ...   ... ..   ...  ...        ...\n",
       "38825  2022     12   27  1440.0  0.0  14.7  0  14.6  0.0 2022-12-27\n",
       "38826  2022     12   28  1320.0  0.0  15.1  0  14.9  0.0 2022-12-28\n",
       "38827  2022     12   29  1430.0  0.0  14.9  0  14.9  0.0 2022-12-29\n",
       "38828  2022     12   30  1719.0  0.0  15.3  0  15.1  0.0 2022-12-30\n",
       "38829  2022     12   31  1143.0  0.0  15.1  0  15.1  0.0 2022-12-31\n",
       "\n",
       "[38716 rows x 10 columns]"
      ]
     },
     "execution_count": 140,
     "metadata": {},
     "output_type": "execute_result"
    }
   ],
   "source": [
    "#read in .xls to df\n",
    "df=pd.read_excel(\"n_obs/SIO_TEMP_20230501.xls\",skiprows=47, header=None) #change excel filename\n",
    "df = df.rename(columns={0: 'year',\n",
    "                        1: 'month',\n",
    "                        2: 'day',\n",
    "                        5: 'sst'})\n",
    "df = df[(df['year'] > 1916) & (df['year'] < 2023)] #exclude partial years 1916 & 2023\n",
    "df['date'] = pd.to_datetime(df[['year','month','day']])\n",
    "df"
   ]
  },
  {
   "cell_type": "code",
   "execution_count": 141,
   "metadata": {},
   "outputs": [],
   "source": [
    "#make annual climatology and long-term mean\n",
    "climatology = df.groupby(['year']).mean().reset_index()\n",
    "long_term_mean = df.sst.mean()\n",
    "X = climatology.year.values.reshape(-1,1)\n",
    "Y = climatology.sst.values.reshape(-1,1)\n",
    "lm = LinearRegression()\n",
    "lm.fit(X,Y)  # perform linear regression\n",
    "century_trend = (lm.coef_[0] * 100)[0]"
   ]
  },
  {
   "cell_type": "code",
   "execution_count": 142,
   "metadata": {},
   "outputs": [
    {
     "data": {
      "text/plain": [
       "0      16.742715\n",
       "1      17.385113\n",
       "2      16.810032\n",
       "3      16.576177\n",
       "4      16.536223\n",
       "         ...    \n",
       "101    19.082581\n",
       "102    18.681795\n",
       "103    18.447528\n",
       "104    17.849972\n",
       "105    18.289863\n",
       "Name: sst, Length: 106, dtype: float64"
      ]
     },
     "execution_count": 142,
     "metadata": {},
     "output_type": "execute_result"
    }
   ],
   "source": [
    "climatology.sst"
   ]
  },
  {
   "cell_type": "code",
   "execution_count": 149,
   "metadata": {},
   "outputs": [
    {
     "data": {
      "application/vnd.plotly.v1+json": {
       "config": {
        "plotlyServerURL": "https://plot.ly"
       },
       "data": [
        {
         "hoverinfo": "text",
         "line": {
          "color": "white",
          "width": 5
         },
         "mode": "lines",
         "name": "Yearly average",
         "showlegend": false,
         "text": [
          "Year: 1917<br>Average: 16.7°C",
          "Year: 1918<br>Average: 17.4°C",
          "Year: 1919<br>Average: 16.8°C",
          "Year: 1920<br>Average: 16.6°C",
          "Year: 1921<br>Average: 16.5°C",
          "Year: 1922<br>Average: 16.5°C",
          "Year: 1923<br>Average: 17.3°C",
          "Year: 1924<br>Average: 16.4°C",
          "Year: 1925<br>Average: 17.0°C",
          "Year: 1926<br>Average: 18.1°C",
          "Year: 1927<br>Average: 16.9°C",
          "Year: 1928<br>Average: 16.7°C",
          "Year: 1929<br>Average: 17.2°C",
          "Year: 1930<br>Average: 17.5°C",
          "Year: 1931<br>Average: 18.5°C",
          "Year: 1932<br>Average: 16.3°C",
          "Year: 1933<br>Average: 15.7°C",
          "Year: 1934<br>Average: 17.6°C",
          "Year: 1935<br>Average: 16.7°C",
          "Year: 1936<br>Average: 17.6°C",
          "Year: 1937<br>Average: 17.1°C",
          "Year: 1938<br>Average: 16.7°C",
          "Year: 1939<br>Average: 17.2°C",
          "Year: 1940<br>Average: 17.4°C",
          "Year: 1941<br>Average: 17.7°C",
          "Year: 1942<br>Average: 17.0°C",
          "Year: 1943<br>Average: 17.0°C",
          "Year: 1944<br>Average: 16.5°C",
          "Year: 1945<br>Average: 16.6°C",
          "Year: 1946<br>Average: 16.9°C",
          "Year: 1947<br>Average: 16.9°C",
          "Year: 1948<br>Average: 16.1°C",
          "Year: 1949<br>Average: 16.5°C",
          "Year: 1950<br>Average: 16.4°C",
          "Year: 1951<br>Average: 16.6°C",
          "Year: 1952<br>Average: 16.3°C",
          "Year: 1953<br>Average: 16.3°C",
          "Year: 1954<br>Average: 16.9°C",
          "Year: 1955<br>Average: 16.5°C",
          "Year: 1956<br>Average: 16.4°C",
          "Year: 1957<br>Average: 17.4°C",
          "Year: 1958<br>Average: 17.9°C",
          "Year: 1959<br>Average: 18.4°C",
          "Year: 1960<br>Average: 16.6°C",
          "Year: 1961<br>Average: 16.5°C",
          "Year: 1962<br>Average: 16.3°C",
          "Year: 1963<br>Average: 17.0°C",
          "Year: 1964<br>Average: 16.4°C",
          "Year: 1965<br>Average: 16.5°C",
          "Year: 1966<br>Average: 17.0°C",
          "Year: 1967<br>Average: 16.9°C",
          "Year: 1968<br>Average: 16.9°C",
          "Year: 1969<br>Average: 16.7°C",
          "Year: 1970<br>Average: 16.7°C",
          "Year: 1971<br>Average: 16.2°C",
          "Year: 1972<br>Average: 16.9°C",
          "Year: 1973<br>Average: 16.5°C",
          "Year: 1974<br>Average: 16.5°C",
          "Year: 1975<br>Average: 15.5°C",
          "Year: 1976<br>Average: 17.3°C",
          "Year: 1977<br>Average: 17.3°C",
          "Year: 1978<br>Average: 17.4°C",
          "Year: 1979<br>Average: 16.9°C",
          "Year: 1980<br>Average: 16.6°C",
          "Year: 1981<br>Average: 17.6°C",
          "Year: 1982<br>Average: 17.2°C",
          "Year: 1983<br>Average: 18.0°C",
          "Year: 1984<br>Average: 18.3°C",
          "Year: 1985<br>Average: 17.2°C",
          "Year: 1986<br>Average: 17.7°C",
          "Year: 1987<br>Average: 17.6°C",
          "Year: 1988<br>Average: 17.0°C",
          "Year: 1989<br>Average: 17.2°C",
          "Year: 1990<br>Average: 17.9°C",
          "Year: 1991<br>Average: 17.0°C",
          "Year: 1992<br>Average: 18.3°C",
          "Year: 1993<br>Average: 18.4°C",
          "Year: 1994<br>Average: 18.1°C",
          "Year: 1995<br>Average: 17.8°C",
          "Year: 1996<br>Average: 17.9°C",
          "Year: 1997<br>Average: 19.3°C",
          "Year: 1998<br>Average: 18.1°C",
          "Year: 1999<br>Average: 16.5°C",
          "Year: 2000<br>Average: 17.7°C",
          "Year: 2001<br>Average: 17.4°C",
          "Year: 2002<br>Average: 17.4°C",
          "Year: 2003<br>Average: 17.7°C",
          "Year: 2004<br>Average: 18.4°C",
          "Year: 2005<br>Average: 18.3°C",
          "Year: 2006<br>Average: 18.1°C",
          "Year: 2007<br>Average: 17.6°C",
          "Year: 2008<br>Average: 17.7°C",
          "Year: 2009<br>Average: 18.2°C",
          "Year: 2010<br>Average: 17.2°C",
          "Year: 2011<br>Average: 17.0°C",
          "Year: 2012<br>Average: 17.7°C",
          "Year: 2013<br>Average: 17.6°C",
          "Year: 2014<br>Average: 19.5°C",
          "Year: 2015<br>Average: 19.6°C",
          "Year: 2016<br>Average: 18.7°C",
          "Year: 2017<br>Average: 18.6°C",
          "Year: 2018<br>Average: 19.1°C",
          "Year: 2019<br>Average: 18.7°C",
          "Year: 2020<br>Average: 18.4°C",
          "Year: 2021<br>Average: 17.8°C",
          "Year: 2022<br>Average: 18.3°C"
         ],
         "type": "scatter",
         "x": [
          1917,
          1918,
          1919,
          1920,
          1921,
          1922,
          1923,
          1924,
          1925,
          1926,
          1927,
          1928,
          1929,
          1930,
          1931,
          1932,
          1933,
          1934,
          1935,
          1936,
          1937,
          1938,
          1939,
          1940,
          1941,
          1942,
          1943,
          1944,
          1945,
          1946,
          1947,
          1948,
          1949,
          1950,
          1951,
          1952,
          1953,
          1954,
          1955,
          1956,
          1957,
          1958,
          1959,
          1960,
          1961,
          1962,
          1963,
          1964,
          1965,
          1966,
          1967,
          1968,
          1969,
          1970,
          1971,
          1972,
          1973,
          1974,
          1975,
          1976,
          1977,
          1978,
          1979,
          1980,
          1981,
          1982,
          1983,
          1984,
          1985,
          1986,
          1987,
          1988,
          1989,
          1990,
          1991,
          1992,
          1993,
          1994,
          1995,
          1996,
          1997,
          1998,
          1999,
          2000,
          2001,
          2002,
          2003,
          2004,
          2005,
          2006,
          2007,
          2008,
          2009,
          2010,
          2011,
          2012,
          2013,
          2014,
          2015,
          2016,
          2017,
          2018,
          2019,
          2020,
          2021,
          2022
         ],
         "y": [
          16.74271523178808,
          17.385113268608414,
          16.81003236245955,
          16.57617728531856,
          16.53622291021672,
          16.532899022801303,
          17.327722772277227,
          16.436807817589578,
          17.03232876712329,
          18.08109589041096,
          16.88027397260274,
          16.745081967213114,
          17.20739726027397,
          17.471703296703296,
          18.514246575342465,
          16.322191780821917,
          15.674520547945205,
          17.552066115702477,
          16.725205479452054,
          17.625956284153006,
          17.05945205479452,
          16.692602739726027,
          17.21123287671233,
          17.36639344262295,
          17.673424657534248,
          17.029041095890413,
          17.016438356164382,
          16.49672131147541,
          16.63041095890411,
          16.85753424657534,
          16.9013698630137,
          16.084426229508196,
          16.54849315068493,
          16.41780821917808,
          16.646927374301676,
          16.323480662983428,
          16.280716253443526,
          16.925280898876405,
          16.535911602209946,
          16.389344262295083,
          17.374380165289256,
          17.859116022099446,
          18.403856749311295,
          16.629234972677597,
          16.544109589041096,
          16.258356164383564,
          16.977260273972604,
          16.44071038251366,
          16.54328767123288,
          17.028767123287672,
          16.94904109589041,
          16.95,
          16.66931506849315,
          16.66043956043956,
          16.205753424657534,
          16.89344262295082,
          16.466849315068494,
          16.488736263736264,
          15.546027397260275,
          17.269398907103827,
          17.265479452054795,
          17.449035812672175,
          16.859944751381217,
          16.629805013927577,
          17.62884615384615,
          17.155801104972376,
          17.98434065934066,
          18.305205479452052,
          17.236263736263737,
          17.72967032967033,
          17.574175824175825,
          17.02409972299169,
          17.20219178082192,
          17.90497237569061,
          16.979063360881543,
          18.273684210526316,
          18.37621951219512,
          18.09329268292683,
          17.76530612244898,
          17.914191419141915,
          19.327906976744185,
          18.06070287539936,
          16.523229461756372,
          17.65845272206304,
          17.419220055710305,
          17.391388888888887,
          17.713690476190475,
          18.353994490358126,
          18.29385474860335,
          18.137254901960784,
          17.644117647058824,
          17.742151162790698,
          18.167341040462425,
          17.217045454545453,
          17.01497175141243,
          17.665819209039547,
          17.59152542372881,
          19.45483870967742,
          19.58529411764706,
          18.668050314465408,
          18.590764119601328,
          19.08258064516129,
          18.68179487179487,
          18.447528409090907,
          17.84997191011236,
          18.289863013698632
         ]
        }
       ],
       "layout": {
        "hovermode": "x unified",
        "plot_bgcolor": "white",
        "shapes": [
         {
          "fillcolor": "rgb(151, 151, 232)",
          "layer": "below",
          "line": {
           "color": "rgba(0,0,0,0)"
          },
          "type": "rect",
          "x0": 1917,
          "x1": 1918,
          "y0": 0,
          "y1": 30
         },
         {
          "fillcolor": "rgb(232, 232, 250)",
          "layer": "below",
          "line": {
           "color": "rgba(0,0,0,0)"
          },
          "type": "rect",
          "x0": 1918,
          "x1": 1919,
          "y0": 0,
          "y1": 30
         },
         {
          "fillcolor": "rgb(159, 159, 234)",
          "layer": "below",
          "line": {
           "color": "rgba(0,0,0,0)"
          },
          "type": "rect",
          "x0": 1919,
          "x1": 1920,
          "y0": 0,
          "y1": 30
         },
         {
          "fillcolor": "rgb(130, 130, 228)",
          "layer": "below",
          "line": {
           "color": "rgba(0,0,0,0)"
          },
          "type": "rect",
          "x0": 1920,
          "x1": 1921,
          "y0": 0,
          "y1": 30
         },
         {
          "fillcolor": "rgb(125, 125, 226)",
          "layer": "below",
          "line": {
           "color": "rgba(0,0,0,0)"
          },
          "type": "rect",
          "x0": 1921,
          "x1": 1922,
          "y0": 0,
          "y1": 30
         },
         {
          "fillcolor": "rgb(124, 124, 226)",
          "layer": "below",
          "line": {
           "color": "rgba(0,0,0,0)"
          },
          "type": "rect",
          "x0": 1922,
          "x1": 1923,
          "y0": 0,
          "y1": 30
         },
         {
          "fillcolor": "rgb(224, 224, 248)",
          "layer": "below",
          "line": {
           "color": "rgba(0,0,0,0)"
          },
          "type": "rect",
          "x0": 1923,
          "x1": 1924,
          "y0": 0,
          "y1": 30
         },
         {
          "fillcolor": "rgb(112, 112, 224)",
          "layer": "below",
          "line": {
           "color": "rgba(0,0,0,0)"
          },
          "type": "rect",
          "x0": 1924,
          "x1": 1925,
          "y0": 0,
          "y1": 30
         },
         {
          "fillcolor": "rgb(187, 187, 240)",
          "layer": "below",
          "line": {
           "color": "rgba(0,0,0,0)"
          },
          "type": "rect",
          "x0": 1925,
          "x1": 1926,
          "y0": 0,
          "y1": 30
         },
         {
          "fillcolor": "rgb(240, 189, 189)",
          "layer": "below",
          "line": {
           "color": "rgba(0,0,0,0)"
          },
          "type": "rect",
          "x0": 1926,
          "x1": 1927,
          "y0": 0,
          "y1": 30
         },
         {
          "fillcolor": "rgb(168, 168, 236)",
          "layer": "below",
          "line": {
           "color": "rgba(0,0,0,0)"
          },
          "type": "rect",
          "x0": 1927,
          "x1": 1928,
          "y0": 0,
          "y1": 30
         },
         {
          "fillcolor": "rgb(151, 151, 232)",
          "layer": "below",
          "line": {
           "color": "rgba(0,0,0,0)"
          },
          "type": "rect",
          "x0": 1928,
          "x1": 1929,
          "y0": 0,
          "y1": 30
         },
         {
          "fillcolor": "rgb(209, 209, 245)",
          "layer": "below",
          "line": {
           "color": "rgba(0,0,0,0)"
          },
          "type": "rect",
          "x0": 1929,
          "x1": 1930,
          "y0": 0,
          "y1": 30
         },
         {
          "fillcolor": "rgb(243, 243, 252)",
          "layer": "below",
          "line": {
           "color": "rgba(0,0,0,0)"
          },
          "type": "rect",
          "x0": 1930,
          "x1": 1931,
          "y0": 0,
          "y1": 30
         },
         {
          "fillcolor": "rgb(229, 135, 135)",
          "layer": "below",
          "line": {
           "color": "rgba(0,0,0,0)"
          },
          "type": "rect",
          "x0": 1931,
          "x1": 1932,
          "y0": 0,
          "y1": 30
         },
         {
          "fillcolor": "rgb(97, 97, 221)",
          "layer": "below",
          "line": {
           "color": "rgba(0,0,0,0)"
          },
          "type": "rect",
          "x0": 1932,
          "x1": 1933,
          "y0": 0,
          "y1": 30
         },
         {
          "fillcolor": "rgb(16, 16, 203)",
          "layer": "below",
          "line": {
           "color": "rgba(0,0,0,0)"
          },
          "type": "rect",
          "x0": 1933,
          "x1": 1934,
          "y0": 0,
          "y1": 30
         },
         {
          "fillcolor": "rgb(253, 253, 254)",
          "layer": "below",
          "line": {
           "color": "rgba(0,0,0,0)"
          },
          "type": "rect",
          "x0": 1934,
          "x1": 1935,
          "y0": 0,
          "y1": 30
         },
         {
          "fillcolor": "rgb(148, 148, 232)",
          "layer": "below",
          "line": {
           "color": "rgba(0,0,0,0)"
          },
          "type": "rect",
          "x0": 1935,
          "x1": 1936,
          "y0": 0,
          "y1": 30
         },
         {
          "fillcolor": "rgb(253, 247, 247)",
          "layer": "below",
          "line": {
           "color": "rgba(0,0,0,0)"
          },
          "type": "rect",
          "x0": 1936,
          "x1": 1937,
          "y0": 0,
          "y1": 30
         },
         {
          "fillcolor": "rgb(191, 191, 241)",
          "layer": "below",
          "line": {
           "color": "rgba(0,0,0,0)"
          },
          "type": "rect",
          "x0": 1937,
          "x1": 1938,
          "y0": 0,
          "y1": 30
         },
         {
          "fillcolor": "rgb(144, 144, 231)",
          "layer": "below",
          "line": {
           "color": "rgba(0,0,0,0)"
          },
          "type": "rect",
          "x0": 1938,
          "x1": 1939,
          "y0": 0,
          "y1": 30
         },
         {
          "fillcolor": "rgb(210, 210, 245)",
          "layer": "below",
          "line": {
           "color": "rgba(0,0,0,0)"
          },
          "type": "rect",
          "x0": 1939,
          "x1": 1940,
          "y0": 0,
          "y1": 30
         },
         {
          "fillcolor": "rgb(229, 229, 249)",
          "layer": "below",
          "line": {
           "color": "rgba(0,0,0,0)"
          },
          "type": "rect",
          "x0": 1940,
          "x1": 1941,
          "y0": 0,
          "y1": 30
         },
         {
          "fillcolor": "rgb(252, 241, 241)",
          "layer": "below",
          "line": {
           "color": "rgba(0,0,0,0)"
          },
          "type": "rect",
          "x0": 1941,
          "x1": 1942,
          "y0": 0,
          "y1": 30
         },
         {
          "fillcolor": "rgb(187, 187, 240)",
          "layer": "below",
          "line": {
           "color": "rgba(0,0,0,0)"
          },
          "type": "rect",
          "x0": 1942,
          "x1": 1943,
          "y0": 0,
          "y1": 30
         },
         {
          "fillcolor": "rgb(185, 185, 240)",
          "layer": "below",
          "line": {
           "color": "rgba(0,0,0,0)"
          },
          "type": "rect",
          "x0": 1943,
          "x1": 1944,
          "y0": 0,
          "y1": 30
         },
         {
          "fillcolor": "rgb(120, 120, 225)",
          "layer": "below",
          "line": {
           "color": "rgba(0,0,0,0)"
          },
          "type": "rect",
          "x0": 1944,
          "x1": 1945,
          "y0": 0,
          "y1": 30
         },
         {
          "fillcolor": "rgb(136, 136, 229)",
          "layer": "below",
          "line": {
           "color": "rgba(0,0,0,0)"
          },
          "type": "rect",
          "x0": 1945,
          "x1": 1946,
          "y0": 0,
          "y1": 30
         },
         {
          "fillcolor": "rgb(165, 165, 235)",
          "layer": "below",
          "line": {
           "color": "rgba(0,0,0,0)"
          },
          "type": "rect",
          "x0": 1946,
          "x1": 1947,
          "y0": 0,
          "y1": 30
         },
         {
          "fillcolor": "rgb(171, 171, 236)",
          "layer": "below",
          "line": {
           "color": "rgba(0,0,0,0)"
          },
          "type": "rect",
          "x0": 1947,
          "x1": 1948,
          "y0": 0,
          "y1": 30
         },
         {
          "fillcolor": "rgb(67, 67, 214)",
          "layer": "below",
          "line": {
           "color": "rgba(0,0,0,0)"
          },
          "type": "rect",
          "x0": 1948,
          "x1": 1949,
          "y0": 0,
          "y1": 30
         },
         {
          "fillcolor": "rgb(126, 126, 227)",
          "layer": "below",
          "line": {
           "color": "rgba(0,0,0,0)"
          },
          "type": "rect",
          "x0": 1949,
          "x1": 1950,
          "y0": 0,
          "y1": 30
         },
         {
          "fillcolor": "rgb(110, 110, 223)",
          "layer": "below",
          "line": {
           "color": "rgba(0,0,0,0)"
          },
          "type": "rect",
          "x0": 1950,
          "x1": 1951,
          "y0": 0,
          "y1": 30
         },
         {
          "fillcolor": "rgb(139, 139, 229)",
          "layer": "below",
          "line": {
           "color": "rgba(0,0,0,0)"
          },
          "type": "rect",
          "x0": 1951,
          "x1": 1952,
          "y0": 0,
          "y1": 30
         },
         {
          "fillcolor": "rgb(98, 98, 221)",
          "layer": "below",
          "line": {
           "color": "rgba(0,0,0,0)"
          },
          "type": "rect",
          "x0": 1952,
          "x1": 1953,
          "y0": 0,
          "y1": 30
         },
         {
          "fillcolor": "rgb(92, 92, 220)",
          "layer": "below",
          "line": {
           "color": "rgba(0,0,0,0)"
          },
          "type": "rect",
          "x0": 1953,
          "x1": 1954,
          "y0": 0,
          "y1": 30
         },
         {
          "fillcolor": "rgb(174, 174, 237)",
          "layer": "below",
          "line": {
           "color": "rgba(0,0,0,0)"
          },
          "type": "rect",
          "x0": 1954,
          "x1": 1955,
          "y0": 0,
          "y1": 30
         },
         {
          "fillcolor": "rgb(124, 124, 226)",
          "layer": "below",
          "line": {
           "color": "rgba(0,0,0,0)"
          },
          "type": "rect",
          "x0": 1955,
          "x1": 1956,
          "y0": 0,
          "y1": 30
         },
         {
          "fillcolor": "rgb(106, 106, 222)",
          "layer": "below",
          "line": {
           "color": "rgba(0,0,0,0)"
          },
          "type": "rect",
          "x0": 1956,
          "x1": 1957,
          "y0": 0,
          "y1": 30
         },
         {
          "fillcolor": "rgb(230, 230, 249)",
          "layer": "below",
          "line": {
           "color": "rgba(0,0,0,0)"
          },
          "type": "rect",
          "x0": 1957,
          "x1": 1958,
          "y0": 0,
          "y1": 30
         },
         {
          "fillcolor": "rgb(247, 217, 217)",
          "layer": "below",
          "line": {
           "color": "rgba(0,0,0,0)"
          },
          "type": "rect",
          "x0": 1958,
          "x1": 1959,
          "y0": 0,
          "y1": 30
         },
         {
          "fillcolor": "rgb(232, 149, 149)",
          "layer": "below",
          "line": {
           "color": "rgba(0,0,0,0)"
          },
          "type": "rect",
          "x0": 1959,
          "x1": 1960,
          "y0": 0,
          "y1": 30
         },
         {
          "fillcolor": "rgb(136, 136, 229)",
          "layer": "below",
          "line": {
           "color": "rgba(0,0,0,0)"
          },
          "type": "rect",
          "x0": 1960,
          "x1": 1961,
          "y0": 0,
          "y1": 30
         },
         {
          "fillcolor": "rgb(126, 126, 227)",
          "layer": "below",
          "line": {
           "color": "rgba(0,0,0,0)"
          },
          "type": "rect",
          "x0": 1961,
          "x1": 1962,
          "y0": 0,
          "y1": 30
         },
         {
          "fillcolor": "rgb(89, 89, 219)",
          "layer": "below",
          "line": {
           "color": "rgba(0,0,0,0)"
          },
          "type": "rect",
          "x0": 1962,
          "x1": 1963,
          "y0": 0,
          "y1": 30
         },
         {
          "fillcolor": "rgb(180, 180, 238)",
          "layer": "below",
          "line": {
           "color": "rgba(0,0,0,0)"
          },
          "type": "rect",
          "x0": 1963,
          "x1": 1964,
          "y0": 0,
          "y1": 30
         },
         {
          "fillcolor": "rgb(112, 112, 224)",
          "layer": "below",
          "line": {
           "color": "rgba(0,0,0,0)"
          },
          "type": "rect",
          "x0": 1964,
          "x1": 1965,
          "y0": 0,
          "y1": 30
         },
         {
          "fillcolor": "rgb(125, 125, 227)",
          "layer": "below",
          "line": {
           "color": "rgba(0,0,0,0)"
          },
          "type": "rect",
          "x0": 1965,
          "x1": 1966,
          "y0": 0,
          "y1": 30
         },
         {
          "fillcolor": "rgb(187, 187, 240)",
          "layer": "below",
          "line": {
           "color": "rgba(0,0,0,0)"
          },
          "type": "rect",
          "x0": 1966,
          "x1": 1967,
          "y0": 0,
          "y1": 30
         },
         {
          "fillcolor": "rgb(177, 177, 238)",
          "layer": "below",
          "line": {
           "color": "rgba(0,0,0,0)"
          },
          "type": "rect",
          "x0": 1967,
          "x1": 1968,
          "y0": 0,
          "y1": 30
         },
         {
          "fillcolor": "rgb(177, 177, 238)",
          "layer": "below",
          "line": {
           "color": "rgba(0,0,0,0)"
          },
          "type": "rect",
          "x0": 1968,
          "x1": 1969,
          "y0": 0,
          "y1": 30
         },
         {
          "fillcolor": "rgb(141, 141, 230)",
          "layer": "below",
          "line": {
           "color": "rgba(0,0,0,0)"
          },
          "type": "rect",
          "x0": 1969,
          "x1": 1970,
          "y0": 0,
          "y1": 30
         },
         {
          "fillcolor": "rgb(140, 140, 230)",
          "layer": "below",
          "line": {
           "color": "rgba(0,0,0,0)"
          },
          "type": "rect",
          "x0": 1970,
          "x1": 1971,
          "y0": 0,
          "y1": 30
         },
         {
          "fillcolor": "rgb(83, 83, 217)",
          "layer": "below",
          "line": {
           "color": "rgba(0,0,0,0)"
          },
          "type": "rect",
          "x0": 1971,
          "x1": 1972,
          "y0": 0,
          "y1": 30
         },
         {
          "fillcolor": "rgb(170, 170, 236)",
          "layer": "below",
          "line": {
           "color": "rgba(0,0,0,0)"
          },
          "type": "rect",
          "x0": 1972,
          "x1": 1973,
          "y0": 0,
          "y1": 30
         },
         {
          "fillcolor": "rgb(116, 116, 225)",
          "layer": "below",
          "line": {
           "color": "rgba(0,0,0,0)"
          },
          "type": "rect",
          "x0": 1973,
          "x1": 1974,
          "y0": 0,
          "y1": 30
         },
         {
          "fillcolor": "rgb(119, 119, 225)",
          "layer": "below",
          "line": {
           "color": "rgba(0,0,0,0)"
          },
          "type": "rect",
          "x0": 1974,
          "x1": 1975,
          "y0": 0,
          "y1": 30
         },
         {
          "fillcolor": "rgb(0, 0, 200)",
          "layer": "below",
          "line": {
           "color": "rgba(0,0,0,0)"
          },
          "type": "rect",
          "x0": 1975,
          "x1": 1976,
          "y0": 0,
          "y1": 30
         },
         {
          "fillcolor": "rgb(217, 217, 246)",
          "layer": "below",
          "line": {
           "color": "rgba(0,0,0,0)"
          },
          "type": "rect",
          "x0": 1976,
          "x1": 1977,
          "y0": 0,
          "y1": 30
         },
         {
          "fillcolor": "rgb(217, 217, 246)",
          "layer": "below",
          "line": {
           "color": "rgba(0,0,0,0)"
          },
          "type": "rect",
          "x0": 1977,
          "x1": 1978,
          "y0": 0,
          "y1": 30
         },
         {
          "fillcolor": "rgb(240, 240, 251)",
          "layer": "below",
          "line": {
           "color": "rgba(0,0,0,0)"
          },
          "type": "rect",
          "x0": 1978,
          "x1": 1979,
          "y0": 0,
          "y1": 30
         },
         {
          "fillcolor": "rgb(165, 165, 235)",
          "layer": "below",
          "line": {
           "color": "rgba(0,0,0,0)"
          },
          "type": "rect",
          "x0": 1979,
          "x1": 1980,
          "y0": 0,
          "y1": 30
         },
         {
          "fillcolor": "rgb(136, 136, 229)",
          "layer": "below",
          "line": {
           "color": "rgba(0,0,0,0)"
          },
          "type": "rect",
          "x0": 1980,
          "x1": 1981,
          "y0": 0,
          "y1": 30
         },
         {
          "fillcolor": "rgb(253, 247, 247)",
          "layer": "below",
          "line": {
           "color": "rgba(0,0,0,0)"
          },
          "type": "rect",
          "x0": 1981,
          "x1": 1982,
          "y0": 0,
          "y1": 30
         },
         {
          "fillcolor": "rgb(203, 203, 243)",
          "layer": "below",
          "line": {
           "color": "rgba(0,0,0,0)"
          },
          "type": "rect",
          "x0": 1982,
          "x1": 1983,
          "y0": 0,
          "y1": 30
         },
         {
          "fillcolor": "rgb(243, 202, 202)",
          "layer": "below",
          "line": {
           "color": "rgba(0,0,0,0)"
          },
          "type": "rect",
          "x0": 1983,
          "x1": 1984,
          "y0": 0,
          "y1": 30
         },
         {
          "fillcolor": "rgb(234, 161, 161)",
          "layer": "below",
          "line": {
           "color": "rgba(0,0,0,0)"
          },
          "type": "rect",
          "x0": 1984,
          "x1": 1985,
          "y0": 0,
          "y1": 30
         },
         {
          "fillcolor": "rgb(213, 213, 246)",
          "layer": "below",
          "line": {
           "color": "rgba(0,0,0,0)"
          },
          "type": "rect",
          "x0": 1985,
          "x1": 1986,
          "y0": 0,
          "y1": 30
         },
         {
          "fillcolor": "rgb(250, 234, 234)",
          "layer": "below",
          "line": {
           "color": "rgba(0,0,0,0)"
          },
          "type": "rect",
          "x0": 1986,
          "x1": 1987,
          "y0": 0,
          "y1": 30
         },
         {
          "fillcolor": "rgb(254, 253, 253)",
          "layer": "below",
          "line": {
           "color": "rgba(0,0,0,0)"
          },
          "type": "rect",
          "x0": 1987,
          "x1": 1988,
          "y0": 0,
          "y1": 30
         },
         {
          "fillcolor": "rgb(186, 186, 240)",
          "layer": "below",
          "line": {
           "color": "rgba(0,0,0,0)"
          },
          "type": "rect",
          "x0": 1988,
          "x1": 1989,
          "y0": 0,
          "y1": 30
         },
         {
          "fillcolor": "rgb(209, 209, 245)",
          "layer": "below",
          "line": {
           "color": "rgba(0,0,0,0)"
          },
          "type": "rect",
          "x0": 1989,
          "x1": 1990,
          "y0": 0,
          "y1": 30
         },
         {
          "fillcolor": "rgb(245, 212, 212)",
          "layer": "below",
          "line": {
           "color": "rgba(0,0,0,0)"
          },
          "type": "rect",
          "x0": 1990,
          "x1": 1991,
          "y0": 0,
          "y1": 30
         },
         {
          "fillcolor": "rgb(180, 180, 239)",
          "layer": "below",
          "line": {
           "color": "rgba(0,0,0,0)"
          },
          "type": "rect",
          "x0": 1991,
          "x1": 1992,
          "y0": 0,
          "y1": 30
         },
         {
          "fillcolor": "rgb(235, 165, 165)",
          "layer": "below",
          "line": {
           "color": "rgba(0,0,0,0)"
          },
          "type": "rect",
          "x0": 1992,
          "x1": 1993,
          "y0": 0,
          "y1": 30
         },
         {
          "fillcolor": "rgb(232, 152, 152)",
          "layer": "below",
          "line": {
           "color": "rgba(0,0,0,0)"
          },
          "type": "rect",
          "x0": 1993,
          "x1": 1994,
          "y0": 0,
          "y1": 30
         },
         {
          "fillcolor": "rgb(240, 188, 188)",
          "layer": "below",
          "line": {
           "color": "rgba(0,0,0,0)"
          },
          "type": "rect",
          "x0": 1994,
          "x1": 1995,
          "y0": 0,
          "y1": 30
         },
         {
          "fillcolor": "rgb(249, 229, 229)",
          "layer": "below",
          "line": {
           "color": "rgba(0,0,0,0)"
          },
          "type": "rect",
          "x0": 1995,
          "x1": 1996,
          "y0": 0,
          "y1": 30
         },
         {
          "fillcolor": "rgb(245, 210, 210)",
          "layer": "below",
          "line": {
           "color": "rgba(0,0,0,0)"
          },
          "type": "rect",
          "x0": 1996,
          "x1": 1997,
          "y0": 0,
          "y1": 30
         },
         {
          "fillcolor": "rgb(207, 32, 32)",
          "layer": "below",
          "line": {
           "color": "rgba(0,0,0,0)"
          },
          "type": "rect",
          "x0": 1997,
          "x1": 1998,
          "y0": 0,
          "y1": 30
         },
         {
          "fillcolor": "rgb(241, 192, 192)",
          "layer": "below",
          "line": {
           "color": "rgba(0,0,0,0)"
          },
          "type": "rect",
          "x0": 1998,
          "x1": 1999,
          "y0": 0,
          "y1": 30
         },
         {
          "fillcolor": "rgb(123, 123, 226)",
          "layer": "below",
          "line": {
           "color": "rgba(0,0,0,0)"
          },
          "type": "rect",
          "x0": 1999,
          "x1": 2000,
          "y0": 0,
          "y1": 30
         },
         {
          "fillcolor": "rgb(252, 243, 243)",
          "layer": "below",
          "line": {
           "color": "rgba(0,0,0,0)"
          },
          "type": "rect",
          "x0": 2000,
          "x1": 2001,
          "y0": 0,
          "y1": 30
         },
         {
          "fillcolor": "rgb(236, 236, 251)",
          "layer": "below",
          "line": {
           "color": "rgba(0,0,0,0)"
          },
          "type": "rect",
          "x0": 2001,
          "x1": 2002,
          "y0": 0,
          "y1": 30
         },
         {
          "fillcolor": "rgb(232, 232, 250)",
          "layer": "below",
          "line": {
           "color": "rgba(0,0,0,0)"
          },
          "type": "rect",
          "x0": 2002,
          "x1": 2003,
          "y0": 0,
          "y1": 30
         },
         {
          "fillcolor": "rgb(250, 236, 236)",
          "layer": "below",
          "line": {
           "color": "rgba(0,0,0,0)"
          },
          "type": "rect",
          "x0": 2003,
          "x1": 2004,
          "y0": 0,
          "y1": 30
         },
         {
          "fillcolor": "rgb(233, 155, 155)",
          "layer": "below",
          "line": {
           "color": "rgba(0,0,0,0)"
          },
          "type": "rect",
          "x0": 2004,
          "x1": 2005,
          "y0": 0,
          "y1": 30
         },
         {
          "fillcolor": "rgb(235, 163, 163)",
          "layer": "below",
          "line": {
           "color": "rgba(0,0,0,0)"
          },
          "type": "rect",
          "x0": 2005,
          "x1": 2006,
          "y0": 0,
          "y1": 30
         },
         {
          "fillcolor": "rgb(239, 182, 182)",
          "layer": "below",
          "line": {
           "color": "rgba(0,0,0,0)"
          },
          "type": "rect",
          "x0": 2006,
          "x1": 2007,
          "y0": 0,
          "y1": 30
         },
         {
          "fillcolor": "rgb(252, 245, 245)",
          "layer": "below",
          "line": {
           "color": "rgba(0,0,0,0)"
          },
          "type": "rect",
          "x0": 2007,
          "x1": 2008,
          "y0": 0,
          "y1": 30
         },
         {
          "fillcolor": "rgb(250, 232, 232)",
          "layer": "below",
          "line": {
           "color": "rgba(0,0,0,0)"
          },
          "type": "rect",
          "x0": 2008,
          "x1": 2009,
          "y0": 0,
          "y1": 30
         },
         {
          "fillcolor": "rgb(238, 179, 179)",
          "layer": "below",
          "line": {
           "color": "rgba(0,0,0,0)"
          },
          "type": "rect",
          "x0": 2009,
          "x1": 2010,
          "y0": 0,
          "y1": 30
         },
         {
          "fillcolor": "rgb(210, 210, 245)",
          "layer": "below",
          "line": {
           "color": "rgba(0,0,0,0)"
          },
          "type": "rect",
          "x0": 2010,
          "x1": 2011,
          "y0": 0,
          "y1": 30
         },
         {
          "fillcolor": "rgb(185, 185, 240)",
          "layer": "below",
          "line": {
           "color": "rgba(0,0,0,0)"
          },
          "type": "rect",
          "x0": 2011,
          "x1": 2012,
          "y0": 0,
          "y1": 30
         },
         {
          "fillcolor": "rgb(252, 242, 242)",
          "layer": "below",
          "line": {
           "color": "rgba(0,0,0,0)"
          },
          "type": "rect",
          "x0": 2012,
          "x1": 2013,
          "y0": 0,
          "y1": 30
         },
         {
          "fillcolor": "rgb(254, 251, 251)",
          "layer": "below",
          "line": {
           "color": "rgba(0,0,0,0)"
          },
          "type": "rect",
          "x0": 2013,
          "x1": 2014,
          "y0": 0,
          "y1": 30
         },
         {
          "fillcolor": "rgb(203, 16, 16)",
          "layer": "below",
          "line": {
           "color": "rgba(0,0,0,0)"
          },
          "type": "rect",
          "x0": 2014,
          "x1": 2015,
          "y0": 0,
          "y1": 30
         },
         {
          "fillcolor": "rgb(200, 0, 0)",
          "layer": "below",
          "line": {
           "color": "rgba(0,0,0,0)"
          },
          "type": "rect",
          "x0": 2015,
          "x1": 2016,
          "y0": 0,
          "y1": 30
         },
         {
          "fillcolor": "rgb(224, 115, 115)",
          "layer": "below",
          "line": {
           "color": "rgba(0,0,0,0)"
          },
          "type": "rect",
          "x0": 2016,
          "x1": 2017,
          "y0": 0,
          "y1": 30
         },
         {
          "fillcolor": "rgb(227, 125, 125)",
          "layer": "below",
          "line": {
           "color": "rgba(0,0,0,0)"
          },
          "type": "rect",
          "x0": 2017,
          "x1": 2018,
          "y0": 0,
          "y1": 30
         },
         {
          "fillcolor": "rgb(213, 63, 63)",
          "layer": "below",
          "line": {
           "color": "rgba(0,0,0,0)"
          },
          "type": "rect",
          "x0": 2018,
          "x1": 2019,
          "y0": 0,
          "y1": 30
         },
         {
          "fillcolor": "rgb(224, 114, 114)",
          "layer": "below",
          "line": {
           "color": "rgba(0,0,0,0)"
          },
          "type": "rect",
          "x0": 2019,
          "x1": 2020,
          "y0": 0,
          "y1": 30
         },
         {
          "fillcolor": "rgb(230, 143, 143)",
          "layer": "below",
          "line": {
           "color": "rgba(0,0,0,0)"
          },
          "type": "rect",
          "x0": 2020,
          "x1": 2021,
          "y0": 0,
          "y1": 30
         },
         {
          "fillcolor": "rgb(247, 219, 219)",
          "layer": "below",
          "line": {
           "color": "rgba(0,0,0,0)"
          },
          "type": "rect",
          "x0": 2021,
          "x1": 2022,
          "y0": 0,
          "y1": 30
         },
         {
          "fillcolor": "rgb(235, 163, 163)",
          "layer": "below",
          "line": {
           "color": "rgba(0,0,0,0)"
          },
          "type": "rect",
          "x0": 2022,
          "x1": 2023,
          "y0": 0,
          "y1": 30
         }
        ],
        "template": {
         "data": {
          "bar": [
           {
            "error_x": {
             "color": "#2a3f5f"
            },
            "error_y": {
             "color": "#2a3f5f"
            },
            "marker": {
             "line": {
              "color": "#E5ECF6",
              "width": 0.5
             },
             "pattern": {
              "fillmode": "overlay",
              "size": 10,
              "solidity": 0.2
             }
            },
            "type": "bar"
           }
          ],
          "barpolar": [
           {
            "marker": {
             "line": {
              "color": "#E5ECF6",
              "width": 0.5
             },
             "pattern": {
              "fillmode": "overlay",
              "size": 10,
              "solidity": 0.2
             }
            },
            "type": "barpolar"
           }
          ],
          "carpet": [
           {
            "aaxis": {
             "endlinecolor": "#2a3f5f",
             "gridcolor": "white",
             "linecolor": "white",
             "minorgridcolor": "white",
             "startlinecolor": "#2a3f5f"
            },
            "baxis": {
             "endlinecolor": "#2a3f5f",
             "gridcolor": "white",
             "linecolor": "white",
             "minorgridcolor": "white",
             "startlinecolor": "#2a3f5f"
            },
            "type": "carpet"
           }
          ],
          "choropleth": [
           {
            "colorbar": {
             "outlinewidth": 0,
             "ticks": ""
            },
            "type": "choropleth"
           }
          ],
          "contour": [
           {
            "colorbar": {
             "outlinewidth": 0,
             "ticks": ""
            },
            "colorscale": [
             [
              0,
              "#0d0887"
             ],
             [
              0.1111111111111111,
              "#46039f"
             ],
             [
              0.2222222222222222,
              "#7201a8"
             ],
             [
              0.3333333333333333,
              "#9c179e"
             ],
             [
              0.4444444444444444,
              "#bd3786"
             ],
             [
              0.5555555555555556,
              "#d8576b"
             ],
             [
              0.6666666666666666,
              "#ed7953"
             ],
             [
              0.7777777777777778,
              "#fb9f3a"
             ],
             [
              0.8888888888888888,
              "#fdca26"
             ],
             [
              1,
              "#f0f921"
             ]
            ],
            "type": "contour"
           }
          ],
          "contourcarpet": [
           {
            "colorbar": {
             "outlinewidth": 0,
             "ticks": ""
            },
            "type": "contourcarpet"
           }
          ],
          "heatmap": [
           {
            "colorbar": {
             "outlinewidth": 0,
             "ticks": ""
            },
            "colorscale": [
             [
              0,
              "#0d0887"
             ],
             [
              0.1111111111111111,
              "#46039f"
             ],
             [
              0.2222222222222222,
              "#7201a8"
             ],
             [
              0.3333333333333333,
              "#9c179e"
             ],
             [
              0.4444444444444444,
              "#bd3786"
             ],
             [
              0.5555555555555556,
              "#d8576b"
             ],
             [
              0.6666666666666666,
              "#ed7953"
             ],
             [
              0.7777777777777778,
              "#fb9f3a"
             ],
             [
              0.8888888888888888,
              "#fdca26"
             ],
             [
              1,
              "#f0f921"
             ]
            ],
            "type": "heatmap"
           }
          ],
          "heatmapgl": [
           {
            "colorbar": {
             "outlinewidth": 0,
             "ticks": ""
            },
            "colorscale": [
             [
              0,
              "#0d0887"
             ],
             [
              0.1111111111111111,
              "#46039f"
             ],
             [
              0.2222222222222222,
              "#7201a8"
             ],
             [
              0.3333333333333333,
              "#9c179e"
             ],
             [
              0.4444444444444444,
              "#bd3786"
             ],
             [
              0.5555555555555556,
              "#d8576b"
             ],
             [
              0.6666666666666666,
              "#ed7953"
             ],
             [
              0.7777777777777778,
              "#fb9f3a"
             ],
             [
              0.8888888888888888,
              "#fdca26"
             ],
             [
              1,
              "#f0f921"
             ]
            ],
            "type": "heatmapgl"
           }
          ],
          "histogram": [
           {
            "marker": {
             "pattern": {
              "fillmode": "overlay",
              "size": 10,
              "solidity": 0.2
             }
            },
            "type": "histogram"
           }
          ],
          "histogram2d": [
           {
            "colorbar": {
             "outlinewidth": 0,
             "ticks": ""
            },
            "colorscale": [
             [
              0,
              "#0d0887"
             ],
             [
              0.1111111111111111,
              "#46039f"
             ],
             [
              0.2222222222222222,
              "#7201a8"
             ],
             [
              0.3333333333333333,
              "#9c179e"
             ],
             [
              0.4444444444444444,
              "#bd3786"
             ],
             [
              0.5555555555555556,
              "#d8576b"
             ],
             [
              0.6666666666666666,
              "#ed7953"
             ],
             [
              0.7777777777777778,
              "#fb9f3a"
             ],
             [
              0.8888888888888888,
              "#fdca26"
             ],
             [
              1,
              "#f0f921"
             ]
            ],
            "type": "histogram2d"
           }
          ],
          "histogram2dcontour": [
           {
            "colorbar": {
             "outlinewidth": 0,
             "ticks": ""
            },
            "colorscale": [
             [
              0,
              "#0d0887"
             ],
             [
              0.1111111111111111,
              "#46039f"
             ],
             [
              0.2222222222222222,
              "#7201a8"
             ],
             [
              0.3333333333333333,
              "#9c179e"
             ],
             [
              0.4444444444444444,
              "#bd3786"
             ],
             [
              0.5555555555555556,
              "#d8576b"
             ],
             [
              0.6666666666666666,
              "#ed7953"
             ],
             [
              0.7777777777777778,
              "#fb9f3a"
             ],
             [
              0.8888888888888888,
              "#fdca26"
             ],
             [
              1,
              "#f0f921"
             ]
            ],
            "type": "histogram2dcontour"
           }
          ],
          "mesh3d": [
           {
            "colorbar": {
             "outlinewidth": 0,
             "ticks": ""
            },
            "type": "mesh3d"
           }
          ],
          "parcoords": [
           {
            "line": {
             "colorbar": {
              "outlinewidth": 0,
              "ticks": ""
             }
            },
            "type": "parcoords"
           }
          ],
          "pie": [
           {
            "automargin": true,
            "type": "pie"
           }
          ],
          "scatter": [
           {
            "fillpattern": {
             "fillmode": "overlay",
             "size": 10,
             "solidity": 0.2
            },
            "type": "scatter"
           }
          ],
          "scatter3d": [
           {
            "line": {
             "colorbar": {
              "outlinewidth": 0,
              "ticks": ""
             }
            },
            "marker": {
             "colorbar": {
              "outlinewidth": 0,
              "ticks": ""
             }
            },
            "type": "scatter3d"
           }
          ],
          "scattercarpet": [
           {
            "marker": {
             "colorbar": {
              "outlinewidth": 0,
              "ticks": ""
             }
            },
            "type": "scattercarpet"
           }
          ],
          "scattergeo": [
           {
            "marker": {
             "colorbar": {
              "outlinewidth": 0,
              "ticks": ""
             }
            },
            "type": "scattergeo"
           }
          ],
          "scattergl": [
           {
            "marker": {
             "colorbar": {
              "outlinewidth": 0,
              "ticks": ""
             }
            },
            "type": "scattergl"
           }
          ],
          "scattermapbox": [
           {
            "marker": {
             "colorbar": {
              "outlinewidth": 0,
              "ticks": ""
             }
            },
            "type": "scattermapbox"
           }
          ],
          "scatterpolar": [
           {
            "marker": {
             "colorbar": {
              "outlinewidth": 0,
              "ticks": ""
             }
            },
            "type": "scatterpolar"
           }
          ],
          "scatterpolargl": [
           {
            "marker": {
             "colorbar": {
              "outlinewidth": 0,
              "ticks": ""
             }
            },
            "type": "scatterpolargl"
           }
          ],
          "scatterternary": [
           {
            "marker": {
             "colorbar": {
              "outlinewidth": 0,
              "ticks": ""
             }
            },
            "type": "scatterternary"
           }
          ],
          "surface": [
           {
            "colorbar": {
             "outlinewidth": 0,
             "ticks": ""
            },
            "colorscale": [
             [
              0,
              "#0d0887"
             ],
             [
              0.1111111111111111,
              "#46039f"
             ],
             [
              0.2222222222222222,
              "#7201a8"
             ],
             [
              0.3333333333333333,
              "#9c179e"
             ],
             [
              0.4444444444444444,
              "#bd3786"
             ],
             [
              0.5555555555555556,
              "#d8576b"
             ],
             [
              0.6666666666666666,
              "#ed7953"
             ],
             [
              0.7777777777777778,
              "#fb9f3a"
             ],
             [
              0.8888888888888888,
              "#fdca26"
             ],
             [
              1,
              "#f0f921"
             ]
            ],
            "type": "surface"
           }
          ],
          "table": [
           {
            "cells": {
             "fill": {
              "color": "#EBF0F8"
             },
             "line": {
              "color": "white"
             }
            },
            "header": {
             "fill": {
              "color": "#C8D4E3"
             },
             "line": {
              "color": "white"
             }
            },
            "type": "table"
           }
          ]
         },
         "layout": {
          "annotationdefaults": {
           "arrowcolor": "#2a3f5f",
           "arrowhead": 0,
           "arrowwidth": 1
          },
          "autotypenumbers": "strict",
          "coloraxis": {
           "colorbar": {
            "outlinewidth": 0,
            "ticks": ""
           }
          },
          "colorscale": {
           "diverging": [
            [
             0,
             "#8e0152"
            ],
            [
             0.1,
             "#c51b7d"
            ],
            [
             0.2,
             "#de77ae"
            ],
            [
             0.3,
             "#f1b6da"
            ],
            [
             0.4,
             "#fde0ef"
            ],
            [
             0.5,
             "#f7f7f7"
            ],
            [
             0.6,
             "#e6f5d0"
            ],
            [
             0.7,
             "#b8e186"
            ],
            [
             0.8,
             "#7fbc41"
            ],
            [
             0.9,
             "#4d9221"
            ],
            [
             1,
             "#276419"
            ]
           ],
           "sequential": [
            [
             0,
             "#0d0887"
            ],
            [
             0.1111111111111111,
             "#46039f"
            ],
            [
             0.2222222222222222,
             "#7201a8"
            ],
            [
             0.3333333333333333,
             "#9c179e"
            ],
            [
             0.4444444444444444,
             "#bd3786"
            ],
            [
             0.5555555555555556,
             "#d8576b"
            ],
            [
             0.6666666666666666,
             "#ed7953"
            ],
            [
             0.7777777777777778,
             "#fb9f3a"
            ],
            [
             0.8888888888888888,
             "#fdca26"
            ],
            [
             1,
             "#f0f921"
            ]
           ],
           "sequentialminus": [
            [
             0,
             "#0d0887"
            ],
            [
             0.1111111111111111,
             "#46039f"
            ],
            [
             0.2222222222222222,
             "#7201a8"
            ],
            [
             0.3333333333333333,
             "#9c179e"
            ],
            [
             0.4444444444444444,
             "#bd3786"
            ],
            [
             0.5555555555555556,
             "#d8576b"
            ],
            [
             0.6666666666666666,
             "#ed7953"
            ],
            [
             0.7777777777777778,
             "#fb9f3a"
            ],
            [
             0.8888888888888888,
             "#fdca26"
            ],
            [
             1,
             "#f0f921"
            ]
           ]
          },
          "colorway": [
           "#636efa",
           "#EF553B",
           "#00cc96",
           "#ab63fa",
           "#FFA15A",
           "#19d3f3",
           "#FF6692",
           "#B6E880",
           "#FF97FF",
           "#FECB52"
          ],
          "font": {
           "color": "#2a3f5f"
          },
          "geo": {
           "bgcolor": "white",
           "lakecolor": "white",
           "landcolor": "#E5ECF6",
           "showlakes": true,
           "showland": true,
           "subunitcolor": "white"
          },
          "hoverlabel": {
           "align": "left"
          },
          "hovermode": "closest",
          "mapbox": {
           "style": "light"
          },
          "paper_bgcolor": "white",
          "plot_bgcolor": "#E5ECF6",
          "polar": {
           "angularaxis": {
            "gridcolor": "white",
            "linecolor": "white",
            "ticks": ""
           },
           "bgcolor": "#E5ECF6",
           "radialaxis": {
            "gridcolor": "white",
            "linecolor": "white",
            "ticks": ""
           }
          },
          "scene": {
           "xaxis": {
            "backgroundcolor": "#E5ECF6",
            "gridcolor": "white",
            "gridwidth": 2,
            "linecolor": "white",
            "showbackground": true,
            "ticks": "",
            "zerolinecolor": "white"
           },
           "yaxis": {
            "backgroundcolor": "#E5ECF6",
            "gridcolor": "white",
            "gridwidth": 2,
            "linecolor": "white",
            "showbackground": true,
            "ticks": "",
            "zerolinecolor": "white"
           },
           "zaxis": {
            "backgroundcolor": "#E5ECF6",
            "gridcolor": "white",
            "gridwidth": 2,
            "linecolor": "white",
            "showbackground": true,
            "ticks": "",
            "zerolinecolor": "white"
           }
          },
          "shapedefaults": {
           "line": {
            "color": "#2a3f5f"
           }
          },
          "ternary": {
           "aaxis": {
            "gridcolor": "white",
            "linecolor": "white",
            "ticks": ""
           },
           "baxis": {
            "gridcolor": "white",
            "linecolor": "white",
            "ticks": ""
           },
           "bgcolor": "#E5ECF6",
           "caxis": {
            "gridcolor": "white",
            "linecolor": "white",
            "ticks": ""
           }
          },
          "title": {
           "x": 0.05
          },
          "xaxis": {
           "automargin": true,
           "gridcolor": "white",
           "linecolor": "white",
           "ticks": "",
           "title": {
            "standoff": 15
           },
           "zerolinecolor": "white",
           "zerolinewidth": 2
          },
          "yaxis": {
           "automargin": true,
           "gridcolor": "white",
           "linecolor": "white",
           "ticks": "",
           "title": {
            "standoff": 15
           },
           "zerolinecolor": "white",
           "zerolinewidth": 2
          }
         }
        },
        "title": {
         "text": "SST at Scripps Pier"
        },
        "xaxis": {
         "range": [
          1917,
          2022
         ],
         "showgrid": false,
         "title": {
          "text": "Year"
         }
        },
        "yaxis": {
         "range": [
          14.546027397260275,
          20.58529411764706
         ],
         "showgrid": false,
         "title": {
          "text": "Sea Surface Temperature (°C)"
         }
        }
       }
      }
     },
     "metadata": {},
     "output_type": "display_data"
    }
   ],
   "source": [
    "fig = go.Figure()\n",
    "\n",
    "coldest_cold = climatology.sst.min()\n",
    "warmest_warm = climatology.sst.max()\n",
    "\n",
    "def get_color(sst):\n",
    "    \"\"\"Interpolate between blue, white, and red based on parameter t.\"\"\"\n",
    "    t = (climatology.sst.max()-sst)/(climatology.sst.max() - climatology.sst.min())\n",
    "    blue = (200, 0, 0) #TODO unflip these\n",
    "    white = (255, 255, 255)\n",
    "    red = (0, 0, 200)\n",
    "    # Ensure t is within [0, 1]\n",
    "    if t <= 0.5:\n",
    "        # Interpolate between blue and white\n",
    "        interpolated_color = tuple(int(c1 + (c2 - c1) * t * 2) for c1, c2 in zip(blue, white))\n",
    "    else:\n",
    "        # Interpolate between white and red\n",
    "        t = (t - 0.5) * 2\n",
    "        interpolated_color = tuple(int(c1 + (c2 - c1) * t) for c1, c2 in zip(white, red))\n",
    "\n",
    "    return 'rgb('+str(interpolated_color[0])+', '+str(interpolated_color[1])+', '+str(interpolated_color[2])+')'\n",
    "\n",
    "for i, sst in enumerate(climatology.sst):\n",
    "    i += 1917\n",
    "    df_year = df[(df['year'] == i)]\n",
    "    year_warmest_sst = df_year.sst.max()\n",
    "    year_warmest_day = df_year[df_year.sst == year_warmest_sst].date.iloc[0].strftime('%b %d')\n",
    "    year_coldest_sst = df_year.sst.min()\n",
    "    year_coldest_day = df_year[df_year.sst == year_coldest_sst].date.iloc[0].strftime('%b %d')\n",
    "    fig.add_shape(\n",
    "        type=\"rect\",\n",
    "        x0=i,\n",
    "        y0=0,\n",
    "        x1=i+1,\n",
    "        y1=30,\n",
    "        layer=\"below\",\n",
    "        line=dict(color=\"rgba(0,0,0,0)\"),\n",
    "        fillcolor=get_color(sst))\n",
    "    '''\n",
    "    fig.add_trace(go.Scatter(\n",
    "    x=[i], #TODO fix so they're not just plotted for each year but on their actual date\n",
    "    y=[year_warmest_sst],\n",
    "    mode='markers',\n",
    "    marker = dict(color='black',size=2),\n",
    "    text = 'Warmest Day: '+str(year_warmest_sst)+'°C on '+year_warmest_day,\n",
    "    hoverinfo='text',\n",
    "    showlegend=False))\n",
    "\n",
    "    fig.add_trace(go.Scatter(\n",
    "    x=[i],\n",
    "    y=[year_coldest_sst],\n",
    "    mode='markers',\n",
    "    marker = dict(color='black',size=2),\n",
    "    text = 'Coldest Day: '+str(year_coldest_sst)+'°C on '+year_coldest_day,\n",
    "    hoverinfo='text',\n",
    "    showlegend=False))\n",
    "    '''\n",
    "    \n",
    "fig.add_trace(go.Scatter(\n",
    "    x=df.groupby('year')['year'].first(),\n",
    "    y=climatology.sst,\n",
    "    name = 'Yearly average',\n",
    "    mode='lines',\n",
    "    line=dict(\n",
    "        width=5,\n",
    "        color='white'),\n",
    "    text=[f'Year: {year}<br>Average: {temp:.1f}°C' for year, temp in zip(df.groupby('year')['year'].first(), climatology.sst)],\n",
    "    hoverinfo='text',\n",
    "    showlegend=False))\n",
    "\n",
    "fig.update_layout(\n",
    "    title='SST at Scripps Pier',\n",
    "    xaxis=dict(title='Year', range=[climatology.year.min(), climatology.year.max()], showgrid=False),\n",
    "    yaxis=dict(title='Sea Surface Temperature (°C)', range=[climatology.sst.min() - 1, climatology.sst.max() + 1], showgrid=False),\n",
    "    hovermode='x unified',\n",
    "    plot_bgcolor='white')\n",
    "\n",
    "fig.show()"
   ]
  },
  {
   "cell_type": "code",
   "execution_count": 144,
   "metadata": {},
   "outputs": [
    {
     "data": {
      "text/plain": [
       "1917"
      ]
     },
     "execution_count": 144,
     "metadata": {},
     "output_type": "execute_result"
    }
   ],
   "source": [
    "climatology.year.min()"
   ]
  },
  {
   "cell_type": "code",
   "execution_count": null,
   "metadata": {},
   "outputs": [],
   "source": []
  }
 ],
 "metadata": {
  "kernelspec": {
   "display_name": "sccoos",
   "language": "python",
   "name": "python3"
  },
  "language_info": {
   "codemirror_mode": {
    "name": "ipython",
    "version": 3
   },
   "file_extension": ".py",
   "mimetype": "text/x-python",
   "name": "python",
   "nbconvert_exporter": "python",
   "pygments_lexer": "ipython3",
   "version": "3.11.5"
  }
 },
 "nbformat": 4,
 "nbformat_minor": 2
}
