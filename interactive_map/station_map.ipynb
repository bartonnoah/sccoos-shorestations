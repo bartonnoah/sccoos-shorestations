{
 "cells": [
  {
   "cell_type": "code",
   "execution_count": 2,
   "metadata": {},
   "outputs": [
    {
     "name": "stdout",
     "output_type": "stream",
     "text": [
      "Intel MKL WARNING: Support of Intel(R) Streaming SIMD Extensions 4.2 (Intel(R) SSE4.2) enabled only processors has been deprecated. Intel oneAPI Math Kernel Library 2025.0 will require Intel(R) Advanced Vector Extensions (Intel(R) AVX) instructions.\n",
      "Intel MKL WARNING: Support of Intel(R) Streaming SIMD Extensions 4.2 (Intel(R) SSE4.2) enabled only processors has been deprecated. Intel oneAPI Math Kernel Library 2025.0 will require Intel(R) Advanced Vector Extensions (Intel(R) AVX) instructions.\n"
     ]
    }
   ],
   "source": [
    "import folium\n",
    "from folium import IFrame"
   ]
  },
  {
   "cell_type": "code",
   "execution_count": 18,
   "metadata": {},
   "outputs": [],
   "source": [
    "pad = 0.18 #keep\n",
    "lat_lon = {'Scripps Pier, La Jolla': (32.866944, -117.257139)}\n",
    "bounds = {'Scripps Pier, La Jolla': ((32.866944 - pad, -117.257139 - pad), (32.866944 + pad, -117.257139 + pad))}"
   ]
  },
  {
   "cell_type": "code",
   "execution_count": 19,
   "metadata": {},
   "outputs": [
    {
     "data": {
      "text/html": [
       "<div style=\"width:100%;\"><div style=\"position:relative;width:100%;height:0;padding-bottom:60%;\"><span style=\"color:#565656\">Make this Notebook Trusted to load map: File -> Trust Notebook</span><iframe srcdoc=\"&lt;!DOCTYPE html&gt;\n",
       "&lt;html&gt;\n",
       "&lt;head&gt;\n",
       "    \n",
       "    &lt;meta http-equiv=&quot;content-type&quot; content=&quot;text/html; charset=UTF-8&quot; /&gt;\n",
       "    \n",
       "        &lt;script&gt;\n",
       "            L_NO_TOUCH = false;\n",
       "            L_DISABLE_3D = false;\n",
       "        &lt;/script&gt;\n",
       "    \n",
       "    &lt;style&gt;html, body {width: 100%;height: 100%;margin: 0;padding: 0;}&lt;/style&gt;\n",
       "    &lt;style&gt;#map {position:absolute;top:0;bottom:0;right:0;left:0;}&lt;/style&gt;\n",
       "    &lt;script src=&quot;https://cdn.jsdelivr.net/npm/leaflet@1.9.3/dist/leaflet.js&quot;&gt;&lt;/script&gt;\n",
       "    &lt;script src=&quot;https://code.jquery.com/jquery-1.12.4.min.js&quot;&gt;&lt;/script&gt;\n",
       "    &lt;script src=&quot;https://cdn.jsdelivr.net/npm/bootstrap@5.2.2/dist/js/bootstrap.bundle.min.js&quot;&gt;&lt;/script&gt;\n",
       "    &lt;script src=&quot;https://cdnjs.cloudflare.com/ajax/libs/Leaflet.awesome-markers/2.0.2/leaflet.awesome-markers.js&quot;&gt;&lt;/script&gt;\n",
       "    &lt;link rel=&quot;stylesheet&quot; href=&quot;https://cdn.jsdelivr.net/npm/leaflet@1.9.3/dist/leaflet.css&quot;/&gt;\n",
       "    &lt;link rel=&quot;stylesheet&quot; href=&quot;https://cdn.jsdelivr.net/npm/bootstrap@5.2.2/dist/css/bootstrap.min.css&quot;/&gt;\n",
       "    &lt;link rel=&quot;stylesheet&quot; href=&quot;https://netdna.bootstrapcdn.com/bootstrap/3.0.0/css/bootstrap.min.css&quot;/&gt;\n",
       "    &lt;link rel=&quot;stylesheet&quot; href=&quot;https://cdn.jsdelivr.net/npm/@fortawesome/fontawesome-free@6.2.0/css/all.min.css&quot;/&gt;\n",
       "    &lt;link rel=&quot;stylesheet&quot; href=&quot;https://cdnjs.cloudflare.com/ajax/libs/Leaflet.awesome-markers/2.0.2/leaflet.awesome-markers.css&quot;/&gt;\n",
       "    &lt;link rel=&quot;stylesheet&quot; href=&quot;https://cdn.jsdelivr.net/gh/python-visualization/folium/folium/templates/leaflet.awesome.rotate.min.css&quot;/&gt;\n",
       "    \n",
       "            &lt;meta name=&quot;viewport&quot; content=&quot;width=device-width,\n",
       "                initial-scale=1.0, maximum-scale=1.0, user-scalable=no&quot; /&gt;\n",
       "            &lt;style&gt;\n",
       "                #map_5277233cde0dbb3fa2c490742a6d2e36 {\n",
       "                    position: relative;\n",
       "                    width: 100.0%;\n",
       "                    height: 100.0%;\n",
       "                    left: 0.0%;\n",
       "                    top: 0.0%;\n",
       "                }\n",
       "                .leaflet-container { font-size: 1rem; }\n",
       "            &lt;/style&gt;\n",
       "        \n",
       "&lt;/head&gt;\n",
       "&lt;body&gt;\n",
       "    \n",
       "    \n",
       "            &lt;div class=&quot;folium-map&quot; id=&quot;map_5277233cde0dbb3fa2c490742a6d2e36&quot; &gt;&lt;/div&gt;\n",
       "        \n",
       "&lt;/body&gt;\n",
       "&lt;script&gt;\n",
       "    \n",
       "    \n",
       "            var map_5277233cde0dbb3fa2c490742a6d2e36 = L.map(\n",
       "                &quot;map_5277233cde0dbb3fa2c490742a6d2e36&quot;,\n",
       "                {\n",
       "                    center: [32.866944, -117.257139],\n",
       "                    crs: L.CRS.EPSG3857,\n",
       "                    zoom: 10,\n",
       "                    zoomControl: true,\n",
       "                    preferCanvas: false,\n",
       "                }\n",
       "            );\n",
       "\n",
       "            \n",
       "\n",
       "        \n",
       "    \n",
       "            var tile_layer_3882726450c1fd7435cc86f6eefb2ff4 = L.tileLayer(\n",
       "                &quot;https://mt1.google.com/vt/lyrs=s\\u0026x={x}\\u0026y={y}\\u0026z={z}&quot;,\n",
       "                {&quot;attribution&quot;: &quot;Map Data \\u00a9 OpenStreetMap contributors&quot;, &quot;detectRetina&quot;: false, &quot;maxNativeZoom&quot;: 18, &quot;maxZoom&quot;: 18, &quot;minZoom&quot;: 0, &quot;noWrap&quot;: false, &quot;opacity&quot;: 1, &quot;subdomains&quot;: &quot;abc&quot;, &quot;tms&quot;: false}\n",
       "            ).addTo(map_5277233cde0dbb3fa2c490742a6d2e36);\n",
       "        \n",
       "    \n",
       "            map_5277233cde0dbb3fa2c490742a6d2e36.fitBounds(\n",
       "                [[32.686944, -117.437139], [33.046943999999996, -117.07713899999999]],\n",
       "                {}\n",
       "            );\n",
       "        \n",
       "    \n",
       "            var marker_3edae1258953847a7651ec49e61aa823 = L.marker(\n",
       "                [32.866944, -117.257139],\n",
       "                {&quot;color&quot;: &quot;rgb(0,198,215)&quot;, &quot;fill&quot;: true, &quot;fillColor&quot;: &quot;rgb(0,198,215)&quot;, &quot;fillOpacity&quot;: 1}\n",
       "            ).addTo(map_5277233cde0dbb3fa2c490742a6d2e36);\n",
       "        \n",
       "    \n",
       "        var popup_e812c8be2453551541c8c6a2c32edb3f = L.popup({&quot;maxWidth&quot;: &quot;100%&quot;});\n",
       "\n",
       "        \n",
       "            \n",
       "                var html_937678789b7037bf631e842dd9b8cc2f = $(`&lt;div id=&quot;html_937678789b7037bf631e842dd9b8cc2f&quot; style=&quot;width: 100.0%; height: 100.0%;&quot;&gt;Scripps Pier Shore Station learn more blah&lt;/div&gt;`)[0];\n",
       "                popup_e812c8be2453551541c8c6a2c32edb3f.setContent(html_937678789b7037bf631e842dd9b8cc2f);\n",
       "            \n",
       "        \n",
       "\n",
       "        marker_3edae1258953847a7651ec49e61aa823.bindPopup(popup_e812c8be2453551541c8c6a2c32edb3f)\n",
       "        ;\n",
       "\n",
       "        \n",
       "    \n",
       "    \n",
       "            marker_3edae1258953847a7651ec49e61aa823.bindTooltip(\n",
       "                `&lt;div&gt;\n",
       "                     Scripps Pier\n",
       "                 &lt;/div&gt;`,\n",
       "                {&quot;sticky&quot;: true}\n",
       "            );\n",
       "        \n",
       "&lt;/script&gt;\n",
       "&lt;/html&gt;\" style=\"position:absolute;width:100%;height:100%;left:0;top:0;border:none !important;\" allowfullscreen webkitallowfullscreen mozallowfullscreen></iframe></div></div>"
      ],
      "text/plain": [
       "<folium.folium.Map at 0x12d15e490>"
      ]
     },
     "execution_count": 19,
     "metadata": {},
     "output_type": "execute_result"
    }
   ],
   "source": [
    "\n",
    "def station_map(station):\n",
    "    m = folium.Map(location=lat_lon[station], \n",
    "        tiles=\"https://mt1.google.com/vt/lyrs=s&x={x}&y={y}&z={z}\", \n",
    "        attr=\"Map Data © OpenStreetMap contributors\") #TODO check\n",
    "        \n",
    "    m.fit_bounds(bounds[station])\n",
    "    marker = folium.Marker(location = lat_lon[station],\n",
    "                                 popup='Scripps Pier Shore Station learn more blah',\n",
    "                                 tooltip='Scripps Pier',\n",
    "                                 color = 'rgb(0,198,215)',\n",
    "                                 fill=True,\n",
    "                                 fill_color = 'rgb(0,198,215)',\n",
    "                                 fill_opacity = 1)\n",
    "    marker.add_to(m)\n",
    "    m.save('station_map.html')\n",
    "    return m\n",
    "\n",
    "m = station_map('Scripps Pier, La Jolla')\n",
    "m"
   ]
  },
  {
   "cell_type": "code",
   "execution_count": null,
   "metadata": {},
   "outputs": [],
   "source": []
  }
 ],
 "metadata": {
  "kernelspec": {
   "display_name": "Python 3",
   "language": "python",
   "name": "python3"
  },
  "language_info": {
   "codemirror_mode": {
    "name": "ipython",
    "version": 3
   },
   "file_extension": ".py",
   "mimetype": "text/x-python",
   "name": "python",
   "nbconvert_exporter": "python",
   "pygments_lexer": "ipython3",
   "version": "3.11.4"
  },
  "orig_nbformat": 4
 },
 "nbformat": 4,
 "nbformat_minor": 2
}
