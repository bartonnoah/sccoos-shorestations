{
 "cells": [
  {
   "cell_type": "markdown",
   "metadata": {},
   "source": []
  },
  {
   "attachments": {},
   "cell_type": "markdown",
   "metadata": {},
   "source": [
    "Plots a histogram to visually communicate temperature anomaly of a day's SST"
   ]
  },
  {
   "cell_type": "code",
   "execution_count": 1,
   "metadata": {},
   "outputs": [],
   "source": [
    "import matplotlib.pyplot as plt\n",
    "import pandas as pd\n",
    "import numpy as np\n",
    "from datetime import datetime"
   ]
  },
  {
   "cell_type": "code",
   "execution_count": 2,
   "metadata": {},
   "outputs": [],
   "source": [
    "def suffix(day):\n",
    "    updated_day = day\n",
    "    if updated_day == 1:\n",
    "        suffix = 'st'\n",
    "    elif updated_day == 2:\n",
    "        suffix = 'nd'\n",
    "    elif updated_day == 3:\n",
    "        suffix = 'rd'\n",
    "    elif (4 <= updated_day <= 20):\n",
    "        suffix = 'th'\n",
    "    elif updated_day == 21:\n",
    "        suffix = 'st'\n",
    "    elif updated_day == 22:\n",
    "        suffix = 'nd'\n",
    "    elif updated_day == 23:\n",
    "        suffix = 'rd'\n",
    "    elif (24 <= updated_day <= 30):\n",
    "        suffix = 'th'\n",
    "    elif updated_day == 31:\n",
    "        suffix = 'st'\n",
    "    return suffix"
   ]
  },
  {
   "cell_type": "code",
   "execution_count": 3,
   "metadata": {},
   "outputs": [],
   "source": [
    "months = {1: 'Jan', 2: 'Feb', 3: 'Mar', 4: 'Apr', 5: 'May', 6: 'Jun', 7: 'Jul', 8: 'Aug', 9: 'Sep', 10:'Oct', 11:'Nov', 12:'Dec'}"
   ]
  },
  {
   "cell_type": "code",
   "execution_count": 4,
   "metadata": {},
   "outputs": [],
   "source": [
    "c_to_f = lambda c: (c*(9/5)) + 32"
   ]
  },
  {
   "cell_type": "code",
   "execution_count": 17,
   "metadata": {},
   "outputs": [],
   "source": [
    "def trivia_msg(climatology, today_sst, day, month):\n",
    "    trivia_msg = None\n",
    "    obs_datetime = datetime(year=int(2024), month=int(month), day=int(day)).strftime('%b %-d %Y')\n",
    "    if today_sst > climatology.SURF_TEMP_C.mean():\n",
    "        trivia_msg = obs_datetime + ' is warmer than  \\nthe average of all ' + months[month] + ' ' + str(int(day)) + suffix(day) + 's.'\n",
    "    elif today_sst < climatology.SURF_TEMP_C.mean():\n",
    "        trivia_msg = obs_datetime + ' is cooler than  \\nthe average of all ' + months[month] + ' ' + str(int(day)) + suffix(day) + 's.'\n",
    "    if today_sst > np.nanpercentile(climatology.SURF_TEMP_C.values,90): #How do you define a MHW day? Also np.percentile assumes a normal distribution I think\n",
    "        trivia_msg = obs_datetime + ' is among the hottest 10% \\nof ' + months[month] + ' ' + str(int(day)) + suffix(day) + 's on record.'\n",
    "    if today_sst < np.nanpercentile(climatology.SURF_TEMP_C.values,10): #How do you define a MHW day? Also np.percentile assumes a normal distribution I think\n",
    "        trivia_msg = obs_datetime + ' is among the coldest 10% \\nof ' + months[month] + ' ' + str(int(day)) + suffix(day) + 's on record.'\n",
    "    if today_sst >= climatology.SURF_TEMP_C.max():\n",
    "        trivia_msg = obs_datetime + ' is the hottest \\n' + months[month] + ' ' + str(int(day)) + suffix(day) + ' on record.'\n",
    "    elif today_sst <= climatology.SURF_TEMP_C.min():\n",
    "        trivia_msg = obs_datetime + ' is the coldest \\n' + months[month] + ' ' + str(int(day)) + suffix(day) + ' on record.'\n",
    "    return trivia_msg"
   ]
  },
  {
   "cell_type": "code",
   "execution_count": 6,
   "metadata": {},
   "outputs": [],
   "source": [
    "from pathlib import Path\n",
    "import matplotlib as mpl\n",
    "fpath = Path(mpl.get_data_path(), \"/Users/noahbarton/Library/CloudStorage/OneDrive-UCSanDiego/sccoos/sst_hist/lato/Lato-Regular.ttf\")"
   ]
  },
  {
   "cell_type": "code",
   "execution_count": 7,
   "metadata": {},
   "outputs": [],
   "source": [
    "def sst_hist(sst_filename, location):\n",
    "    all_sst = pd.read_csv(sst_filename, usecols = ['SURF_TEMP_C','MONTH','DAY','YEAR'])\n",
    "    last = all_sst.iloc[-1,:]\n",
    "    day = last.DAY\n",
    "    month = last.MONTH\n",
    "    year = last.YEAR\n",
    "    today_sst = last.SURF_TEMP_C\n",
    "    today_suffix = suffix(day)\n",
    "    climatology = all_sst[(all_sst['MONTH'] == month) & (all_sst['DAY'] == day)]\n",
    "    max_day = all_sst.loc[climatology.SURF_TEMP_C.idxmax()]\n",
    "    min_day = all_sst.loc[climatology.SURF_TEMP_C.idxmin()]\n",
    "    mean = climatology.SURF_TEMP_C.mean()\n",
    "    max_msg = 'Record High SST: '  + str(max_day.SURF_TEMP_C) + '°C in ' + str(int(max_day.YEAR))\n",
    "    min_msg = 'Record Low SST: '  + str(min_day.SURF_TEMP_C) + '°C in ' + str(int(min_day.YEAR))\n",
    "    mean_msg = 'Average SST: ' + str(round(mean,1)) + '°C/' + str(round(c_to_f(today_sst), 1)) +'°F'\n",
    "    n_msg = 'from ' + str(climatology.shape[0]) + ' samples since ' + str(climatology.YEAR.min())\n",
    "    obs_datetime = datetime(year=int(year), month=int(month), day=int(day))\n",
    "    cm = plt.colormaps.get_cmap('RdBu_r')\n",
    "    fig, ax = plt.subplots()\n",
    "\n",
    "    n, bins, patches = ax.hist(climatology.SURF_TEMP_C, bins = 20, edgecolor='none')\n",
    "    ax.axvline(today_sst, color='k', linestyle='dashed', linewidth=1)\n",
    "    ax.axvline(mean, color='k', linestyle='dotted', linewidth=1, c= '#404040')\n",
    "    ylim = plt.gca().get_ylim()\n",
    "    top = ylim[1]\n",
    "    bottom = ylim[0]\n",
    "    xlim = plt.gca().get_xlim()\n",
    "    left = xlim[0]\n",
    "    right = xlim[1]\n",
    "    y_range = top - bottom\n",
    "\n",
    "    today_label_x = today_sst + 0.15 if today_sst > mean else today_sst - 0.3\n",
    "    mean_label_x = mean + 0.15 if today_sst < mean else mean - 0.3\n",
    "    today_label = obs_datetime.strftime('%b %-d %Y') + \" Temperature: \" + str(today_sst) + '°C/' + str(round(c_to_f(today_sst), 1)) +'°F'\n",
    "    avg_label = \"Average Temperature of all \" + obs_datetime.strftime('%b %-d') + today_suffix +'s'\n",
    "    ax.text(today_label_x, bottom + 0.4, today_label, rotation =90, font=fpath)\n",
    "    ax.text(mean_label_x, bottom + 0.4, avg_label, c='#404040', rotation =90, font=fpath)\n",
    "    plt.xlabel('Temperature (°C)', font=fpath)\n",
    "    ax.set_xticklabels(ax.get_xticks(), fontproperties=fpath)\n",
    "    plt.gca().axes.get_yaxis().set_visible(False)\n",
    "    plt.ylabel('Frequency')\n",
    "    ax.text(right + 0.1, top - 1, max_msg, fontsize=10, color='#67001F', font = fpath)\n",
    "    ax.text(right + 0.1, top - 2, min_msg, fontsize=10, color='#053061', font = fpath)\n",
    "    ax.text(right + 0.1, top - 3, mean_msg, fontsize=10, c='k', font = fpath)\n",
    "    ax.text(right + 0.1, top - 4, n_msg, fontsize=10, c='k', font = fpath)\n",
    "    ax.text(right + 0.1, bottom, trivia_msg(climatology, today_sst, day, month), fontsize=10, font = fpath)\n",
    "\n",
    "    bin_centers = 0.5 * (bins[:-1] + bins[1:])\n",
    "    col = bin_centers - min(bin_centers)\n",
    "    col /= max(col)\n",
    "\n",
    "    for c, p in zip(col, patches):\n",
    "        plt.setp(p, 'facecolor', cm(c))\n",
    "    ax.spines['top'].set_visible(False)\n",
    "    ax.spines['right'].set_visible(False)\n",
    "\n",
    "    fig_filename = 'test'+\".png\"\n",
    "    data_dir = 'ELENA TODO'\n",
    "    plt.savefig(data_dir+fig_filename, bbox_inches='tight')\n",
    "    plt.show()"
   ]
  },
  {
   "cell_type": "code",
   "execution_count": 49,
   "metadata": {},
   "outputs": [],
   "source": [
    "def sst_hist(sst_filename, location):\n",
    "    all_sst = pd.read_csv(sst_filename, usecols=['SURF_TEMP_C','MONTH','DAY','YEAR'])\n",
    "    last = all_sst.iloc[-1,:]\n",
    "    day = int(last.DAY)\n",
    "    month = int(last.MONTH)\n",
    "    year = int(last.YEAR)\n",
    "    today_sst = last.SURF_TEMP_C\n",
    "    today_suffix = suffix(day)\n",
    "    climatology = all_sst[(all_sst['MONTH'] == month) & (all_sst['DAY'] == day)]\n",
    "    max_day = all_sst.loc[climatology.SURF_TEMP_C.idxmax()]\n",
    "    hottest = climatology.SURF_TEMP_C.max()\n",
    "    min_day = all_sst.loc[climatology.SURF_TEMP_C.idxmin()]\n",
    "    mean = climatology.SURF_TEMP_C.mean()\n",
    "    coldest = climatology.SURF_TEMP_C.min()\n",
    "    title = 'How does '+datetime.strftime(datetime(year,month,day),'%B %-d %Y')+' compare to other years?'\n",
    "    max_msg = 'Record High SST: '  + str(hottest) + '°C/'+str(round(c_to_f(hottest), 1))+'°F in ' + str(int(max_day.YEAR))\n",
    "    min_msg = 'Record Low SST: '  + str(coldest) + '°C/'+str(round(c_to_f(coldest), 1))+'°F in ' + str(int(max_day.YEAR))\n",
    "    mean_msg = 'Average SST: ' + str(round(mean,1)) + '°C/' + str(round(c_to_f(today_sst), 1)) +'°F\\n\\\n",
    "from ' + str(climatology.shape[0]) + ' samples since ' + str(climatology.YEAR.min())\n",
    "    comparison_msg = trivia_msg(climatology, today_sst, day, month)\n",
    "    hist, bin_edges = np.histogram(climatology.SURF_TEMP_C, bins=np.arange(coldest // 1, hottest // 1 + 1,1))\n",
    "    print(title)\n",
    "    print(max_msg)\n",
    "    print(min_msg)\n",
    "    print(mean_msg)\n",
    "    print(comparison_msg)\n",
    "    print(len(hist))\n",
    "    print(len(bin_edges))\n",
    "\n",
    "    fig, ax = plt.subplots()\n",
    "    ax.barh(bin_edges[:-1], hist, align='center')\n",
    "    plt.show()"
   ]
  },
  {
   "cell_type": "code",
   "execution_count": 50,
   "metadata": {},
   "outputs": [
    {
     "name": "stdout",
     "output_type": "stream",
     "text": [
      "How does April 30 2023 compare to other years?\n",
      "Record High SST: 21.7°C/71.1°F in 1992\n",
      "Record Low SST: 11.7°C/53.1°F in 1992\n",
      "Average SST: 16.3°C/59.9°F\n",
      "from 107 samples since 1917\n",
      "Apr 30 2024 is cooler than  \n",
      "the average of all Apr 30ths.\n",
      "10\n",
      "11\n"
     ]
    },
    {
     "data": {
      "image/png": "[encoded data removed]",
      "text/plain": [
       "<Figure size 640x480 with 1 Axes>"
      ]
     },
     "metadata": {},
     "output_type": "display_data"
    }
   ],
   "source": [
    "sst_filename='SIO_TEMP_20230105.csv'\n",
    "location = 'SIO Pier'\n",
    "\n",
    "sst_hist(sst_filename, location)"
   ]
  },
  {
   "cell_type": "code",
   "execution_count": 46,
   "metadata": {},
   "outputs": [
    {
     "ename": "NameError",
     "evalue": "name 'bin_edges' is not defined",
     "output_type": "error",
     "traceback": [
      "\u001b[0;31m---------------------------------------------------------------------------\u001b[0m",
      "\u001b[0;31mNameError\u001b[0m                                 Traceback (most recent call last)",
      "Cell \u001b[0;32mIn[46], line 1\u001b[0m\n\u001b[0;32m----> 1\u001b[0m \u001b[43mbin_edges\u001b[49m\n",
      "\u001b[0;31mNameError\u001b[0m: name 'bin_edges' is not defined"
     ]
    }
   ],
   "source": [
    "bin_edges"
   ]
  },
  {
   "cell_type": "code",
   "execution_count": null,
   "metadata": {},
   "outputs": [],
   "source": []
  }
 ],
 "metadata": {
  "kernelspec": {
   "display_name": "Python 3",
   "language": "python",
   "name": "python3"
  },
  "language_info": {
   "codemirror_mode": {
    "name": "ipython",
    "version": 3
   },
   "file_extension": ".py",
   "mimetype": "text/x-python",
   "name": "python",
   "nbconvert_exporter": "python",
   "pygments_lexer": "ipython3",
   "version": "3.11.5"
  },
  "orig_nbformat": 4
 },
 "nbformat": 4,
 "nbformat_minor": 2
}
