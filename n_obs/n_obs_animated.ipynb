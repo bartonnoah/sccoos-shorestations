{
 "cells": [
  {
   "cell_type": "code",
   "execution_count": 3,
   "metadata": {},
   "outputs": [],
   "source": [
    "import pandas as pd\n",
    "import numpy as np\n",
    "import matplotlib.pyplot as plt\n",
    "from matplotlib.animation import FuncAnimation\n",
    "from PIL import Image"
   ]
  },
  {
   "cell_type": "code",
   "execution_count": 4,
   "metadata": {},
   "outputs": [],
   "source": [
    "def count_nobs(station, mode, *filenames):\n",
    "    def skip_rows(filename): #There is definitely a smarter way to do this, but I was lazy\n",
    "        df = pd.read_excel(filename)\n",
    "        n_rows = df.shape[0]\n",
    "        for i in range(1, n_rows):\n",
    "            df = pd.read_excel(filename, skiprows=i)\n",
    "            if df.iloc[0][0] == 'YEAR':\n",
    "                break\n",
    "        skiprows = i + 1\n",
    "        return skiprows\n",
    "\n",
    "    if station == 'Trinidad Beach & Bay': #Special case: Trinidad Beach & Bay needs to read 2 files\n",
    "        obs_count = 0\n",
    "        for filename in filenames:\n",
    "            skiprows = skip_rows(filename)\n",
    "            df = pd.read_excel(filename, skiprows=skiprows)\n",
    "            obs_count += df.shape[0]\n",
    "    elif station == 'Scripps Pier': #Special case: Scripps Pier has SST and SBT\n",
    "        skiprows = skip_rows(filenames[0])\n",
    "        df = pd.read_excel(filenames[0], skiprows=skiprows)\n",
    "        if mode == 'SST':\n",
    "            obs_count = df.shape[0]\n",
    "        elif mode == 'SBT':\n",
    "            obs_count = np.count_nonzero(~np.isnan(df.BOT_TEMP_C.values))\n",
    "    else: #normal cases\n",
    "        skip_rows = skip_rows(filenames[0])\n",
    "        df = pd.read_excel(filenames[0], skiprows=skip_rows)\n",
    "        obs_count = df.shape[0]\n",
    "    return [str(obs_count), station]"
   ]
  },
  {
   "cell_type": "code",
   "execution_count": 5,
   "metadata": {},
   "outputs": [
    {
     "data": {
      "text/plain": [
       "['35855', 'Farallon Islands']"
      ]
     },
     "execution_count": 5,
     "metadata": {},
     "output_type": "execute_result"
    }
   ],
   "source": [
    "farallons = count_nobs('Farallon Islands', 'SST', 'Farallons_TEMP_1925-20230703.xls')\n",
    "farallons"
   ]
  },
  {
   "cell_type": "code",
   "execution_count": 6,
   "metadata": {},
   "outputs": [],
   "source": [
    "def draw_nobs(nobs):\n",
    "    obs_count = int(nobs[0])\n",
    "    station = nobs[1]\n",
    "    print(station)\n",
    "    fig, ax = plt.subplots(figsize=(1,0.1), dpi=400)\n",
    "\n",
    "    x = np.arange(0, 10, 0.1)\n",
    "    y = 1\n",
    "\n",
    "    line, = ax.plot([], [], color='blue', label='Sine wave')\n",
    "\n",
    "    #plt.xlim([0, 50])\n",
    "    #plt.ylim([0, 20])\n",
    "\n",
    "    plt.axis('off')\n",
    "\n",
    "    text = plt.annotate(\"\", fontsize=85, c='hotpink', xy=(.1, .9), xycoords=\"axes fraction\") \n",
    "\n",
    "    def init():\n",
    "        line.set_data([], [])\n",
    "        text.set_text('')\n",
    "        return line, text\n",
    "\n",
    "    def update(frame):\n",
    "        if frame <= obs_count:\n",
    "            text.set_text(str(frame))\n",
    "        return text,\n",
    "\n",
    "    ani = FuncAnimation(fig, update, frames=range(obs_count+1), init_func=init, blit=True)\n",
    "    \n",
    "    filename = station.replace(' ','')+\".gif\"\n",
    "    ani.save(filename, writer='pillow')\n",
    "\n",
    "    plt.close(fig)"
   ]
  },
  {
   "cell_type": "code",
   "execution_count": 8,
   "metadata": {},
   "outputs": [
    {
     "name": "stdout",
     "output_type": "stream",
     "text": [
      "test\n"
     ]
    }
   ],
   "source": [
    "draw_nobs([10, 'test'])"
   ]
  },
  {
   "cell_type": "code",
   "execution_count": null,
   "metadata": {},
   "outputs": [],
   "source": []
  }
 ],
 "metadata": {
  "kernelspec": {
   "display_name": "sccoos",
   "language": "python",
   "name": "python3"
  },
  "language_info": {
   "codemirror_mode": {
    "name": "ipython",
    "version": 3
   },
   "file_extension": ".py",
   "mimetype": "text/x-python",
   "name": "python",
   "nbconvert_exporter": "python",
   "pygments_lexer": "ipython3",
   "version": "3.11.5"
  }
 },
 "nbformat": 4,
 "nbformat_minor": 2
}
