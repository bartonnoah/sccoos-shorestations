{
 "cells": [
  {
   "cell_type": "markdown",
   "metadata": {},
   "source": [
    "# n_obs\n",
    "\n",
    "n_obs is designed to produce a series of counters that show how many measurements are made at a given site."
   ]
  },
  {
   "cell_type": "code",
   "execution_count": 2,
   "metadata": {},
   "outputs": [],
   "source": [
    "#import required libraries\n",
    "import pandas as pd\n",
    "from PIL import Image, ImageDraw, ImageFont\n",
    "import numpy as np\n",
    "import matplotlib.pyplot as plt"
   ]
  },
  {
   "cell_type": "markdown",
   "metadata": {},
   "source": [
    "## `count_nobs()`\n",
    "`count_nobs()` counts the number of observations for a given station.\n",
    "\n",
    "### Inputs\n",
    "- station name as string `station`, formatted as you would like it displayed, consistent with hardcoded special cases and dictionaries from `draw_nobs()`.\n",
    "- mode as string `mode`, either `'SST'` or `'SBT'` (Scripps Pier only)\n",
    "- filename(s) of Excel spreasheets containing data to access as string(s) `*args`, one file unless Trinidad Bay & Beach.\n",
    "\n",
    "### Algorithm\n",
    "1. Check to determine if case is special case.  If special case, follow specific instructions for that case.  Special cases include Scripps Pier (SST & SBT) and Trinidad Beack & Bay (two files).  If not a special case, follow general instructions.\n",
    "2. Open the applicable file(s).  To make the columns have meaningful names, `skip_rows()` iteratively looks for the number of header rows to exclude so the first column is named `'YEAR'`.\n",
    "3. Count number of observations.\n",
    "\n",
    "### Outputs\n",
    "A list containing the number of observations as string `obs_count`, the text identifying the station and how long it's been there as string `bottom_text`, the station name as string `station` and the mode as string `mode`.\n"
   ]
  },
  {
   "cell_type": "code",
   "execution_count": 3,
   "metadata": {},
   "outputs": [],
   "source": [
    "def count_nobs(station, mode, *filenames):\n",
    "    def skip_rows(filename): #There is definitely a smarter way to do this, but I was lazy\n",
    "        df = pd.read_excel(filename)\n",
    "        n_rows = df.shape[0]\n",
    "        for i in range(1, n_rows):\n",
    "            df = pd.read_excel(filename, skiprows=i)\n",
    "            if df.iloc[0][0] == 'YEAR':\n",
    "                break\n",
    "        skiprows = i + 1\n",
    "        return skiprows\n",
    "\n",
    "    if station == 'Trinidad Beach & Bay': #Special case: Trinidad Beach & Bay needs to read 2 files\n",
    "        obs_count = 0\n",
    "        for filename in filenames:\n",
    "            skiprows = skip_rows(filename)\n",
    "            df = pd.read_excel(filename, skiprows=skiprows)\n",
    "            obs_count += df.shape[0]\n",
    "    elif station == 'Scripps Pier': #Special case: Scripps Pier has SST and SBT\n",
    "        skiprows = skip_rows(filenames[0])\n",
    "        df = pd.read_excel(filenames[0], skiprows=skiprows)\n",
    "        if mode == 'SST':\n",
    "            obs_count = df.shape[0]\n",
    "        elif mode == 'SBT':\n",
    "            obs_count = np.count_nonzero(~np.isnan(df.BOT_TEMP_C.values))\n",
    "    else: #normal cases\n",
    "        skip_rows = skip_rows(filenames[0])\n",
    "        df = pd.read_excel(filenames[0], skiprows=skip_rows)\n",
    "        obs_count = df.shape[0]\n",
    "    return [str(obs_count), station]"
   ]
  },
  {
   "cell_type": "markdown",
   "metadata": {},
   "source": [
    "### A few examples of the behavior of `count_nobs`"
   ]
  },
  {
   "cell_type": "markdown",
   "metadata": {},
   "source": [
    "Normal case: Farallon Islands"
   ]
  },
  {
   "cell_type": "code",
   "execution_count": 4,
   "metadata": {},
   "outputs": [
    {
     "data": {
      "text/plain": [
       "['35855', 'Farallon Islands']"
      ]
     },
     "execution_count": 4,
     "metadata": {},
     "output_type": "execute_result"
    }
   ],
   "source": [
    "farallons = count_nobs('Farallon Islands', 'SST', 'Farallons_TEMP_1925-20230703.xls')\n",
    "farallons"
   ]
  },
  {
   "cell_type": "markdown",
   "metadata": {},
   "source": [
    "Special case: Scripps Pier has both SST and SBT measurements on the same spreadsheet"
   ]
  },
  {
   "cell_type": "code",
   "execution_count": 5,
   "metadata": {},
   "outputs": [
    {
     "ename": "KeyboardInterrupt",
     "evalue": "",
     "output_type": "error",
     "traceback": [
      "\u001b[0;31m---------------------------------------------------------------------------\u001b[0m",
      "\u001b[0;31mKeyboardInterrupt\u001b[0m                         Traceback (most recent call last)",
      "Cell \u001b[0;32mIn[5], line 1\u001b[0m\n\u001b[0;32m----> 1\u001b[0m scripps_SST \u001b[38;5;241m=\u001b[39m \u001b[43mcount_nobs\u001b[49m\u001b[43m(\u001b[49m\u001b[38;5;124;43m'\u001b[39;49m\u001b[38;5;124;43mScripps Pier\u001b[39;49m\u001b[38;5;124;43m'\u001b[39;49m\u001b[43m,\u001b[49m\u001b[43m \u001b[49m\u001b[38;5;124;43m'\u001b[39;49m\u001b[38;5;124;43mSST\u001b[39;49m\u001b[38;5;124;43m'\u001b[39;49m\u001b[43m,\u001b[49m\u001b[43m \u001b[49m\u001b[38;5;124;43m'\u001b[39;49m\u001b[38;5;124;43mSIO_TEMP_20230501.xls\u001b[39;49m\u001b[38;5;124;43m'\u001b[39;49m\u001b[43m)\u001b[49m\n\u001b[1;32m      2\u001b[0m scripps_SBT \u001b[38;5;241m=\u001b[39m count_nobs(\u001b[38;5;124m'\u001b[39m\u001b[38;5;124mScripps Pier\u001b[39m\u001b[38;5;124m'\u001b[39m, \u001b[38;5;124m'\u001b[39m\u001b[38;5;124mSBT\u001b[39m\u001b[38;5;124m'\u001b[39m, \u001b[38;5;124m'\u001b[39m\u001b[38;5;124mSIO_TEMP_20230501.xls\u001b[39m\u001b[38;5;124m'\u001b[39m)\n\u001b[1;32m      3\u001b[0m scripps_SST, scripps_SBT\n",
      "Cell \u001b[0;32mIn[3], line 19\u001b[0m, in \u001b[0;36mcount_nobs\u001b[0;34m(station, mode, *filenames)\u001b[0m\n\u001b[1;32m     17\u001b[0m         obs_count \u001b[38;5;241m+\u001b[39m\u001b[38;5;241m=\u001b[39m df\u001b[38;5;241m.\u001b[39mshape[\u001b[38;5;241m0\u001b[39m]\n\u001b[1;32m     18\u001b[0m \u001b[38;5;28;01melif\u001b[39;00m station \u001b[38;5;241m==\u001b[39m \u001b[38;5;124m'\u001b[39m\u001b[38;5;124mScripps Pier\u001b[39m\u001b[38;5;124m'\u001b[39m: \u001b[38;5;66;03m#Special case: Scripps Pier has SST and SBT\u001b[39;00m\n\u001b[0;32m---> 19\u001b[0m     skiprows \u001b[38;5;241m=\u001b[39m \u001b[43mskip_rows\u001b[49m\u001b[43m(\u001b[49m\u001b[43mfilenames\u001b[49m\u001b[43m[\u001b[49m\u001b[38;5;241;43m0\u001b[39;49m\u001b[43m]\u001b[49m\u001b[43m)\u001b[49m\n\u001b[1;32m     20\u001b[0m     df \u001b[38;5;241m=\u001b[39m pd\u001b[38;5;241m.\u001b[39mread_excel(filenames[\u001b[38;5;241m0\u001b[39m], skiprows\u001b[38;5;241m=\u001b[39mskiprows)\n\u001b[1;32m     21\u001b[0m     \u001b[38;5;28;01mif\u001b[39;00m mode \u001b[38;5;241m==\u001b[39m \u001b[38;5;124m'\u001b[39m\u001b[38;5;124mSST\u001b[39m\u001b[38;5;124m'\u001b[39m:\n",
      "Cell \u001b[0;32mIn[3], line 6\u001b[0m, in \u001b[0;36mcount_nobs.<locals>.skip_rows\u001b[0;34m(filename)\u001b[0m\n\u001b[1;32m      4\u001b[0m n_rows \u001b[38;5;241m=\u001b[39m df\u001b[38;5;241m.\u001b[39mshape[\u001b[38;5;241m0\u001b[39m]\n\u001b[1;32m      5\u001b[0m \u001b[38;5;28;01mfor\u001b[39;00m i \u001b[38;5;129;01min\u001b[39;00m \u001b[38;5;28mrange\u001b[39m(\u001b[38;5;241m1\u001b[39m, n_rows):\n\u001b[0;32m----> 6\u001b[0m     df \u001b[38;5;241m=\u001b[39m \u001b[43mpd\u001b[49m\u001b[38;5;241;43m.\u001b[39;49m\u001b[43mread_excel\u001b[49m\u001b[43m(\u001b[49m\u001b[43mfilename\u001b[49m\u001b[43m,\u001b[49m\u001b[43m \u001b[49m\u001b[43mskiprows\u001b[49m\u001b[38;5;241;43m=\u001b[39;49m\u001b[43mi\u001b[49m\u001b[43m)\u001b[49m\n\u001b[1;32m      7\u001b[0m     \u001b[38;5;28;01mif\u001b[39;00m df\u001b[38;5;241m.\u001b[39miloc[\u001b[38;5;241m0\u001b[39m][\u001b[38;5;241m0\u001b[39m] \u001b[38;5;241m==\u001b[39m \u001b[38;5;124m'\u001b[39m\u001b[38;5;124mYEAR\u001b[39m\u001b[38;5;124m'\u001b[39m:\n\u001b[1;32m      8\u001b[0m         \u001b[38;5;28;01mbreak\u001b[39;00m\n",
      "File \u001b[0;32m~/miniconda3/envs/sccoos/lib/python3.11/site-packages/pandas/io/excel/_base.py:478\u001b[0m, in \u001b[0;36mread_excel\u001b[0;34m(io, sheet_name, header, names, index_col, usecols, dtype, engine, converters, true_values, false_values, skiprows, nrows, na_values, keep_default_na, na_filter, verbose, parse_dates, date_parser, date_format, thousands, decimal, comment, skipfooter, storage_options, dtype_backend)\u001b[0m\n\u001b[1;32m    476\u001b[0m \u001b[38;5;28;01mif\u001b[39;00m \u001b[38;5;129;01mnot\u001b[39;00m \u001b[38;5;28misinstance\u001b[39m(io, ExcelFile):\n\u001b[1;32m    477\u001b[0m     should_close \u001b[38;5;241m=\u001b[39m \u001b[38;5;28;01mTrue\u001b[39;00m\n\u001b[0;32m--> 478\u001b[0m     io \u001b[38;5;241m=\u001b[39m \u001b[43mExcelFile\u001b[49m\u001b[43m(\u001b[49m\u001b[43mio\u001b[49m\u001b[43m,\u001b[49m\u001b[43m \u001b[49m\u001b[43mstorage_options\u001b[49m\u001b[38;5;241;43m=\u001b[39;49m\u001b[43mstorage_options\u001b[49m\u001b[43m,\u001b[49m\u001b[43m \u001b[49m\u001b[43mengine\u001b[49m\u001b[38;5;241;43m=\u001b[39;49m\u001b[43mengine\u001b[49m\u001b[43m)\u001b[49m\n\u001b[1;32m    479\u001b[0m \u001b[38;5;28;01melif\u001b[39;00m engine \u001b[38;5;129;01mand\u001b[39;00m engine \u001b[38;5;241m!=\u001b[39m io\u001b[38;5;241m.\u001b[39mengine:\n\u001b[1;32m    480\u001b[0m     \u001b[38;5;28;01mraise\u001b[39;00m \u001b[38;5;167;01mValueError\u001b[39;00m(\n\u001b[1;32m    481\u001b[0m         \u001b[38;5;124m\"\u001b[39m\u001b[38;5;124mEngine should not be specified when passing \u001b[39m\u001b[38;5;124m\"\u001b[39m\n\u001b[1;32m    482\u001b[0m         \u001b[38;5;124m\"\u001b[39m\u001b[38;5;124man ExcelFile - ExcelFile already has the engine set\u001b[39m\u001b[38;5;124m\"\u001b[39m\n\u001b[1;32m    483\u001b[0m     )\n",
      "File \u001b[0;32m~/miniconda3/envs/sccoos/lib/python3.11/site-packages/pandas/io/excel/_base.py:1513\u001b[0m, in \u001b[0;36mExcelFile.__init__\u001b[0;34m(self, path_or_buffer, engine, storage_options)\u001b[0m\n\u001b[1;32m   1510\u001b[0m \u001b[38;5;28mself\u001b[39m\u001b[38;5;241m.\u001b[39mengine \u001b[38;5;241m=\u001b[39m engine\n\u001b[1;32m   1511\u001b[0m \u001b[38;5;28mself\u001b[39m\u001b[38;5;241m.\u001b[39mstorage_options \u001b[38;5;241m=\u001b[39m storage_options\n\u001b[0;32m-> 1513\u001b[0m \u001b[38;5;28mself\u001b[39m\u001b[38;5;241m.\u001b[39m_reader \u001b[38;5;241m=\u001b[39m \u001b[38;5;28;43mself\u001b[39;49m\u001b[38;5;241;43m.\u001b[39;49m\u001b[43m_engines\u001b[49m\u001b[43m[\u001b[49m\u001b[43mengine\u001b[49m\u001b[43m]\u001b[49m\u001b[43m(\u001b[49m\u001b[38;5;28;43mself\u001b[39;49m\u001b[38;5;241;43m.\u001b[39;49m\u001b[43m_io\u001b[49m\u001b[43m,\u001b[49m\u001b[43m \u001b[49m\u001b[43mstorage_options\u001b[49m\u001b[38;5;241;43m=\u001b[39;49m\u001b[43mstorage_options\u001b[49m\u001b[43m)\u001b[49m\n",
      "File \u001b[0;32m~/miniconda3/envs/sccoos/lib/python3.11/site-packages/pandas/io/excel/_xlrd.py:35\u001b[0m, in \u001b[0;36mXlrdReader.__init__\u001b[0;34m(self, filepath_or_buffer, storage_options)\u001b[0m\n\u001b[1;32m     33\u001b[0m err_msg \u001b[38;5;241m=\u001b[39m \u001b[38;5;124m\"\u001b[39m\u001b[38;5;124mInstall xlrd >= 2.0.1 for xls Excel support\u001b[39m\u001b[38;5;124m\"\u001b[39m\n\u001b[1;32m     34\u001b[0m import_optional_dependency(\u001b[38;5;124m\"\u001b[39m\u001b[38;5;124mxlrd\u001b[39m\u001b[38;5;124m\"\u001b[39m, extra\u001b[38;5;241m=\u001b[39merr_msg)\n\u001b[0;32m---> 35\u001b[0m \u001b[38;5;28;43msuper\u001b[39;49m\u001b[43m(\u001b[49m\u001b[43m)\u001b[49m\u001b[38;5;241;43m.\u001b[39;49m\u001b[38;5;21;43m__init__\u001b[39;49m\u001b[43m(\u001b[49m\u001b[43mfilepath_or_buffer\u001b[49m\u001b[43m,\u001b[49m\u001b[43m \u001b[49m\u001b[43mstorage_options\u001b[49m\u001b[38;5;241;43m=\u001b[39;49m\u001b[43mstorage_options\u001b[49m\u001b[43m)\u001b[49m\n",
      "File \u001b[0;32m~/miniconda3/envs/sccoos/lib/python3.11/site-packages/pandas/io/excel/_base.py:540\u001b[0m, in \u001b[0;36mBaseExcelReader.__init__\u001b[0;34m(self, filepath_or_buffer, storage_options)\u001b[0m\n\u001b[1;32m    538\u001b[0m \u001b[38;5;28mself\u001b[39m\u001b[38;5;241m.\u001b[39mhandles\u001b[38;5;241m.\u001b[39mhandle\u001b[38;5;241m.\u001b[39mseek(\u001b[38;5;241m0\u001b[39m)\n\u001b[1;32m    539\u001b[0m \u001b[38;5;28;01mtry\u001b[39;00m:\n\u001b[0;32m--> 540\u001b[0m     \u001b[38;5;28mself\u001b[39m\u001b[38;5;241m.\u001b[39mbook \u001b[38;5;241m=\u001b[39m \u001b[38;5;28;43mself\u001b[39;49m\u001b[38;5;241;43m.\u001b[39;49m\u001b[43mload_workbook\u001b[49m\u001b[43m(\u001b[49m\u001b[38;5;28;43mself\u001b[39;49m\u001b[38;5;241;43m.\u001b[39;49m\u001b[43mhandles\u001b[49m\u001b[38;5;241;43m.\u001b[39;49m\u001b[43mhandle\u001b[49m\u001b[43m)\u001b[49m\n\u001b[1;32m    541\u001b[0m \u001b[38;5;28;01mexcept\u001b[39;00m \u001b[38;5;167;01mException\u001b[39;00m:\n\u001b[1;32m    542\u001b[0m     \u001b[38;5;28mself\u001b[39m\u001b[38;5;241m.\u001b[39mclose()\n",
      "File \u001b[0;32m~/miniconda3/envs/sccoos/lib/python3.11/site-packages/pandas/io/excel/_xlrd.py:48\u001b[0m, in \u001b[0;36mXlrdReader.load_workbook\u001b[0;34m(self, filepath_or_buffer)\u001b[0m\n\u001b[1;32m     46\u001b[0m \u001b[38;5;28;01mif\u001b[39;00m \u001b[38;5;28mhasattr\u001b[39m(filepath_or_buffer, \u001b[38;5;124m\"\u001b[39m\u001b[38;5;124mread\u001b[39m\u001b[38;5;124m\"\u001b[39m):\n\u001b[1;32m     47\u001b[0m     data \u001b[38;5;241m=\u001b[39m filepath_or_buffer\u001b[38;5;241m.\u001b[39mread()\n\u001b[0;32m---> 48\u001b[0m     \u001b[38;5;28;01mreturn\u001b[39;00m \u001b[43mopen_workbook\u001b[49m\u001b[43m(\u001b[49m\u001b[43mfile_contents\u001b[49m\u001b[38;5;241;43m=\u001b[39;49m\u001b[43mdata\u001b[49m\u001b[43m)\u001b[49m\n\u001b[1;32m     49\u001b[0m \u001b[38;5;28;01melse\u001b[39;00m:\n\u001b[1;32m     50\u001b[0m     \u001b[38;5;28;01mreturn\u001b[39;00m open_workbook(filepath_or_buffer)\n",
      "File \u001b[0;32m~/miniconda3/envs/sccoos/lib/python3.11/site-packages/xlrd/__init__.py:172\u001b[0m, in \u001b[0;36mopen_workbook\u001b[0;34m(filename, logfile, verbosity, use_mmap, file_contents, encoding_override, formatting_info, on_demand, ragged_rows, ignore_workbook_corruption)\u001b[0m\n\u001b[1;32m    169\u001b[0m \u001b[38;5;28;01mif\u001b[39;00m file_format \u001b[38;5;129;01mand\u001b[39;00m file_format \u001b[38;5;241m!=\u001b[39m \u001b[38;5;124m'\u001b[39m\u001b[38;5;124mxls\u001b[39m\u001b[38;5;124m'\u001b[39m:\n\u001b[1;32m    170\u001b[0m     \u001b[38;5;28;01mraise\u001b[39;00m XLRDError(FILE_FORMAT_DESCRIPTIONS[file_format]\u001b[38;5;241m+\u001b[39m\u001b[38;5;124m'\u001b[39m\u001b[38;5;124m; not supported\u001b[39m\u001b[38;5;124m'\u001b[39m)\n\u001b[0;32m--> 172\u001b[0m bk \u001b[38;5;241m=\u001b[39m \u001b[43mopen_workbook_xls\u001b[49m\u001b[43m(\u001b[49m\n\u001b[1;32m    173\u001b[0m \u001b[43m    \u001b[49m\u001b[43mfilename\u001b[49m\u001b[38;5;241;43m=\u001b[39;49m\u001b[43mfilename\u001b[49m\u001b[43m,\u001b[49m\n\u001b[1;32m    174\u001b[0m \u001b[43m    \u001b[49m\u001b[43mlogfile\u001b[49m\u001b[38;5;241;43m=\u001b[39;49m\u001b[43mlogfile\u001b[49m\u001b[43m,\u001b[49m\n\u001b[1;32m    175\u001b[0m \u001b[43m    \u001b[49m\u001b[43mverbosity\u001b[49m\u001b[38;5;241;43m=\u001b[39;49m\u001b[43mverbosity\u001b[49m\u001b[43m,\u001b[49m\n\u001b[1;32m    176\u001b[0m \u001b[43m    \u001b[49m\u001b[43muse_mmap\u001b[49m\u001b[38;5;241;43m=\u001b[39;49m\u001b[43muse_mmap\u001b[49m\u001b[43m,\u001b[49m\n\u001b[1;32m    177\u001b[0m \u001b[43m    \u001b[49m\u001b[43mfile_contents\u001b[49m\u001b[38;5;241;43m=\u001b[39;49m\u001b[43mfile_contents\u001b[49m\u001b[43m,\u001b[49m\n\u001b[1;32m    178\u001b[0m \u001b[43m    \u001b[49m\u001b[43mencoding_override\u001b[49m\u001b[38;5;241;43m=\u001b[39;49m\u001b[43mencoding_override\u001b[49m\u001b[43m,\u001b[49m\n\u001b[1;32m    179\u001b[0m \u001b[43m    \u001b[49m\u001b[43mformatting_info\u001b[49m\u001b[38;5;241;43m=\u001b[39;49m\u001b[43mformatting_info\u001b[49m\u001b[43m,\u001b[49m\n\u001b[1;32m    180\u001b[0m \u001b[43m    \u001b[49m\u001b[43mon_demand\u001b[49m\u001b[38;5;241;43m=\u001b[39;49m\u001b[43mon_demand\u001b[49m\u001b[43m,\u001b[49m\n\u001b[1;32m    181\u001b[0m \u001b[43m    \u001b[49m\u001b[43mragged_rows\u001b[49m\u001b[38;5;241;43m=\u001b[39;49m\u001b[43mragged_rows\u001b[49m\u001b[43m,\u001b[49m\n\u001b[1;32m    182\u001b[0m \u001b[43m    \u001b[49m\u001b[43mignore_workbook_corruption\u001b[49m\u001b[38;5;241;43m=\u001b[39;49m\u001b[43mignore_workbook_corruption\u001b[49m\u001b[43m,\u001b[49m\n\u001b[1;32m    183\u001b[0m \u001b[43m\u001b[49m\u001b[43m)\u001b[49m\n\u001b[1;32m    185\u001b[0m \u001b[38;5;28;01mreturn\u001b[39;00m bk\n",
      "File \u001b[0;32m~/miniconda3/envs/sccoos/lib/python3.11/site-packages/xlrd/book.py:107\u001b[0m, in \u001b[0;36mopen_workbook_xls\u001b[0;34m(filename, logfile, verbosity, use_mmap, file_contents, encoding_override, formatting_info, on_demand, ragged_rows, ignore_workbook_corruption)\u001b[0m\n\u001b[1;32m    105\u001b[0m     bk\u001b[38;5;241m.\u001b[39m_sheet_list \u001b[38;5;241m=\u001b[39m [\u001b[38;5;28;01mNone\u001b[39;00m \u001b[38;5;28;01mfor\u001b[39;00m sh \u001b[38;5;129;01min\u001b[39;00m bk\u001b[38;5;241m.\u001b[39m_sheet_names]\n\u001b[1;32m    106\u001b[0m     \u001b[38;5;28;01mif\u001b[39;00m \u001b[38;5;129;01mnot\u001b[39;00m on_demand:\n\u001b[0;32m--> 107\u001b[0m         \u001b[43mbk\u001b[49m\u001b[38;5;241;43m.\u001b[39;49m\u001b[43mget_sheets\u001b[49m\u001b[43m(\u001b[49m\u001b[43m)\u001b[49m\n\u001b[1;32m    108\u001b[0m bk\u001b[38;5;241m.\u001b[39mnsheets \u001b[38;5;241m=\u001b[39m \u001b[38;5;28mlen\u001b[39m(bk\u001b[38;5;241m.\u001b[39m_sheet_list)\n\u001b[1;32m    109\u001b[0m \u001b[38;5;28;01mif\u001b[39;00m biff_version \u001b[38;5;241m==\u001b[39m \u001b[38;5;241m45\u001b[39m \u001b[38;5;129;01mand\u001b[39;00m bk\u001b[38;5;241m.\u001b[39mnsheets \u001b[38;5;241m>\u001b[39m \u001b[38;5;241m1\u001b[39m:\n",
      "File \u001b[0;32m~/miniconda3/envs/sccoos/lib/python3.11/site-packages/xlrd/book.py:722\u001b[0m, in \u001b[0;36mBook.get_sheets\u001b[0;34m(self)\u001b[0m\n\u001b[1;32m    720\u001b[0m \u001b[38;5;28;01mfor\u001b[39;00m sheetno \u001b[38;5;129;01min\u001b[39;00m xrange(\u001b[38;5;28mlen\u001b[39m(\u001b[38;5;28mself\u001b[39m\u001b[38;5;241m.\u001b[39m_sheet_names)):\n\u001b[1;32m    721\u001b[0m     \u001b[38;5;28;01mif\u001b[39;00m DEBUG: \u001b[38;5;28mprint\u001b[39m(\u001b[38;5;124m\"\u001b[39m\u001b[38;5;124mGET_SHEETS: sheetno =\u001b[39m\u001b[38;5;124m\"\u001b[39m, sheetno, \u001b[38;5;28mself\u001b[39m\u001b[38;5;241m.\u001b[39m_sheet_names, \u001b[38;5;28mself\u001b[39m\u001b[38;5;241m.\u001b[39m_sh_abs_posn, file\u001b[38;5;241m=\u001b[39m\u001b[38;5;28mself\u001b[39m\u001b[38;5;241m.\u001b[39mlogfile)\n\u001b[0;32m--> 722\u001b[0m     \u001b[38;5;28;43mself\u001b[39;49m\u001b[38;5;241;43m.\u001b[39;49m\u001b[43mget_sheet\u001b[49m\u001b[43m(\u001b[49m\u001b[43msheetno\u001b[49m\u001b[43m)\u001b[49m\n",
      "File \u001b[0;32m~/miniconda3/envs/sccoos/lib/python3.11/site-packages/xlrd/book.py:713\u001b[0m, in \u001b[0;36mBook.get_sheet\u001b[0;34m(self, sh_number, update_pos)\u001b[0m\n\u001b[1;32m    702\u001b[0m \u001b[38;5;66;03m# assert biff_version == self.biff_version ### FAILS\u001b[39;00m\n\u001b[1;32m    703\u001b[0m \u001b[38;5;66;03m# Have an example where book is v7 but sheet reports v8!!!\u001b[39;00m\n\u001b[1;32m    704\u001b[0m \u001b[38;5;66;03m# It appears to work OK if the sheet version is ignored.\u001b[39;00m\n\u001b[1;32m    705\u001b[0m \u001b[38;5;66;03m# Confirmed by Daniel Rentz: happens when Excel does \"save as\"\u001b[39;00m\n\u001b[1;32m    706\u001b[0m \u001b[38;5;66;03m# creating an old version file; ignore version details on sheet BOF.\u001b[39;00m\n\u001b[1;32m    707\u001b[0m sh \u001b[38;5;241m=\u001b[39m sheet\u001b[38;5;241m.\u001b[39mSheet(\n\u001b[1;32m    708\u001b[0m     \u001b[38;5;28mself\u001b[39m,\n\u001b[1;32m    709\u001b[0m     \u001b[38;5;28mself\u001b[39m\u001b[38;5;241m.\u001b[39m_position,\n\u001b[1;32m    710\u001b[0m     \u001b[38;5;28mself\u001b[39m\u001b[38;5;241m.\u001b[39m_sheet_names[sh_number],\n\u001b[1;32m    711\u001b[0m     sh_number,\n\u001b[1;32m    712\u001b[0m )\n\u001b[0;32m--> 713\u001b[0m \u001b[43msh\u001b[49m\u001b[38;5;241;43m.\u001b[39;49m\u001b[43mread\u001b[49m\u001b[43m(\u001b[49m\u001b[38;5;28;43mself\u001b[39;49m\u001b[43m)\u001b[49m\n\u001b[1;32m    714\u001b[0m \u001b[38;5;28mself\u001b[39m\u001b[38;5;241m.\u001b[39m_sheet_list[sh_number] \u001b[38;5;241m=\u001b[39m sh\n\u001b[1;32m    715\u001b[0m \u001b[38;5;28;01mreturn\u001b[39;00m sh\n",
      "File \u001b[0;32m~/miniconda3/envs/sccoos/lib/python3.11/site-packages/xlrd/sheet.py:874\u001b[0m, in \u001b[0;36mSheet.read\u001b[0;34m(self, bk)\u001b[0m\n\u001b[1;32m    872\u001b[0m \u001b[38;5;28;01mfor\u001b[39;00m colx \u001b[38;5;129;01min\u001b[39;00m xrange(mulrk_first, mulrk_last\u001b[38;5;241m+\u001b[39m\u001b[38;5;241m1\u001b[39m):\n\u001b[1;32m    873\u001b[0m     xf_index, \u001b[38;5;241m=\u001b[39m local_unpack(\u001b[38;5;124m'\u001b[39m\u001b[38;5;124m<H\u001b[39m\u001b[38;5;124m'\u001b[39m, data[pos:pos\u001b[38;5;241m+\u001b[39m\u001b[38;5;241m2\u001b[39m])\n\u001b[0;32m--> 874\u001b[0m     d \u001b[38;5;241m=\u001b[39m \u001b[43munpack_RK\u001b[49m\u001b[43m(\u001b[49m\u001b[43mdata\u001b[49m\u001b[43m[\u001b[49m\u001b[43mpos\u001b[49m\u001b[38;5;241;43m+\u001b[39;49m\u001b[38;5;241;43m2\u001b[39;49m\u001b[43m:\u001b[49m\u001b[43mpos\u001b[49m\u001b[38;5;241;43m+\u001b[39;49m\u001b[38;5;241;43m6\u001b[39;49m\u001b[43m]\u001b[49m\u001b[43m)\u001b[49m\n\u001b[1;32m    875\u001b[0m     pos \u001b[38;5;241m+\u001b[39m\u001b[38;5;241m=\u001b[39m \u001b[38;5;241m6\u001b[39m\n\u001b[1;32m    876\u001b[0m     self_put_cell(mulrk_row, colx, \u001b[38;5;28;01mNone\u001b[39;00m, d, xf_index)\n",
      "File \u001b[0;32m~/miniconda3/envs/sccoos/lib/python3.11/site-packages/xlrd/sheet.py:2230\u001b[0m, in \u001b[0;36munpack_RK\u001b[0;34m(rk_str)\u001b[0m\n\u001b[1;32m   2227\u001b[0m     \u001b[38;5;28;01mreturn\u001b[39;00m \u001b[38;5;28mfloat\u001b[39m(i)\n\u001b[1;32m   2228\u001b[0m \u001b[38;5;28;01melse\u001b[39;00m:\n\u001b[1;32m   2229\u001b[0m     \u001b[38;5;66;03m# It's the most significant 30 bits of an IEEE 754 64-bit FP number\u001b[39;00m\n\u001b[0;32m-> 2230\u001b[0m     d, \u001b[38;5;241m=\u001b[39m unpack(\u001b[38;5;124m'\u001b[39m\u001b[38;5;124m<d\u001b[39m\u001b[38;5;124m'\u001b[39m, \u001b[38;5;124mb\u001b[39m\u001b[38;5;124m'\u001b[39m\u001b[38;5;130;01m\\0\u001b[39;00m\u001b[38;5;130;01m\\0\u001b[39;00m\u001b[38;5;130;01m\\0\u001b[39;00m\u001b[38;5;130;01m\\0\u001b[39;00m\u001b[38;5;124m'\u001b[39m \u001b[38;5;241m+\u001b[39m BYTES_LITERAL(\u001b[38;5;28mchr\u001b[39m(flags \u001b[38;5;241m&\u001b[39m \u001b[38;5;241m252\u001b[39m)) \u001b[38;5;241m+\u001b[39m rk_str[\u001b[38;5;241m1\u001b[39m:\u001b[38;5;241m4\u001b[39m])\n\u001b[1;32m   2231\u001b[0m     \u001b[38;5;28;01mif\u001b[39;00m flags \u001b[38;5;241m&\u001b[39m \u001b[38;5;241m1\u001b[39m:\n\u001b[1;32m   2232\u001b[0m         \u001b[38;5;28;01mreturn\u001b[39;00m d \u001b[38;5;241m/\u001b[39m \u001b[38;5;241m100.0\u001b[39m\n",
      "\u001b[0;31mKeyboardInterrupt\u001b[0m: "
     ]
    }
   ],
   "source": [
    "scripps_SST = count_nobs('Scripps Pier', 'SST', 'SIO_TEMP_20230501.xls')\n",
    "scripps_SBT = count_nobs('Scripps Pier', 'SBT', 'SIO_TEMP_20230501.xls')\n",
    "scripps_SST, scripps_SBT"
   ]
  },
  {
   "cell_type": "markdown",
   "metadata": {},
   "source": [
    "Special case: Trinidad Beach & Bay are counted as one \"station\" but have two spreadsheets"
   ]
  },
  {
   "cell_type": "code",
   "execution_count": 6,
   "metadata": {},
   "outputs": [
    {
     "data": {
      "text/plain": [
       "['35366', 'Trinidad Beach & Bay']"
      ]
     },
     "execution_count": 6,
     "metadata": {},
     "output_type": "execute_result"
    }
   ],
   "source": [
    "trinidad = count_nobs('Trinidad Beach & Bay', 'SST', 'TrinidadBeach_TEMP_1975-20230622.xls', 'TrinidadBeach_TEMP_1975-20230622.xls') #TODO replace one filename with Trinidad Bay file, here just using Trinidad Beach as a dummy\n",
    "trinidad"
   ]
  },
  {
   "cell_type": "markdown",
   "metadata": {},
   "source": [
    "## `draw_nobs()`\n",
    "`draw_nobs()` generates and saves a visualization depicting observation counts along with corresponding station and mode information.\n",
    "\n",
    "### Inputs\n",
    "- `count_n_obs`: A list containing observation count, bottom text, station name, and mode as its elements.\n",
    "\n",
    "### Algorithm\n",
    "1. Extract the observation count, bottom text, station name, and mode from the `count_n_obs` list.\n",
    "2. Define dictionaries containing styling parameters like font sizes, font positions, and image heights for different station and mode combinations.\n",
    "3. Construct a unique key for the dictionaries using the station name and mode.\n",
    "4. Create a new figure and axes for the plot with a predefined image height and resolution.\n",
    "5. Configure plot limits, turn off axis display, and add annotations for the observation count and bottom text.\n",
    "6. Convert the station and mode combination into a filename-friendly format.\n",
    "7. Save the plot as an image file.\n",
    "8. Open the saved image, crop it to remove excess whitespace, and save the cropped image.\n",
    "\n",
    "### Outputs\n",
    "A PNG image file representing the visualization of observation counts for the given station and mode. The filename is derived from the station and mode information."
   ]
  },
  {
   "cell_type": "code",
   "execution_count": null,
   "metadata": {},
   "outputs": [],
   "source": [
    "def draw_nobs(nobs):\n",
    "    obs_count = nobs\n",
    "\n",
    "    x = np.arange(0, 10, 0.1)\n",
    "    y = 1\n",
    "\n",
    "    ax.plot(y, color='blue', label='Sine wave')\n",
    "\n",
    "    plt.xlim([0, 50])\n",
    "    plt.ylim([0, 20])\n",
    "\n",
    "    plt.axis('off')\n",
    "\n",
    "    plt.annotate(obs_count[0:2]+','+obs_count[2:], fontsize = 85, c='hotpink', xy=(.1,.9), xycoords=\"axes fraction\") #TODO Change to hot pink"
   ]
  },
  {
   "cell_type": "markdown",
   "metadata": {},
   "source": [
    "### Example behavior for `draw_nobs`"
   ]
  },
  {
   "cell_type": "code",
   "execution_count": 8,
   "metadata": {},
   "outputs": [
    {
     "data": {
      "image/png": "[encoded data removed]",
      "text/plain": [
       "<Figure size 400x40 with 1 Axes>"
      ]
     },
     "metadata": {},
     "output_type": "display_data"
    }
   ],
   "source": [
    "from matplotlib.animation import FuncAnimation\n",
    "fig, ax = plt.subplots(figsize=(1,0.1), dpi=400)\n",
    "ani = FuncAnimation(fig, draw_nobs, frames=35855)\n",
    "plt.show()"
   ]
  },
  {
   "cell_type": "code",
   "execution_count": null,
   "metadata": {},
   "outputs": [],
   "source": []
  }
 ],
 "metadata": {
  "kernelspec": {
   "display_name": "Python 3",
   "language": "python",
   "name": "python3"
  },
  "language_info": {
   "codemirror_mode": {
    "name": "ipython",
    "version": 3
   },
   "file_extension": ".py",
   "mimetype": "text/x-python",
   "name": "python",
   "nbconvert_exporter": "python",
   "pygments_lexer": "ipython3",
   "version": "3.11.5"
  },
  "orig_nbformat": 4
 },
 "nbformat": 4,
 "nbformat_minor": 2
}
